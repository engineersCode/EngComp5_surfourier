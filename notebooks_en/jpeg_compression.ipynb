{
 "cells": [
  {
   "cell_type": "markdown",
   "metadata": {},
   "source": [
    "## Compression image and the Fast Fourier Transform\n",
    "\n",
    "This lesson is based on the Image Compression youtube lessons from Steve Barton:\n",
    "- [Image compreesion and FFT](https://www.youtube.com/watch?v=gGEBUdM0PVc&ab_channel=SteveBrunton)\n",
    "- [Image compression and FFT (Example in Python)](https://www.youtube.com/watch?v=uB3v6n8t2dQ&t=301s&ab_channel=SteveBrunton)\n",
    "\n",
    "\n",
    "The Fourier transform as we saw in the past lessons, is a transform that decompose a function in terms of sines and cosines, and we can compute the coefficents efficiently using the \"fast fourier transform\" algorithm. Luckly, this algorithm is already a built in function in `numpy` so we can go ahead and use it. \n",
    "\n",
    "One of the most common applications of the Fast Fourier Transform (FFT) is compression, compression of audio, video, images, etc. In this notebook we will see an example of image compression, for which we will use a 2D fast fourier transform `fft2`. The idea behind a two-dimensional FFT is  that we applied FFT to all the rows and then to all the columns of our 2D image. Fortunately, `numpy` already has a 2D fft implementation `numpy.fft.fft2` that we will apply to our pixels and get the fourier coefficients of our image. Most of this coefficients will be very small and we will be able to discard them and keep the higher ones. We will see that by just keeping a small percentage of coefficients we can recover the original image by applying the inverse of the FFT. This process is what is behind all types of compressions compression. For real applications wavelets transforms are implemented since they give better results, but the process behind is the same. Let's take a look in an actual example.\n",
    "\n",
    "When we are saving a JPG image in our phones or computers we are saving only the small percentage of pixels that recovers the image, which can be display very fast thanks to the inverse FFT.\n"
   ]
  },
  {
   "cell_type": "code",
   "execution_count": null,
   "metadata": {},
   "outputs": [],
   "source": [
    "from matplotlib import pyplot\n",
    "from matplotlib.image import imread\n",
    "import numpy"
   ]
  },
  {
   "cell_type": "code",
   "execution_count": null,
   "metadata": {},
   "outputs": [],
   "source": [
    "pyplot.rcParams['figure.figsize'] = [9.8, 6.53]"
   ]
  },
  {
   "cell_type": "markdown",
   "metadata": {},
   "source": [
    "We can \"read\" and image as an 3D `numpy` array using `imread` (one matrix per RBG channel) and display it using `pyplot.imshow`."
   ]
  },
  {
   "cell_type": "code",
   "execution_count": null,
   "metadata": {},
   "outputs": [],
   "source": [
    "A= imread('../images/blm.jpg')"
   ]
  },
  {
   "cell_type": "code",
   "execution_count": null,
   "metadata": {},
   "outputs": [],
   "source": [
    "pyplot.imshow(A)\n",
    "pyplot.axis('off');"
   ]
  },
  {
   "cell_type": "markdown",
   "metadata": {},
   "source": [
    "If we check the shape of our array, we have three dimensions. We have a three 653x980 matrix, each of these matrices correspond to a RBG (Red-Blue-Green) channel. "
   ]
  },
  {
   "cell_type": "code",
   "execution_count": null,
   "metadata": {},
   "outputs": [],
   "source": [
    "numpy.shape(A)"
   ]
  },
  {
   "cell_type": "markdown",
   "metadata": {},
   "source": [
    "For simplicity, we will convert the RBG to a grey scale and only work with one matrix. We do this by averaging along the third axis (in `python` index 2). For each pixel we take the average between its value in the red, blue and green channels. "
   ]
  },
  {
   "cell_type": "code",
   "execution_count": null,
   "metadata": {},
   "outputs": [],
   "source": [
    "Ags = numpy.mean(A, axis=2)"
   ]
  },
  {
   "cell_type": "code",
   "execution_count": null,
   "metadata": {},
   "outputs": [],
   "source": [
    "numpy.shape(Ags)"
   ]
  },
  {
   "cell_type": "code",
   "execution_count": null,
   "metadata": {},
   "outputs": [],
   "source": [
    "pyplot.imshow(Ags, cmap='gray')\n",
    "pyplot.axis('off');"
   ]
  },
  {
   "cell_type": "markdown",
   "metadata": {},
   "source": [
    "We compute the fourier transform in 2D and plot we can plot the magnitud of each coefficient by taking the absolute value of the complex array. We plot it in log-scale to be more visible the difference. "
   ]
  },
  {
   "cell_type": "code",
   "execution_count": null,
   "metadata": {},
   "outputs": [],
   "source": [
    "from matplotlib.colors import LogNorm"
   ]
  },
  {
   "cell_type": "code",
   "execution_count": null,
   "metadata": {},
   "outputs": [],
   "source": [
    "FF = numpy.fft.fft2(Ags)\n",
    "fig = pyplot.figure(figsize=(6,6))\n",
    "pyplot.imshow(abs(FF), cmap ='gray', norm=LogNorm(vmin=numpy.min(abs(FF)), vmax=numpy.max(abs(FF))));\n",
    "\n",
    "#pyplot.imshow(numpy.log(abs(FF)), cmap ='gray');\n"
   ]
  },
  {
   "cell_type": "code",
   "execution_count": null,
   "metadata": {},
   "outputs": [],
   "source": [
    "numpy.min(abs(FF))"
   ]
  },
  {
   "cell_type": "markdown",
   "metadata": {},
   "source": [
    "Let's display the zeroeth coefficient in the center, to do that we use the `fftshift` function, and let's plot a colorbar along with the plot. "
   ]
  },
  {
   "cell_type": "code",
   "execution_count": null,
   "metadata": {},
   "outputs": [],
   "source": [
    "# It is more convenient to display the (0,0) frequency in the center\n",
    "FF_s = numpy.fft.fftshift(FF)\n",
    "fig = pyplot.figure(figsize=(6,6))\n",
    "ax = pyplot.axes()\n",
    "im = pyplot.imshow(abs(FF_s), cmap ='gray', norm=LogNorm(vmin=numpy.min(abs(FF_s)), vmax=numpy.max(abs(FF_s))))\n",
    "\n",
    "#this is to get color bar matching side of plot. \n",
    "cax = fig.add_axes([ax.get_position().x1+0.01,ax.get_position().y0,0.02,ax.get_position().height])\n",
    "\n",
    "pyplot.colorbar(im, cax=cax);\n",
    "#pyplot.imshow(numpy.log(abs(FF_s)), cmap ='gray');"
   ]
  },
  {
   "cell_type": "markdown",
   "metadata": {},
   "source": [
    "Now let's see what happen if we keep only a small percentage of the coefficients. To do this, we will reshape the 2D array into a 1D long array which we will sort and then zero out everything but the top percentage. \n"
   ]
  },
  {
   "cell_type": "code",
   "execution_count": null,
   "metadata": {},
   "outputs": [],
   "source": [
    "#reshape(FF, -1) the -1 means that the length of the 1D array \n",
    "# is inferred from the length of the array and remaining dimensions.\n",
    "\n",
    "#We sort the array and then inverted the order to get the higher values first\n",
    "Bt = numpy.sort(numpy.abs(numpy.reshape(FF,-1)))[::-1]\n",
    "\n",
    "\n",
    "keep = 0.03 #let's say we want to keep 3% \n",
    "#we multiply the len(Bt) by keep which will give use the top 3% index cut off after we take the int() and use this index\n",
    "#to get the threshold value\n",
    "thresh = Bt[int((keep)*len(Bt))]\n",
    "\n",
    "#We create a mask array by checking where the coefficients amplitud is bigger than the threshold \n",
    "ind = numpy.abs(FF) > thresh\n",
    "\n",
    "#we keep the top values determined by the throshold by multiplying the coefficients array by the mask\n",
    "# This will zeroed all the values below the threshold\n",
    "Atlow = FF * ind\n",
    "\n",
    "#Now we plot the amplitude, shifted to the center in a log scale \n",
    "# Put FFT on log scale we added 1e-12 to not get error when taking log of 0\n",
    "\n",
    "Flow = numpy.log(numpy.abs(numpy.fft.fftshift(Atlow)+1e-12)) \n",
    "\n",
    "fig = pyplot.figure(figsize=(6,6))\n",
    "pyplot.imshow(Flow,cmap='gray')\n",
    "#pyplot.axis('off')\n",
    "#pyplot.show()"
   ]
  },
  {
   "cell_type": "code",
   "execution_count": null,
   "metadata": {},
   "outputs": [],
   "source": [
    "numpy.shape(Atlow)"
   ]
  },
  {
   "cell_type": "code",
   "execution_count": null,
   "metadata": {},
   "outputs": [],
   "source": [
    "thresh"
   ]
  },
  {
   "cell_type": "markdown",
   "metadata": {},
   "source": [
    "Now if we apply the inverse of the Fast fourier transform we should recover a version of the image that is coarser than the original. The question is, do we have enough information to recover a similar image? \n",
    "\n",
    "Keep in mind that `ifft` returns a complex array, but in this case the complex part should be nearly zero. To plot the image, we take the real part of the array after the `ifft` was applied. "
   ]
  },
  {
   "cell_type": "code",
   "execution_count": null,
   "metadata": {},
   "outputs": [],
   "source": [
    "Alow = numpy.fft.ifft2(Atlow)\n",
    "pyplot.imshow(Alow.real, cmap='gray')\n",
    "pyplot.axis('off');"
   ]
  },
  {
   "cell_type": "markdown",
   "metadata": {},
   "source": [
    "We can check that the imaginary values are close to zero by checking the imaginary part of the `Alow` array. "
   ]
  },
  {
   "cell_type": "code",
   "execution_count": null,
   "metadata": {},
   "outputs": [],
   "source": [
    "Alow.imag"
   ]
  },
  {
   "cell_type": "code",
   "execution_count": null,
   "metadata": {},
   "outputs": [],
   "source": [
    "numpy.max(Alow.imag)"
   ]
  },
  {
   "cell_type": "markdown",
   "metadata": {},
   "source": [
    "### ADD DIFFERENT KEEP VALUES, CREATE FOR LOOP TO DO THAT, OR LEAVE AS EXERCISE. \n"
   ]
  },
  {
   "cell_type": "markdown",
   "metadata": {},
   "source": [
    "Image as a surface plot of pixel intensities. The brightest points are the highest and lighter in color. "
   ]
  },
  {
   "cell_type": "code",
   "execution_count": null,
   "metadata": {},
   "outputs": [],
   "source": [
    "from mpl_toolkits.mplot3d import Axes3D\n"
   ]
  },
  {
   "cell_type": "code",
   "execution_count": null,
   "metadata": {},
   "outputs": [],
   "source": [
    "# Rotate the plot down and play around"
   ]
  },
  {
   "cell_type": "code",
   "execution_count": null,
   "metadata": {},
   "outputs": [],
   "source": [
    "%matplotlib notebook\n",
    "pyplot.rcParams['figure.figsize'] = [9.8, 6.53]\n",
    "\n",
    "fig = pyplot.figure()\n",
    "ax = fig.add_subplot(111, projection='3d')\n",
    "\n",
    "X,Y = numpy.meshgrid(numpy.arange(0, numpy.shape(Alow)[1]), numpy.arange(0, numpy.shape(Alow)[0]))\n",
    "ax.plot_surface(X[0::5, 0::5], Y[0::5, 0::5], Ags[0::5, 0::5], cmap='viridis') #we are jumping each 5 to not overload the plot\n",
    "#ax.view_init(-88,-90)\n",
    "#ax.view_init(0,0)\n"
   ]
  }
 ],
 "metadata": {
  "kernelspec": {
   "display_name": "Python 3",
   "language": "python",
   "name": "python3"
  },
  "language_info": {
   "codemirror_mode": {
    "name": "ipython",
    "version": 3
   },
   "file_extension": ".py",
   "mimetype": "text/x-python",
   "name": "python",
   "nbconvert_exporter": "python",
   "pygments_lexer": "ipython3",
   "version": "3.7.3"
  }
 },
 "nbformat": 4,
 "nbformat_minor": 2
}
