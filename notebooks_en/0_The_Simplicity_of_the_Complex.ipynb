{
 "cells": [
  {
   "cell_type": "markdown",
   "metadata": {},
   "source": [
    "###### Content under Creative Commons Attribution license CC-BY 4.0, code under BSD 3-Clause License © 2020 L.A. Barba, N.C. Clementi"
   ]
  },
  {
   "cell_type": "markdown",
   "metadata": {},
   "source": [
    "# The simplicity of the complex"
   ]
  },
  {
   "cell_type": "markdown",
   "metadata": {},
   "source": [
    "Welcome to a new module of the _Engineering Computations_ series! In this module, we lay a foundation for learning about Fourier series and Fourier transforms in science and engineering. \n",
    "The applications of these mathematical tools are vast: signal processing, acoustics, astronomy, statistics, even medical imaging, and music synthesis! \n",
    "\n",
    "But before we delve into it, we need to know a little about **complex numbers**, and this \"lesson zero\" of the module aims to give you a simple introduction or refresher to them."
   ]
  },
  {
   "cell_type": "markdown",
   "metadata": {},
   "source": [
    "## What are complex numbers?\n",
    "\n",
    "One of our favorite YouTubers, Grant Sanderson, did a live stream on 24 April 2020 on [\"Complex number fundamantals,\"](https://www.youtube.com/watch?v=5PcpBw5Hbwo) and we highly recommend the video!\n",
    "\n",
    "Let's review. When you learned about taking _powers_ of numbers, you found that every time you _square_ a number, the result is positive—whether the number is positive or negative. E.g., $5^2=25$ and $(-5)^2=25$.\n",
    "\n",
    "At some point in recent history, mathematicians neded a number that, when squared, would give $-1$ as a result. So they went ahead and _defined_ it and called it $i$: \n",
    "\n",
    "$$i^2 = -1$$\n",
    "\n",
    "Just like that. Poof! When they first came up with this idea, others were unconvinced: they called this an _imaginary number_, with scorn. \n",
    "\n",
    "<img src=\"../images/imaginary_friends.jpg\" style=\"width: 400px;\"/>\n",
    "\n",
    "#### Credit: Keaton Stoos"
   ]
  },
  {
   "cell_type": "markdown",
   "metadata": {},
   "source": [
    "Next, as Grant recounts, the mathematicians gave this number and its multiples a home _in another dimension_. You know that the real numbers live on the real line, which we take to be a horizontal axis. The imaginary numbers, which are multiples of $i$, live on a vertical axis, as shown on the sketch.\n",
    "\n",
    "<img src=\"../images/complex_plane.png\" style=\"width: 300px;\"/>\n",
    "\n",
    "Now, all numbers live on a plane, so they are like _vectors_, and their components are the real and imaginary part: they are _complex numbers_. When the imaginary part is zero, we fall back on the real line, where the dimension is one: scalars. There you have it!\n",
    "\n",
    "Since complex numbers live on a plane, they are two-dimensional vectors, and we know how to _add_ them: add each component separately to get a new complex number. We know how to multiply them by a scalar: multiply each component. But how do we _multiply two complex numbers_?\n",
    "\n",
    "For example, what happens to a complex number if you multiply it by $i$? Take $i\\,(3+2i)$. Similar to scalar multiplication, let's multiply each component: $3i + 2i^2$. Aha! Since $i^2=-1$, we get: $-2+3i$."
   ]
  },
  {
   "cell_type": "markdown",
   "metadata": {},
   "source": [
    "Let's now begin an exploration with computing. To start, load our favorite libraries of the Python ecosystem (and set some font parameters for our plots)."
   ]
  },
  {
   "cell_type": "code",
   "execution_count": null,
   "metadata": {},
   "outputs": [],
   "source": [
    "import numpy\n",
    "from matplotlib import pyplot\n",
    "%matplotlib inline\n",
    "\n",
    "pyplot.rc('font', family='serif', size='16')"
   ]
  },
  {
   "cell_type": "markdown",
   "metadata": {},
   "source": [
    "Below, we plot two vectors corresponding to the complex numbers $(3,2)$ and $(-2,3)$. We use Matplotlib's [`quiver`](https://matplotlib.org/3.1.1/api/_as_gen/matplotlib.pyplot.quiver.html) function, even if it is designed to plot a 2D field of arrows. "
   ]
  },
  {
   "cell_type": "code",
   "execution_count": null,
   "metadata": {},
   "outputs": [],
   "source": [
    "pyplot.figure(figsize=(4,4))\n",
    "darkblue = '#004065'\n",
    "lightblue = '#0096d6'\n",
    "pyplot.quiver(0,0, 3,2, angles='xy', scale_units='xy', scale=1, color=darkblue)\n",
    "pyplot.quiver(0,0, -2,3,angles='xy', scale_units='xy', scale=1, color=lightblue)\n",
    "pyplot.xlim(-4,4)\n",
    "pyplot.ylim(-4,4)\n",
    "pyplot.grid(True);"
   ]
  },
  {
   "cell_type": "markdown",
   "metadata": {},
   "source": [
    "We observe that multiplying by $i$ transformed the original complex number by rotating it counterclockwise by 90 degrees. This is an important observation!\n",
    "\n",
    "If you think about any unit vector (let's draw a unit circle), with coordinates $(\\cos{\\theta}, \\sin{\\theta})$, the effect of a rotation by 90 degrees is always to swap the coordinate values and flip the sign of the first coordinate, to give: $(-\\sin{\\theta}, \\cos{\\theta})$. Multiplying by $i$ has the same effect. Neat.\n",
    "\n",
    "<img src=\"../images/unitcircle_rot.png\" style=\"width: 300px;\"/>\n",
    "\n",
    "#### A rotation by 90 degrees on the unit circle."
   ]
  },
  {
   "cell_type": "markdown",
   "metadata": {},
   "source": [
    "### Understanding $x^2=-1$\n",
    "\n",
    "This section was inspired by [A Visual, Intuitive Guide to Imaginary Numbers](https://betterexplained.com/articles/a-visual-intuitive-guide-to-imaginary-numbers/)"
   ]
  },
  {
   "cell_type": "markdown",
   "metadata": {},
   "source": [
    "If you ever took some math course, you were probably exposed to an equation of the form $x^2 = a$ where $a>=0$. To pick an example we can say $x^2=25$, or $1 . x . x = 25$ and ask the question, \n",
    "\n",
    "**What transformation x, when we apply it twice, turns 1 into 25?**\n",
    "\n",
    "There are two answers to this questions:\n",
    "\n",
    "1. x = 5, meaning you can scale 5. \n",
    "2. x = -5, meaning scale by 5 and flip (flip is an interpretation of multiplying by a negative)\n",
    "\n",
    "Now if we try to solve the following problem, \n",
    "\n",
    "$$x^2 = -1$$\n",
    "\n",
    "what would that transformation be?\n",
    "\n",
    "* We can't multiply by a positive number twice, since the result will be positive.\n",
    "\n",
    "* We can't multiply by a negative number twice, because again we will get a positive number. \n",
    "\n",
    "\n",
    "#### Discuss with your neighbor\n",
    "\n",
    "- What kind of transformation, when applied it twice, will turn 1 into -1?"
   ]
  },
  {
   "cell_type": "markdown",
   "metadata": {},
   "source": [
    "If you got excited and scrolled down too much, now you know that the transformation is a **rotation**. In particular a rotation by 90°, if we apply it twice it gives as a flip from 1 to -1. \n",
    "\n",
    "<img src=\"../images/real_imag_rot.png\" style=\"width: 400px;\"/>\n",
    "\n",
    "In this case we rotated counter clockwise to turn 1 into -1, this can be thought as multiplying by $i$ twice. We could also rotate twice in the clockwise direction, or multiply by $-i$ twice, to obtain the same result. Then, we see that there two square roots of -1, $i$ and $-i$. \n",
    "\n",
    "As you can see in the figure above $i$ belongs to the new dimension, this is the \"imaginary dimension\", and it is where numbers land when we rotate them. \n",
    "\n",
    "Let's explore all what we've learn by playing around with python complex numbers and some built in functions of the module `cmath`.\n",
    "\n",
    "In python imaginary numbers are represented by the letter `j` instead of `i`. For example, the complex number `z= 1+i` would be:"
   ]
  },
  {
   "cell_type": "code",
   "execution_count": null,
   "metadata": {},
   "outputs": [],
   "source": [
    "z = 1+1j"
   ]
  },
  {
   "cell_type": "markdown",
   "metadata": {},
   "source": [
    "We can check the type of `z` by using the built in function `type()`"
   ]
  },
  {
   "cell_type": "code",
   "execution_count": null,
   "metadata": {},
   "outputs": [],
   "source": [
    "type(z)"
   ]
  },
  {
   "cell_type": "markdown",
   "metadata": {},
   "source": [
    "We can check what is the real and imaginary parts by doing:"
   ]
  },
  {
   "cell_type": "code",
   "execution_count": null,
   "metadata": {},
   "outputs": [],
   "source": [
    "z.real"
   ]
  },
  {
   "cell_type": "code",
   "execution_count": null,
   "metadata": {},
   "outputs": [],
   "source": [
    "z.imag"
   ]
  },
  {
   "cell_type": "markdown",
   "metadata": {},
   "source": [
    "Complex numbers have some properties that define them,like the \"complex modulus\" or \"complex norm\", and the angle also known as \"phase\" or \"argument\". \n",
    "\n",
    "The absolute square is defined as:\n",
    "\n",
    "$$|z|^2 = z\\bar{z}$$\n",
    "\n",
    "and the modulus is defined as:\n",
    "\n",
    "$$|z| = \\sqrt{z\\bar{z}} $$\n",
    "\n",
    "where $\\bar{z}$ is the complex conjugate. If $z=a+bi$ then its complex conjugate is $\\bar{z}=a -bi$. "
   ]
  },
  {
   "cell_type": "markdown",
   "metadata": {},
   "source": [
    "##### Exercise\n",
    "\n",
    "Write a function that computes the modulus of a complex number. \n",
    "Tips (you don't need to use them all): \n",
    "- To extract the real and imaginary part you can use `z.real` and `z.imag`\n",
    "- There is a `numpy` built-in function that computes the complex conjugate.  "
   ]
  },
  {
   "cell_type": "markdown",
   "metadata": {},
   "source": [
    "The phase of `z`, defined as the angle of the radius (from origin to `z`) with the positive real axis, can be computed as, the `arctan2(z.imag, z.real)` where `arctan2(x1,x2)` is the arc tangent of `x1/x2` choosing the proper quadrant. Likely, `numpy` has this function built-in, and you can read its documentation in the following link [`numpy.arctan2`](https://docs.scipy.org/doc/numpy/reference/generated/numpy.arctan2.html).\n",
    "\n",
    "Then,\n",
    "\n",
    "$$\\varphi = \\arctan{2}\\left(\\frac{b}{a}\\right)$$\n",
    "\n",
    "Let's write a function that computes the phase of any complex number.\n"
   ]
  },
  {
   "cell_type": "code",
   "execution_count": null,
   "metadata": {},
   "outputs": [],
   "source": [
    "def compute_phase(z):\n",
    "    ''' Computes the phase of a complex number\n",
    "    \n",
    "    Arguments\n",
    "    ---------\n",
    "    z: complex number.\n",
    "    \n",
    "    Returns\n",
    "    -------\n",
    "    phi: float, angle in radians\n",
    "    '''\n",
    "    \n",
    "    phi = numpy.arctan2(z.imag, z.real)\n",
    "    \n",
    "    return phi"
   ]
  },
  {
   "cell_type": "markdown",
   "metadata": {},
   "source": [
    "Let's try our function:"
   ]
  },
  {
   "cell_type": "code",
   "execution_count": null,
   "metadata": {},
   "outputs": [],
   "source": [
    "z1 = 3 + 3j\n",
    "compute_phase(z1)"
   ]
  },
  {
   "cell_type": "markdown",
   "metadata": {},
   "source": [
    "If we draw in a piece of paper, the coordinates of `z1` we know that the phase is 45 degrees ($\\pi/4$).  "
   ]
  },
  {
   "cell_type": "markdown",
   "metadata": {},
   "source": [
    "##### Exercise:\n",
    "\n",
    "Write a new function, similar to `compute_phase()` that returns the angles in degrees. "
   ]
  },
  {
   "cell_type": "markdown",
   "metadata": {},
   "source": [
    "You might have notice that with the modulus and the phase, we can also represent a complex number. But how?"
   ]
  },
  {
   "cell_type": "markdown",
   "metadata": {},
   "source": [
    "### Euler's formula\n",
    "\n",
    "Euler's formula, is the mathematical relationship that establish the connection between trigonometric functions and the complex exponential function. \n",
    "\n",
    "$$e^{i\\alpha} = \\cos(\\alpha) + i\\sin(\\alpha)$$\n",
    "\n",
    "<img src=\"../images/Eulers_formula.png\" style=\"width: 400px;\"/>"
   ]
  },
  {
   "cell_type": "markdown",
   "metadata": {},
   "source": [
    "In particular, when $x=\\pi$ \n",
    "\n",
    "$$ e^{i\\pi} = -1$$\n",
    "\n",
    "If you want to see an intuitive explanation of why this happens, check the video of [3Blue1Brown - Euler's formula with introductory group theory](https://www.youtube.com/watch?v=mvmuCPvRoWQ) \n",
    "\n",
    "Having this information, we can represent any complex number of the form $z=a+ib$ as $z=re^{i\\varphi}$ where $r=|z|$ and $\\varphi$ is the phase of `z` as defined above. "
   ]
  },
  {
   "cell_type": "markdown",
   "metadata": {},
   "source": [
    "Now we have a better notion how complex numbers are represented in the space, we can use the built-in functions provided in the module [`cmath`](https://docs.python.org/3.6/library/cmath.html) to explore more complex numbers. \n",
    "\n",
    "Let's say we have `z2` given by:"
   ]
  },
  {
   "cell_type": "code",
   "execution_count": null,
   "metadata": {},
   "outputs": [],
   "source": [
    "import cmath"
   ]
  },
  {
   "cell_type": "code",
   "execution_count": null,
   "metadata": {},
   "outputs": [],
   "source": [
    "z2 = 4 + 3j"
   ]
  },
  {
   "cell_type": "markdown",
   "metadata": {},
   "source": [
    "We can get the phase in radians by doing:"
   ]
  },
  {
   "cell_type": "code",
   "execution_count": null,
   "metadata": {},
   "outputs": [],
   "source": [
    "cmath.phase(z2)"
   ]
  },
  {
   "cell_type": "markdown",
   "metadata": {},
   "source": [
    "We can compare this result with our function `compute_phase()`"
   ]
  },
  {
   "cell_type": "code",
   "execution_count": null,
   "metadata": {},
   "outputs": [],
   "source": [
    "compute_phase(z2)"
   ]
  },
  {
   "cell_type": "markdown",
   "metadata": {},
   "source": [
    "They are pretty close right? the difference is due to the implementation of the `arctan2` that `cmath` is using. We are using the `numpy` one while `cmath` is using the `math` one.\n",
    "\n",
    "To compute the module, we can simply use the regular built-in `abs()` function that will understand how to compute it depending on the type of our variable. \n",
    "\n",
    "Form the documentation of `abs()`: \n",
    "\n",
    "\"Return the absolute value of a number. The argument may be an integer or a floating point number. If the argument is a complex number, its magnitude is returned.\""
   ]
  },
  {
   "cell_type": "code",
   "execution_count": null,
   "metadata": {},
   "outputs": [],
   "source": [
    "abs(z2)"
   ]
  },
  {
   "cell_type": "markdown",
   "metadata": {},
   "source": [
    "If we directly want the polar coordinates $(r, \\varphi)$ we can use `cmath.polar()`"
   ]
  },
  {
   "cell_type": "code",
   "execution_count": null,
   "metadata": {},
   "outputs": [],
   "source": [
    "cmath.polar(z2)"
   ]
  },
  {
   "cell_type": "markdown",
   "metadata": {},
   "source": [
    "If we have our complex number in polar representation and we would like to obtain its rectangular coordinates, we can use `cmath.rect()`. For example, let's define `z3` as the polar representation of `z2` using the information we obtained doing `cmath.polar(z2)`"
   ]
  },
  {
   "cell_type": "code",
   "execution_count": null,
   "metadata": {},
   "outputs": [],
   "source": [
    "r3, phi3 = cmath.polar(z2)\n",
    "\n",
    "z3 = r3 * numpy.exp(1j*phi3) "
   ]
  },
  {
   "cell_type": "markdown",
   "metadata": {},
   "source": [
    "Now if we apply `cmath.rect(r3, phi3)` we get:"
   ]
  },
  {
   "cell_type": "code",
   "execution_count": null,
   "metadata": {},
   "outputs": [],
   "source": [
    "cmath.rect(r3, phi3)"
   ]
  },
  {
   "cell_type": "markdown",
   "metadata": {},
   "source": [
    "Using both representations let's plot in the Cartesian plane as well as the polar plane:"
   ]
  },
  {
   "cell_type": "code",
   "execution_count": null,
   "metadata": {},
   "outputs": [],
   "source": [
    "fig = pyplot.figure(figsize=(12,6))\n",
    "\n",
    "ax1 = pyplot.subplot(121)\n",
    "\n",
    "ax1.scatter(z3.real, z3.imag)\n",
    "ax1.grid(True)\n",
    "ax1.set_xlim(0,5)\n",
    "ax1.set_ylim(0,5)\n",
    "ax1.set_xlabel('$\\mathbb{R}$')\n",
    "ax1.set_ylabel('$\\mathbb{I}$')\n",
    "ax1.set_aspect('equal', 'box')\n",
    "\n",
    "ax2 = pyplot.subplot(122, projection='polar')\n",
    "ax2.plot([0,phi3],[0,r3],marker='o');\n",
    "#If you were plotting only a polar plot the syntax is:\n",
    "#pyplot.polar([0,phi3],[0,r3],marker='o');\n"
   ]
  },
  {
   "cell_type": "markdown",
   "metadata": {},
   "source": [
    "##### Exercise \n",
    "\n",
    "Choose multiple complex numbers, calculate their polar representation and plot them in a polar plot."
   ]
  },
  {
   "cell_type": "markdown",
   "metadata": {},
   "source": [
    "### Operations and relations\n",
    "\n",
    "\n",
    "- Complex numbers do not have order as we know in real numbers. Since complex numbers are two-dimensional, linear order as we know it, it doesn't apply. \n",
    "\n",
    "- We say that two complex numbers are equal, if only if, their real and imaginary parts are equal respectively. Given `z1` and `z2` two complex numbers, `z1` is equal to `z2` if only if `Re(z1)` = `Re(z2)` and `Im(z1)` = `Im(z2)`. If the numbers are written in polar representation, they are equal, if only if, their magnitude and phase are equal. \n",
    "\n",
    "#### Addition and subtraction\n",
    "\n",
    "Two complex numbers are added (subtracted) by separately adding (subtracting) the real parts and the imaginary parts. \n",
    "\n",
    "`z1 = a1 + ib1`\n",
    "\n",
    "`z2 = a2 + ib2`\n",
    "\n",
    "`z1 + z2 = (a1 + ib1) + (a2 + ib2) = (a1 + a2) + i(b1 + b2)`\n",
    "\n",
    "#### Multiplication\n",
    "\n",
    "Two complex numbers `z1` and `z2` are multiplied under the distributive property rule. \n",
    "\n",
    "`z1 x z2 = (a1 + ib1) x (a2 + ib2)\n",
    "         = a1a2 + ia1b2 + ia2b1 + i^2 b1b2\n",
    "         = a1a2 + i (a1b2+a2b1) - b1b2\n",
    "         = (a1a2 - b1b2) + i(a1b2 + a2b1)`\n",
    "         \n",
    "##### Exercise\n",
    "\n",
    "Using python operations compare the left hand side with the right hand side of both addition and multiplication.  "
   ]
  },
  {
   "cell_type": "markdown",
   "metadata": {},
   "source": [
    "#### A bit more about the conjugate operation\n",
    "\n",
    "We can think of the conjugate of a complex number as the reflection around the real axis. Given a number $z = a+ib$ the complex conjugate denoted $\\bar{z}$ or $z*$ is defined as $\\bar{z} = a-ib$. \n",
    "\n",
    "We can define the real and imaginary part of a complex number `z` using the conjugation:\n",
    "\n",
    "$$\\text{Re}(z) = \\frac{z+\\bar{z}}{2}$$\n",
    "\n",
    "$$\\text{Im}(z) = \\frac{z-\\bar{z}}{2i}$$\n",
    "\n",
    "\n",
    "#### Reciprocal and division \n",
    "\n",
    "To explain division we will first go over the reciprocal. The reciprocal of a non-zero complex number `z = a + ib`can be expressed as:\n",
    "\n",
    "$$\\frac{1}{z} = \\frac{\\bar{z}}{z\\bar{z}}=\\frac{\\bar{z}}{|z|^2}$$\n",
    "\n",
    "Now we can write a division of the form of `z1/z2` as:\n",
    "\n",
    "$$\\frac{z_1}{z_2}= z_1 \\frac{1}{z_2} = z_1\\frac{\\bar{z_2}}{|z_2|^2}$$\n",
    "\n",
    "##### Exercise\n",
    "\n",
    "Using python operations compare the left hand side with the right hand side of the real identity, the imaginary identity and the reciprocal definition defined above."
   ]
  },
  {
   "cell_type": "markdown",
   "metadata": {},
   "source": [
    "### Patterns $i^n$\n",
    "\n",
    "We mentioned that multiplying by $i$ a real number is like rotating it counter clockwise by 90 degrees. Then we can imagine that if we multiply by $i$ many times we will eventually land on the same place.  \n",
    "\n",
    "Let's try it out few times and see if we get a patter:\n"
   ]
  },
  {
   "cell_type": "code",
   "execution_count": null,
   "metadata": {},
   "outputs": [],
   "source": [
    "for exp in range(8):\n",
    "    res = (1j)**exp\n",
    "    print(f'i^{exp} = {res}')"
   ]
  },
  {
   "cell_type": "markdown",
   "metadata": {},
   "source": [
    "You might have notice that we us an \"f\" before the string, this is for formated strings, which allows us to insert variables in a string and they'll take the value at the moment of execution. To read and learn more about formated strings you can check out this link [Python 3: An Intro to f-strings](http://www.blog.pythonlibrary.org/2018/03/13/python-3-an-intro-to-f-strings/)\n",
    "\n",
    "But, that is not the only thing you might have noticed in the piece of code above. If you pay attention to the out put, you'll see that the patter follows as `[1, i, -1, -i]` and it repeats. This is because of the successive rotations of 90 degrees, if we start at 1 ($i^0$) on the real axis, and rotate by 90 degrees counter clockwise four times ($i^4$) we will land again on 1 on the real axis.\n",
    "\n",
    "<img src=\"../images/power_i_pattern.png\" style=\"width: 400px;\"/>\n",
    "\n",
    "##### Exercise\n",
    "\n",
    "If we have $i^{355}$ how can we know what is the result of that operation without explicitly calculating it? \n",
    "\n",
    "Tips: \n",
    "- Think of the pattern\n",
    "- You might want to check how the modulo operation works, the `%` symbol.\n",
    "\n",
    "#### Challenge\n",
    "\n",
    "Write a function that computes any power of $i$ without directly computing it."
   ]
  },
  {
   "cell_type": "markdown",
   "metadata": {},
   "source": [
    "### De Moivre's formula\n",
    "\n",
    "This relationship is important because, as the Euler's formula, it also connects complex numbers with trigonometry.\n",
    "\n",
    "$$(\\cos(\\alpha) + i\\sin(\\alpha))^n = \\cos(n\\alpha) +i\\sin(n\\alpha)$$\n",
    "\n",
    "for any real number $\\alpha$ and integer $n$.\n",
    "\n",
    "##### Exercise\n",
    "\n",
    "- Using Euler's identity and the properties of the exponential function, prove the De Moivre's formula. \n",
    "\n",
    "Tip: Remember that $(e^x)^y = e^{x.y}$"
   ]
  },
  {
   "cell_type": "markdown",
   "metadata": {},
   "source": [
    "#### References\n",
    "\n",
    "- https://betterexplained.com/articles/a-visual-intuitive-guide-to-imaginary-numbers/\n",
    "- https://en.wikipedia.org/wiki/Complex_number\n"
   ]
  },
  {
   "cell_type": "code",
   "execution_count": null,
   "metadata": {},
   "outputs": [],
   "source": [
    "# Execute this cell to load the notebook's style sheet, then ignore it\n",
    "from IPython.core.display import HTML\n",
    "css_file = '../style/custom.css'\n",
    "HTML(open(css_file, \"r\").read())"
   ]
  },
  {
   "cell_type": "code",
   "execution_count": null,
   "metadata": {},
   "outputs": [],
   "source": []
  }
 ],
 "metadata": {
  "kernelspec": {
   "display_name": "Python 3",
   "language": "python",
   "name": "python3"
  },
  "language_info": {
   "codemirror_mode": {
    "name": "ipython",
    "version": 3
   },
   "file_extension": ".py",
   "mimetype": "text/x-python",
   "name": "python",
   "nbconvert_exporter": "python",
   "pygments_lexer": "ipython3",
   "version": "3.6.8"
  }
 },
 "nbformat": 4,
 "nbformat_minor": 2
}
