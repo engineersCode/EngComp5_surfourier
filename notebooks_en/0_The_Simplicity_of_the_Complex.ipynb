{
 "cells": [
  {
   "cell_type": "markdown",
   "metadata": {},
   "source": [
    "###### Content under Creative Commons Attribution license CC-BY 4.0, code under BSD 3-Clause License © 2020 L.A. Barba, N.C. Clementi"
   ]
  },
  {
   "cell_type": "markdown",
   "metadata": {},
   "source": [
    "# The simplicity of the complex"
   ]
  },
  {
   "cell_type": "markdown",
   "metadata": {},
   "source": [
    "Welcome to a new module of the _Engineering Computations_ series! In this module, we lay a foundation for learning about Fourier series and Fourier transforms in science and engineering. \n",
    "The applications of these mathematical tools are vast: signal processing, acoustics, astronomy, statistics, even medical imaging, and music synthesis! \n",
    "\n",
    "But before we delve into it, we need to know a little about **complex numbers**, and this \"lesson zero\" of the module aims to give you a simple introduction or refresher to them."
   ]
  },
  {
   "cell_type": "markdown",
   "metadata": {},
   "source": [
    "## What are complex numbers?\n",
    "\n",
    "One of our favorite YouTubers, Grant Sanderson, did a live stream on 24 April 2020 on [\"Complex number fundamantals,\"](https://www.youtube.com/watch?v=5PcpBw5Hbwo) and we highly recommend the video!\n",
    "\n",
    "Let's review. When you learned about taking _powers_ of numbers, you found that every time you _square_ a number, the result is positive—whether the number is positive or negative. E.g., $5^2=25$ and $(-5)^2=25$.\n",
    "\n",
    "At some point in recent history, mathematicians needed a number that, when squared, would give $-1$ as a result. So they went ahead and _defined_ it and called it $i$: \n",
    "\n",
    "$$i^2 = -1$$\n",
    "\n",
    "Just like that. Poof! When they first came up with this idea, others were unconvinced: they called this an _imaginary number_, with scorn. \n",
    "\n",
    "<img src=\"../images/imaginary_friends.jpg\" style=\"width: 400px;\"/>\n",
    "\n",
    "#### Credit: Keaton Stoos"
   ]
  },
  {
   "cell_type": "markdown",
   "metadata": {},
   "source": [
    "Next, as Grant recounts, the mathematicians gave this number and its multiples a home _in another dimension_. You know that the real numbers live on the real line, which we take to be a horizontal axis. The imaginary numbers, which are multiples of $i$, live on a vertical axis, as shown on the sketch.\n",
    "\n",
    "<img src=\"../images/complex_plane.png\" style=\"width: 300px;\"/>\n",
    "\n",
    "Now, all numbers live on a plane, so they are like _vectors_, and their components are the real and imaginary part: they are _complex numbers_. When the imaginary part is zero, we fall back on the real line, where the dimension is one: scalars. There you have it!\n",
    "\n",
    "Since complex numbers live on a plane, they are two-dimensional vectors, and we know how to _add_ them: add each component separately to get a new complex number. We know how to multiply them by a scalar: multiply each component. But how do we _multiply two complex numbers_?\n",
    "\n",
    "For example, what happens to a complex number if you multiply it by $i$? Take $i\\,(3+2i)$. Similar to scalar multiplication, let's multiply each component: $3i + 2i^2$. Aha! Since $i^2=-1$, we get: $-2+3i$."
   ]
  },
  {
   "cell_type": "markdown",
   "metadata": {},
   "source": [
    "## Visualize it\n",
    "\n",
    "Let's now begin an exploration with computing. To start, load our favorite libraries of the Python ecosystem (and set some font parameters for our plots)."
   ]
  },
  {
   "cell_type": "code",
   "execution_count": null,
   "metadata": {},
   "outputs": [],
   "source": [
    "import numpy\n",
    "from matplotlib import pyplot\n",
    "%matplotlib inline\n",
    "\n",
    "pyplot.rc('font', family='serif', size='16')"
   ]
  },
  {
   "cell_type": "markdown",
   "metadata": {},
   "source": [
    "Below, we plot two vectors corresponding to the complex numbers $(3,2)$ and $(-2,3)$, that is, to $3+2i$ and $i\\,(3+2i)$. We use Matplotlib's [`quiver`](https://matplotlib.org/3.1.1/api/_as_gen/matplotlib.pyplot.quiver.html) function, even if it was designed to plot a 2D field of arrows. Read the documentation of the function and look for some examples online to see how it works."
   ]
  },
  {
   "cell_type": "code",
   "execution_count": null,
   "metadata": {},
   "outputs": [],
   "source": [
    "pyplot.figure(figsize=(4,4))\n",
    "darkblue = '#004065'\n",
    "lightblue = '#0096d6'\n",
    "pyplot.quiver(0,0, 3,2, angles='xy', scale_units='xy', scale=1, color=darkblue)\n",
    "pyplot.quiver(0,0, -2,3,angles='xy', scale_units='xy', scale=1, color=lightblue)\n",
    "pyplot.xlim(-4,4)\n",
    "pyplot.ylim(-4,4)\n",
    "pyplot.grid(True);"
   ]
  },
  {
   "cell_type": "markdown",
   "metadata": {},
   "source": [
    "We observe that multiplying by $i$ transformed the original complex number by rotating it counterclockwise by 90 degrees. This is an important observation!\n",
    "\n",
    "If you think about any unit vector (let's draw a unit circle), with coordinates $(\\cos{\\theta}, \\sin{\\theta})$, the effect of a rotation by 90 degrees is always to swap the coordinate values and flip the sign of the first coordinate, to give: $(-\\sin{\\theta}, \\cos{\\theta})$. Multiplying by $i$ has the same effect. Neat.\n",
    "\n",
    "<img src=\"../images/unitcircle_rot.png\" style=\"width: 300px;\"/>\n",
    "\n",
    "#### A rotation by 90 degrees on the unit circle.\n",
    "\n",
    "##### Think about this\n",
    "\n",
    "> Looking at the figure above, what complex number do we multiply by to get a rotation by $\\pi/6$ (i.e., 30 degrees)?\n",
    "\n",
    "On the unit circle, start on the real line and you see that to rotate by $\\pi/6$ we need a multiple of:  $\\cos{\\frac{\\pi}{6}} + i \\sin{\\frac{\\pi}{6}} $."
   ]
  },
  {
   "cell_type": "markdown",
   "metadata": {},
   "source": [
    "Now look what happens when you multiply the real number $1$ by $i$, and then by $i$ again. As shown on the sketch below, rotating counterclockwise by 180 degrees takes $1$ to $-1$. That is equivalent to multiplying by $i$ twice, i.e., $i^2=-1$.\n",
    "\n",
    "<img src=\"../images/real_imag_rot.png\" style=\"width: 300px;\"/>\n",
    "\n",
    "We could also rotate twice in the clockwise direction, or multiply by $-i$ twice, to obtain the same result, so in fact there are two square roots of $-1$: $i$ and $-i$. \n",
    "\n",
    "##### Think about this\n",
    "\n",
    "> Rotating first by $\\alpha$ and then by $\\beta$ is like multiplying by two complex numbers:  $(\\cos\\alpha + i\\sin\\alpha)(\\cos\\beta + i\\sin\\beta)$.\n",
    "> That is the same as rotating by $(\\alpha+\\beta)$, or multiplying by $\\cos{(\\alpha+\\beta)} + i\\sin{(\\alpha+\\beta)}$.\n",
    "\n",
    "We re-discover the trigonometric identities for the cosine and sine of a sum of two angles! You can distribute the multiplication, and the match real and imaginary parts."
   ]
  },
  {
   "cell_type": "markdown",
   "metadata": {},
   "source": [
    "## Play with complex numbers in Python\n",
    "\n",
    "Let's explore what we've learned by playing with Python complex numbers. \n",
    "In Python, the imaginary unit is represented by the letter `j` rather than `i`. This is probably because of the widespread use of the variable name `i` as a counter or index. \n",
    "\n",
    "Define a complex number $z= 3+2i$ as follows:"
   ]
  },
  {
   "cell_type": "code",
   "execution_count": null,
   "metadata": {},
   "outputs": [],
   "source": [
    "z = 3+2j"
   ]
  },
  {
   "cell_type": "markdown",
   "metadata": {},
   "source": [
    "We can check the type of this new Python variable `z`:"
   ]
  },
  {
   "cell_type": "code",
   "execution_count": null,
   "metadata": {},
   "outputs": [],
   "source": [
    "type(z)"
   ]
  },
  {
   "cell_type": "markdown",
   "metadata": {},
   "source": [
    "Yes! The built-in `complex` Python data type. We can obtain the real and imaginary parts of a Python complex number using the dot notation for attributes:"
   ]
  },
  {
   "cell_type": "code",
   "execution_count": null,
   "metadata": {},
   "outputs": [],
   "source": [
    "z.real"
   ]
  },
  {
   "cell_type": "code",
   "execution_count": null,
   "metadata": {},
   "outputs": [],
   "source": [
    "z.imag"
   ]
  },
  {
   "cell_type": "markdown",
   "metadata": {},
   "source": [
    "Python knows how to add or multiply complex numbers. Let's try it. Multiply `z` by the imaginary unit—which is represented in Python by `1j`, don't forget—to confirm the result we got before."
   ]
  },
  {
   "cell_type": "code",
   "execution_count": null,
   "metadata": {},
   "outputs": [],
   "source": [
    "1j*z"
   ]
  },
  {
   "cell_type": "code",
   "execution_count": null,
   "metadata": {},
   "outputs": [],
   "source": [
    "(1+2j) + (2+1j)"
   ]
  },
  {
   "cell_type": "markdown",
   "metadata": {},
   "source": [
    "We can also create a complex number from two real numbers using `complex()`:"
   ]
  },
  {
   "cell_type": "code",
   "execution_count": null,
   "metadata": {},
   "outputs": [],
   "source": [
    "complex(1,1)"
   ]
  },
  {
   "cell_type": "markdown",
   "metadata": {},
   "source": [
    "### Functions of complex numbers\n",
    "\n",
    "Python has a module called [`cmath`](https://docs.python.org/3.6/library/cmath.html#module-cmath) that provides functions of complex numbers. Let's play with it.\n",
    "\n",
    "Visualize a complex number with real and imaginary parts $(a, b)$. What angle does it form with the positive real axis? This angle is called the **phase** of the complex number.\n",
    "\n",
    "Look at the figure of the unit circle above: the vector $(a, b)$ intersects the circle at point $(\\sin\\theta, \\cos\\theta)$, so the angle must be: \n",
    "\n",
    "$$\\theta= \\tan^{-1}\\left(\\frac{b}{a}\\right)$$\n",
    "\n",
    "Where $\\tan^{-1}$ is the inverse tangent, or arctangent. To give the angle in the correct quadrant, computer programs use the \"2-argument arctangent,\" a function that takes the two arguments $a$, and $b$, with their sign.\n",
    "\n",
    "NumPy has a built-in function [`numpy.arctan2`](https://docs.scipy.org/doc/numpy/reference/generated/numpy.arctan2.html) that we can use with the real and imaginary parts of a complex number:"
   ]
  },
  {
   "cell_type": "code",
   "execution_count": null,
   "metadata": {},
   "outputs": [],
   "source": [
    "numpy.arctan2(z.imag, z.real)"
   ]
  },
  {
   "cell_type": "markdown",
   "metadata": {},
   "source": [
    "Pay attention! The first argument to `numpy.arctan2()` is the imaginary part of the complex number, i.e., the vertical coordinate (make a sketch on some paper if this is confusing).\n",
    "\n",
    "We can also get the phase of a complex number using the built-in function from the `cmath` module, which by the way, includes several constants, like $\\pi$:"
   ]
  },
  {
   "cell_type": "code",
   "execution_count": null,
   "metadata": {},
   "outputs": [],
   "source": [
    "import cmath\n",
    "cmath.pi"
   ]
  },
  {
   "cell_type": "code",
   "execution_count": null,
   "metadata": {},
   "outputs": [],
   "source": [
    "cmath.phase(z)"
   ]
  },
  {
   "cell_type": "markdown",
   "metadata": {},
   "source": [
    "The returned angle is given in radians, in the range between $\\pi$ and $-\\pi$. If you want the result in degrees, you can convert with `numpy.degrees()`.\n",
    "\n",
    "What is the complex number that forms the _negative_ angle, $-\\theta$, with the real axis? That number is obtained by flipping the sign of the imaginary part to negative, and is called the **complex conjugate** of $z$, i.e., $a - ib$. Python of course can give us that."
   ]
  },
  {
   "cell_type": "code",
   "execution_count": null,
   "metadata": {},
   "outputs": [],
   "source": [
    "numpy.degrees(cmath.phase(1j))"
   ]
  },
  {
   "cell_type": "code",
   "execution_count": null,
   "metadata": {},
   "outputs": [],
   "source": [
    "z.conjugate()"
   ]
  },
  {
   "cell_type": "markdown",
   "metadata": {},
   "source": [
    "The conjugate is denoted by a bar on the symbol representing the complex number: $\\bar{z}$.\n",
    "\n",
    "The absolute square of a complex number is defined as:\n",
    "\n",
    "$$|z|^2 = z\\bar{z}$$\n",
    "\n",
    "and its **modulus** is defined as:\n",
    "\n",
    "$$|z| = \\sqrt{z\\bar{z}} = \\sqrt{a^2+b^2}$$\n",
    "\n",
    "As you can see, the modulus corresponds to the distance from the origin to the point $(a, b)$ on the complex plane. Python computes it with the `abs()` function:"
   ]
  },
  {
   "cell_type": "code",
   "execution_count": null,
   "metadata": {},
   "outputs": [],
   "source": [
    "abs(z)"
   ]
  },
  {
   "cell_type": "code",
   "execution_count": null,
   "metadata": {},
   "outputs": [],
   "source": [
    "abs(1j)"
   ]
  },
  {
   "cell_type": "code",
   "execution_count": null,
   "metadata": {},
   "outputs": [],
   "source": [
    "w = 1+1j\n",
    "abs(w)"
   ]
  },
  {
   "cell_type": "code",
   "execution_count": null,
   "metadata": {},
   "outputs": [],
   "source": [
    "cmath.phase(w)"
   ]
  },
  {
   "cell_type": "code",
   "execution_count": null,
   "metadata": {},
   "outputs": [],
   "source": [
    "numpy.degrees(cmath.phase(w))"
   ]
  },
  {
   "cell_type": "markdown",
   "metadata": {},
   "source": [
    "Since the phase of a complex number is the angle it makes with the positive real axis, and the modulus is the distance from the origin to the complex number on the plane, the pair $(\\theta, |z|)$ uniquely defines $z$. This is called the **polar representation**. We can obtain it in Python:"
   ]
  },
  {
   "cell_type": "code",
   "execution_count": null,
   "metadata": {},
   "outputs": [],
   "source": [
    "cmath.polar(w)"
   ]
  },
  {
   "cell_type": "markdown",
   "metadata": {},
   "source": [
    "Conversely, if you know the phase angle and the modulus, Python can give you the coordinates of the complex number with `cmath.rect()` (named for _rectangular_). The first argument is the modulus:"
   ]
  },
  {
   "cell_type": "code",
   "execution_count": null,
   "metadata": {},
   "outputs": [],
   "source": [
    "cmath.rect(1, cmath.pi/4)"
   ]
  },
  {
   "cell_type": "markdown",
   "metadata": {},
   "source": [
    "## Euler's formula\n",
    "\n",
    "You may have seen it before, and even used it in your math and physics classes, but perhaps you're still perplexed by **Euler's formula**: \n",
    "\n",
    "$$e^{i\\alpha} = \\cos(\\alpha) + i\\sin(\\alpha)$$\n",
    "\n",
    "What does it even mean to write $e^{i\\alpha}$? What we're looking at is the extension of the exponential function to imaginary numbers. Remember that the symbol $e^x$ represents the _infinite sum_ (a.k.a., series):\n",
    "\n",
    "$$ \\exp(x) = 1 + x + \\frac{x^2}{2!} + \\frac{x^3}{3!} + \\cdots = \\frac{x^n}{n!}+ \\cdots $$\n",
    "\n",
    "Let's write a Python function to compute that. We'll need the `math` library to gain access to `math.factorial()`."
   ]
  },
  {
   "cell_type": "code",
   "execution_count": null,
   "metadata": {},
   "outputs": [],
   "source": [
    "import math"
   ]
  },
  {
   "cell_type": "code",
   "execution_count": null,
   "metadata": {},
   "outputs": [],
   "source": [
    "def exponential(x,N=50):\n",
    "    '''Approximates the exponential of x by adding the first N terms of the series'''\n",
    "    longsum = 0\n",
    "    for n in range(N):\n",
    "        longsum += x**n /  math.factorial(n)\n",
    "        \n",
    "    return longsum"
   ]
  },
  {
   "cell_type": "code",
   "execution_count": null,
   "metadata": {},
   "outputs": [],
   "source": [
    "exponential(1)"
   ]
  },
  {
   "cell_type": "code",
   "execution_count": null,
   "metadata": {},
   "outputs": [],
   "source": [
    "exponential(2)"
   ]
  },
  {
   "cell_type": "code",
   "execution_count": null,
   "metadata": {},
   "outputs": [],
   "source": [
    "exponential(0)"
   ]
  },
  {
   "cell_type": "markdown",
   "metadata": {},
   "source": [
    "Playing around with this function for a long time, you might stumble on a very special property:"
   ]
  },
  {
   "cell_type": "code",
   "execution_count": null,
   "metadata": {},
   "outputs": [],
   "source": [
    "exponential(1+2)"
   ]
  },
  {
   "cell_type": "code",
   "execution_count": null,
   "metadata": {},
   "outputs": [],
   "source": [
    "exponential(1)*exponential(2)"
   ]
  },
  {
   "cell_type": "markdown",
   "metadata": {},
   "source": [
    "This is not obvious from looking at the series, but in fact:\n",
    "\n",
    "$$\\exp(a+b) = \\exp(a)\\exp(b)$$\n",
    "\n",
    "which is funny and lets you write: $\\exp(3)= \\exp(1+1+1) = \\exp(1)\\exp(1)\\exp(1) = \\exp(1)^3$ and finally express the result as $e^3$, where $e$ is $\\exp(1)$. \n",
    "\n",
    "And that's how we come about that quirky number $e$! It's available in the `cmath` library, as shown below. In general, we thus write: $\\exp(x)=e^x$."
   ]
  },
  {
   "cell_type": "code",
   "execution_count": null,
   "metadata": {},
   "outputs": [],
   "source": [
    "cmath.e"
   ]
  },
  {
   "cell_type": "markdown",
   "metadata": {},
   "source": [
    "We could expand the definition of the exponential function to imaginary numbers, because at the core it is an infinite polynomial sum. But the interpretation as the number $e$ raised to an exponent no longer works. We use the same notation, though. Look, even our custom Python function works with imaginary arguments:"
   ]
  },
  {
   "cell_type": "code",
   "execution_count": null,
   "metadata": {},
   "outputs": [],
   "source": [
    "exponential(1j)"
   ]
  },
  {
   "cell_type": "code",
   "execution_count": null,
   "metadata": {},
   "outputs": [],
   "source": [
    "exponential(2j)"
   ]
  },
  {
   "cell_type": "markdown",
   "metadata": {},
   "source": [
    "As you can see, the result is always a complex number. For any multiple of the imaginary unit, the series is:\n",
    "\n",
    "$$ \\exp(i\\alpha) = 1 + i\\alpha + \\frac{(i\\alpha)^2}{2!}+ \\frac{(i\\alpha)^3}{3!}+ \\frac{(i\\alpha)^4}{4!}+ \\cdots$$\n",
    "\n",
    "On the complex plane, we are starting on $(1,0)$ (the real number $1$). As a first example, suppose $\\alpha$ is not too big: $2$ or less. We add $i\\alpha$ (which steps vertically upwards on the plane), then add $i^2 \\alpha^2/2= -\\alpha^2/2$ (which steps horizontally to the left on the plane), and successively add vertical and horizontal vectors that get smaller and smaller to converge onto a _point on the unit circle_ at the angle $\\alpha$. That point has coordinates $(\\cos\\alpha, \\sin\\alpha)$—and *that* is what Euler's formula says!\n",
    "\n",
    "<img src=\"../images/Eulers_formula.png\" style=\"width: 300px;\"/>\n",
    "\n",
    "When $\\alpha=\\pi$, Euler's formula gives the famous relation: $ e^{i\\pi} = -1$.\n",
    "\n",
    "Our custom Python function confirms this result (with some small floating-point error):"
   ]
  },
  {
   "cell_type": "code",
   "execution_count": null,
   "metadata": {},
   "outputs": [],
   "source": [
    "exponential(1j*cmath.pi)"
   ]
  },
  {
   "cell_type": "markdown",
   "metadata": {},
   "source": [
    "In this case, if you look a the terms in the series, once we get to $n=4$, the denominator (with a factorial) grows faster than the numerator (a power of $\\pi$), and the magnitude of all terms get smaller and smaller after that. The real and imaginary terms added go around (up, left, down, right), and converge to a point on the unit circle at angle $\\pi$. Phew!"
   ]
  },
  {
   "cell_type": "markdown",
   "metadata": {},
   "source": [
    "Euler's formula takes any input angle $\\alpha$ and returns a complex number on the unit circle, $\\cos\\alpha + i\\sin\\alpha$. \n",
    "\n",
    "This means we can represent any complex number of the form $z=a+ib$ by a scaling of the vector $(\\cos\\alpha, \\sin\\alpha) by the value $r=|z|$. This leads to:\n",
    "\n",
    "$$z=r\\,e^{i\\alpha}$$\n",
    "\n",
    "where $\\alpha$ is the phase of $z$. \n",
    "\n",
    "The polar representation of the complex number gives us the values of $r$ and $\\alpha$, in Python using `cmath.polar()`. We can also make a plot of the complex number in polar representation.\n",
    "\n",
    "Let's make a figure with both representations of the complex number $z$, as subplots."
   ]
  },
  {
   "cell_type": "code",
   "execution_count": null,
   "metadata": {},
   "outputs": [],
   "source": [
    "r, alpha = cmath.polar(z)\n",
    "\n",
    "fig = pyplot.figure(figsize=(12,6))\n",
    "\n",
    "ax1 = pyplot.subplot(121)\n",
    "\n",
    "ax1.scatter(z.real, z.imag)\n",
    "ax1.grid(True)\n",
    "ax1.set_xlim(0,5)\n",
    "ax1.set_ylim(0,5)\n",
    "ax1.set_xlabel('$\\mathbb{R}$')\n",
    "ax1.set_ylabel('$\\mathbb{I}$')\n",
    "ax1.set_aspect('equal', 'box')\n",
    "\n",
    "ax2 = pyplot.subplot(122, projection='polar')\n",
    "\n",
    "ax2.plot([0,alpha],[0,r],marker='o');\n",
    "\n",
    "#If you were plotting only a polar plot, the syntax is:\n",
    "#pyplot.polar([0,alpha],[0,r],marker='o');\n"
   ]
  },
  {
   "cell_type": "markdown",
   "metadata": {},
   "source": [
    "##### Exercise \n",
    "\n",
    "Choose multiple complex numbers, calculate their polar representation and plot them in a polar plot."
   ]
  },
  {
   "cell_type": "markdown",
   "metadata": {},
   "source": [
    "#### A bit more about the conjugate operation\n",
    "\n",
    "We can think of the conjugate of a complex number as the reflection around the real axis. Given a number $z = a+ib$ the complex conjugate denoted $\\bar{z}$ or $z*$ is defined as $\\bar{z} = a-ib$. \n",
    "\n",
    "We can define the real and imaginary part of a complex number `z` using the conjugation:\n",
    "\n",
    "$$\\text{Re}(z) = \\frac{z+\\bar{z}}{2}$$\n",
    "\n",
    "$$\\text{Im}(z) = \\frac{z-\\bar{z}}{2i}$$\n",
    "\n",
    "\n",
    "#### Reciprocal and division \n",
    "\n",
    "To explain division we will first go over the reciprocal. The reciprocal of a non-zero complex number `z = a + ib`can be expressed as:\n",
    "\n",
    "$$\\frac{1}{z} = \\frac{\\bar{z}}{z\\bar{z}}=\\frac{\\bar{z}}{|z|^2}$$\n",
    "\n",
    "Now we can write a division of the form of `z1/z2` as:\n",
    "\n",
    "$$\\frac{z_1}{z_2}= z_1 \\frac{1}{z_2} = z_1\\frac{\\bar{z_2}}{|z_2|^2}$$\n",
    "\n",
    "##### Exercise\n",
    "\n",
    "Using python operations compare the left hand side with the right hand side of the real identity, the imaginary identity and the reciprocal definition defined above."
   ]
  },
  {
   "cell_type": "markdown",
   "metadata": {},
   "source": [
    "### Patterns $i^n$\n",
    "\n",
    "We mentioned that multiplying by $i$ a real number is like rotating it counter clockwise by 90 degrees. Then we can imagine that if we multiply by $i$ many times we will eventually land on the same place.  \n",
    "\n",
    "Let's try it out few times and see if we get a patter:\n"
   ]
  },
  {
   "cell_type": "code",
   "execution_count": null,
   "metadata": {},
   "outputs": [],
   "source": [
    "for i in range(8):\n",
    "    res = (1j)**i\n",
    "    print(f'i^{i} = {res}')"
   ]
  },
  {
   "cell_type": "markdown",
   "metadata": {},
   "source": [
    "You might have notice that we us an \"f\" before the string, this is for formated strings, which allows us to insert variables in a string and they'll take the value at the moment of execution. To read and learn more about formated strings you can check out this link [Python 3: An Intro to f-strings](http://www.blog.pythonlibrary.org/2018/03/13/python-3-an-intro-to-f-strings/)\n",
    "\n",
    "But, that is not the only thing you might have noticed in the piece of code above. If you pay attention to the out put, you'll see that the patter follows as `[1, i, -1, -i]` and it repeats. This is because of the successive rotations of 90 degrees, if we start at 1 ($i^0$) on the real axis, and rotate by 90 degrees counter clockwise four times ($i^4$) we will land again on 1 on the real axis.\n",
    "\n",
    "<img src=\"../images/power_i_pattern.png\" style=\"width: 400px;\"/>\n",
    "\n",
    "##### Exercise\n",
    "\n",
    "If we have $i^{355}$ how can we know what is the result of that operation without explicitly calculating it? \n",
    "\n",
    "Tips: \n",
    "- Think of the pattern\n",
    "- You might want to check how the modulo operation works, the `%` symbol.\n",
    "\n",
    "#### Challenge\n",
    "\n",
    "Write a function that computes any power of $i$ without directly computing it."
   ]
  },
  {
   "cell_type": "markdown",
   "metadata": {},
   "source": [
    "### De Moivre's formula\n",
    "\n",
    "This relationship is important because, as the Euler's formula, it also connects complex numbers with trigonometry.\n",
    "\n",
    "$$(\\cos(\\alpha) + i\\sin(\\alpha))^n = \\cos(n\\alpha) +i\\sin(n\\alpha)$$\n",
    "\n",
    "for any real number $\\alpha$ and integer $n$.\n",
    "\n",
    "##### Exercise\n",
    "\n",
    "- Using Euler's identity and the properties of the exponential function, prove the De Moivre's formula. \n",
    "\n",
    "Tip: Remember that $(e^x)^y = e^{x.y}$"
   ]
  },
  {
   "cell_type": "markdown",
   "metadata": {},
   "source": [
    "## References\n",
    "\n",
    "1. Grant Sanderson (2020), [\"Complex number fundamentals\"](https://www.youtube.com/watch?v=5PcpBw5Hbwo) video on YouTube.\n",
    "2. Python documentation, [`cmath` library](https://docs.python.org/3/library/cmath.html)\n"
   ]
  },
  {
   "cell_type": "code",
   "execution_count": null,
   "metadata": {},
   "outputs": [],
   "source": [
    "# Execute this cell to load the notebook's style sheet, then ignore it\n",
    "from IPython.core.display import HTML\n",
    "css_file = '../style/custom.css'\n",
    "HTML(open(css_file, \"r\").read())"
   ]
  },
  {
   "cell_type": "code",
   "execution_count": null,
   "metadata": {},
   "outputs": [],
   "source": []
  }
 ],
 "metadata": {
  "kernelspec": {
   "display_name": "Python 3",
   "language": "python",
   "name": "python3"
  },
  "language_info": {
   "codemirror_mode": {
    "name": "ipython",
    "version": 3
   },
   "file_extension": ".py",
   "mimetype": "text/x-python",
   "name": "python",
   "nbconvert_exporter": "python",
   "pygments_lexer": "ipython3",
   "version": "3.6.8"
  }
 },
 "nbformat": 4,
 "nbformat_minor": 2
}
