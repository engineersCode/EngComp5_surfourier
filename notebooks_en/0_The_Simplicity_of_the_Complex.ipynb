{
 "cells": [
  {
   "cell_type": "markdown",
   "metadata": {},
   "source": [
    "###### Content under Creative Commons Attribution license CC-BY 4.0, code under BSD 3-Clause License © 2019 L.A. Barba, N.C. Clementi"
   ]
  },
  {
   "cell_type": "markdown",
   "metadata": {},
   "source": [
    "# The Complexity of getting real"
   ]
  },
  {
   "cell_type": "code",
   "execution_count": 9,
   "metadata": {},
   "outputs": [],
   "source": [
    "import numpy\n",
    "from IPython.display import Image"
   ]
  },
  {
   "cell_type": "code",
   "execution_count": 8,
   "metadata": {},
   "outputs": [
    {
     "data": {
      "text/html": [
       "<img src=\"https://imgs.xkcd.com/comics/complex_conjugate.png\"/>"
      ],
      "text/plain": [
       "<IPython.core.display.Image object>"
      ]
     },
     "execution_count": 8,
     "metadata": {},
     "output_type": "execute_result"
    }
   ],
   "source": [
    "Image(url=\"https://imgs.xkcd.com/comics/complex_conjugate.png\")"
   ]
  },
  {
   "cell_type": "markdown",
   "metadata": {},
   "source": [
    "Every time we hear \"Complex numbers\" we get scared and we think \"this will be complicated\". However, complex numbers can be great and make our life easier. In this note book, we will learn why complex numbers exist, what properties they have, and how they using them in certain applications can turn a complex problem into a simpler one to handle. \n",
    "\n",
    "Complex numbers are form by the composition of a *Real* number and an *Imaginary* one. *Real* numbers, according to [Wikipedia](https://en.wikipedia.org/wiki/Real_number), are the values of continuous quantity that represent a distance along a line. But, what are *Imaginary* numbers?\n",
    "\n",
    "An *Imaginary* number is a complex number that can be written as the multiplication of a real number and the **imaginary unit**, defined as $i^2 = -1$.\n",
    "\n",
    "<img src=\"../images/imaginary_friends.jpg\" style=\"width: 400px;\"/>"
   ]
  },
  {
   "cell_type": "markdown",
   "metadata": {},
   "source": [
    "### Understanding $x^2=-1$\n",
    "\n",
    "This section was inspired by [A Visual, Intuitive Guide to Imaginary Numbers](https://betterexplained.com/articles/a-visual-intuitive-guide-to-imaginary-numbers/)"
   ]
  },
  {
   "cell_type": "markdown",
   "metadata": {},
   "source": [
    "If you ever took some math course, you were probably exposed to an equation of the form $x^2 = a$ where $a>=0$. To pick an example we can say $x^2=25$, or $1 . x . x = 25$ and ask the question, \n",
    "\n",
    "**What transformation x, when we apply it twice, turns 1 into 25?**\n",
    "\n",
    "There are two answers to this questions:\n",
    "\n",
    "1. x = 5, meaning you can scale 5. \n",
    "2. x = -5, meaning scale by 5 and flip (flip is an interpretation of multiplying by a negative)\n",
    "\n",
    "Now if we try to solve the following problem, \n",
    "\n",
    "$$x^2 = -1$$\n",
    "\n",
    "what would that transformation be?\n",
    "\n",
    "* We can't multiply by a positive number twice, since the result will be positive.\n",
    "\n",
    "* We can't multiply by a negative number twice, because again we will get a positive number. \n",
    "\n",
    "\n",
    "#### Discuss with your neighbor\n",
    "\n",
    "- What kind of transformation, when applied it twice, will turn 1 into -1?"
   ]
  },
  {
   "cell_type": "markdown",
   "metadata": {},
   "source": [
    "If you got excited and scrolled down too much, now you know that the transformation is a **rotation**. In particular a rotation by 90°, if we apply it twice it gives as a flip from 1 to -1. \n",
    "\n",
    "<img src=\"../images/real_imag_rot.png\" style=\"width: 400px;\"/>\n",
    "\n",
    "In this case we rotated counter clockwise to turn 1 into -1, this can be thought as multiplying by $i$ twice. We could also rotate twice in the clockwise direction, or multiply by $-i$ twice, to obtain the same result. Then, we see that there two square roots of -1, $i$ and $-i$. \n",
    "\n",
    "As you can see in the figure above $i$ belongs to the new dimension, this is the \"imaginary dimension\", and it is where numbers land when we rotate them. \n",
    "\n",
    "Let's explore all what we've learn by playing around with python complex numbers and some built in functions of the module `cmath`.\n",
    "\n",
    "In python imaginary numbers are represented by the letter `j` instead of `i`. For example, the complex number `z= 1+i` would be:"
   ]
  },
  {
   "cell_type": "code",
   "execution_count": 5,
   "metadata": {},
   "outputs": [],
   "source": [
    "z = 1+1j"
   ]
  },
  {
   "cell_type": "markdown",
   "metadata": {},
   "source": [
    "We can check the type of `z` by using the built in function `type()`"
   ]
  },
  {
   "cell_type": "code",
   "execution_count": 6,
   "metadata": {},
   "outputs": [
    {
     "data": {
      "text/plain": [
       "complex"
      ]
     },
     "execution_count": 6,
     "metadata": {},
     "output_type": "execute_result"
    }
   ],
   "source": [
    "type(z)"
   ]
  },
  {
   "cell_type": "markdown",
   "metadata": {},
   "source": [
    "We can check what is the real and imaginary parts by doing:"
   ]
  },
  {
   "cell_type": "code",
   "execution_count": 7,
   "metadata": {},
   "outputs": [
    {
     "data": {
      "text/plain": [
       "1.0"
      ]
     },
     "execution_count": 7,
     "metadata": {},
     "output_type": "execute_result"
    }
   ],
   "source": [
    "z.real"
   ]
  },
  {
   "cell_type": "code",
   "execution_count": 8,
   "metadata": {},
   "outputs": [
    {
     "data": {
      "text/plain": [
       "1.0"
      ]
     },
     "execution_count": 8,
     "metadata": {},
     "output_type": "execute_result"
    }
   ],
   "source": [
    "z.imag"
   ]
  },
  {
   "cell_type": "markdown",
   "metadata": {},
   "source": [
    "Complex numbers have some properties that define them,like the \"complex modulus\" or \"complex norm\", and the angle also known as \"phase\" or \"argument\". \n",
    "\n",
    "The absolute square is defined as:\n",
    "\n",
    "$$|z|^2 = z\\bar{z}$$\n",
    "\n",
    "and the modulus is defined as:\n",
    "\n",
    "$$|z| = \\sqrt{z\\bar{z}} $$\n",
    "\n",
    "where $\\bar{z}$ is the complex conjugate. If $z=a+bi$ then its complex conjugate is $\\bar{z}=a -bi$. "
   ]
  },
  {
   "cell_type": "markdown",
   "metadata": {},
   "source": [
    "##### Exercise\n",
    "\n",
    "Write a function that computes the modulus of a complex number. \n",
    "Tip: Remember that to extract the real and imaginary part you can use `z.real` and `z.imag`. "
   ]
  },
  {
   "cell_type": "markdown",
   "metadata": {},
   "source": [
    "The phase of `z`, defined as the angle of the radius (from origin to `z`) with the positive real axis, can be computed as, the `arctan2(z.imag, z.real)` where `arctan2(x1,x2)` is the arc tangent of `x1/x2` choosing the proper quadrant. Likely, `numpy` has this function built-in, and you can read its documentation in the following link [`numpy.arctan2`](https://docs.scipy.org/doc/numpy/reference/generated/numpy.arctan2.html).\n",
    "\n",
    "Then,\n",
    "\n",
    "$$\\varphi = \\arctan{2}\\left(\\frac{b}{a}\\right)$$\n",
    "\n",
    "Let's write a function that computes the phase of any complex number.\n"
   ]
  },
  {
   "cell_type": "code",
   "execution_count": 10,
   "metadata": {},
   "outputs": [],
   "source": [
    "def compute_phase(z):\n",
    "    ''' Computes the phase of a complex number\n",
    "    \n",
    "    Arguments\n",
    "    ---------\n",
    "    z: complex number.\n",
    "    \n",
    "    Returns\n",
    "    -------\n",
    "    phi: float, angle in radians\n",
    "    '''\n",
    "    \n",
    "    phi = numpy.arctan2(z.imag, z.real)\n",
    "    \n",
    "    return phi"
   ]
  },
  {
   "cell_type": "markdown",
   "metadata": {},
   "source": [
    "Let's try our function:"
   ]
  },
  {
   "cell_type": "code",
   "execution_count": 11,
   "metadata": {},
   "outputs": [
    {
     "data": {
      "text/plain": [
       "0.78539816339744828"
      ]
     },
     "execution_count": 11,
     "metadata": {},
     "output_type": "execute_result"
    }
   ],
   "source": [
    "z1 = 3 + 3j\n",
    "compute_phase(z1)"
   ]
  },
  {
   "cell_type": "markdown",
   "metadata": {},
   "source": [
    "If we draw in a piece of paper, the coordinates of `z1` we know that the phase is 45 degrees ($\\pi/4$).  "
   ]
  },
  {
   "cell_type": "markdown",
   "metadata": {},
   "source": [
    "##### Exercise:\n",
    "\n",
    "Write a new function, similar to `compute_phase()` that returns the angles in degrees. "
   ]
  },
  {
   "cell_type": "markdown",
   "metadata": {},
   "source": [
    "You might have notice that with the modulus and the phase, we can also represent a complex number. But how?"
   ]
  },
  {
   "cell_type": "markdown",
   "metadata": {},
   "source": [
    "### Euler's formula\n",
    "\n",
    "Euler's formula, is the mathematical relationship that establish the connection between trigonometric functions and the complex exponential function. \n",
    "\n",
    "$$e^{ix} = \\cos(x) + i\\sin(x)$$\n",
    "\n",
    "In particular, when $x=\\pi$ \n",
    "\n",
    "$$ e^{i\\pi} = -1$$\n",
    "\n",
    "If you want to see an intuitive explanation of why this happens, check the video of [3Blue1Brown - Euler's formula with introductory group theory](https://www.youtube.com/watch?v=mvmuCPvRoWQ) \n",
    "\n",
    "Having this information, we can represent any complex number of the form $z=a+ib$ as $z=re^{i\\varphi}$ where $r=|z|$ and $\\varphi$ is the phase of `z` as defined above. "
   ]
  },
  {
   "cell_type": "markdown",
   "metadata": {},
   "source": [
    "Now we have a better notion how complex numbers are represented in the space, we can use the built-in functions provided in the module `cmath` to explore more complex numbers. "
   ]
  },
  {
   "cell_type": "code",
   "execution_count": null,
   "metadata": {},
   "outputs": [],
   "source": []
  }
 ],
 "metadata": {
  "kernelspec": {
   "display_name": "Python 3",
   "language": "python",
   "name": "python3"
  },
  "language_info": {
   "codemirror_mode": {
    "name": "ipython",
    "version": 3
   },
   "file_extension": ".py",
   "mimetype": "text/x-python",
   "name": "python",
   "nbconvert_exporter": "python",
   "pygments_lexer": "ipython3",
   "version": "3.6.7"
  }
 },
 "nbformat": 4,
 "nbformat_minor": 2
}
