{
 "cells": [
  {
   "cell_type": "markdown",
   "metadata": {},
   "source": [
    "# But what is the Fourier transform? \n",
    "\n",
    "This lesson is based on the video [\"But what is the Fourier transform? A visual intorduction\"](https://www.youtube.com/watch?v=spUNpyF58BY&t=888s&ab_channel=3Blue1Brown) from 3Blue1Brown.\n",
    "\n",
    "We have been told that Fourier Transforms are very useful in the engineering world, and that there are many applications of it. As a student you probably heard (or will hear) about the Fourier transforms, and maybe you even have a professor that told you that this is the most important topic that an engineer has to know (as all the topics right?). But seriously, what is it?\n",
    "\n",
    "Well there is definition or explanation that goes as \"a Fourier Transform is a mathematical transform that decomposes a function (often a function of time, or a signal) into its constituent frequencies.\" [(Wikipedia)](https://en.wikipedia.org/wiki/Fourier_transform) Where a mathematical transform is an operation that maps a function from its original function space into another function space. For example, we can have a sound signal in terms of time or transform it and express it in terms of its frequencies. \n",
    "\n",
    "This explanation can be a little complicated and it is still not that intuitive. In this lesson we will see a visual representation of what a the Fourier Transform is and get a better understanding of it. Trust us, we don't want to contribute to what originated this famous meme.\n",
    "\n",
    "<img src=\"../images/four_year_meme.png\" style=\"width: 400px;\"/>\n"
   ]
  },
  {
   "cell_type": "markdown",
   "metadata": {},
   "source": [
    "When we talk about audio recording there is an important concept called \"sample rate\", which defines how many times per second a sound is sample. But how do we choose this number? Well luckily there is a theorem called the [\"Nyquist–Shannon sampling theorem\n",
    "\"](https://en.wikipedia.org/wiki/Nyquist%E2%80%93Shannon_sampling_theorem)that states that the sampling rate needs to be more than twice the maximum frequency of the signal to be recorded. Now the audu=ible freqeuncy range for humans is between 20-2000 Hz, therefore we would need a rate of at least 40 kHz. 44100 samples per second (44 kHz) is one of the most popular sample rates used in audio recording. This value was inherited from PCM adaptor (a device that encodes digital audio as video for recording on a videocassette recorder) which was the most affordable way to transfer data from a recording studio to the CD manufacturer. [(Wikipedia-44,100Hz)](https://en.wikipedia.org/wiki/44,100_Hz)\n",
    "\n",
    "Having a sample rate of 44.1 KHz means that when we create our \"time\" array let's say in seconds, the number of points will be equal to the seconds times the sample-rate. For example, if we want our audio to be recorded for two seconds, we can create our time array doing the following:"
   ]
  },
  {
   "cell_type": "code",
   "execution_count": null,
   "metadata": {},
   "outputs": [],
   "source": [
    "import numpy\n",
    "from matplotlib import pyplot, animation"
   ]
  },
  {
   "cell_type": "code",
   "execution_count": null,
   "metadata": {},
   "outputs": [],
   "source": [
    "#we will use this module later on.\n",
    "import sys\n",
    "sys.path.append('../scripts/')\n",
    "\n",
    "import almost_fourier_helper as afh"
   ]
  },
  {
   "cell_type": "code",
   "execution_count": null,
   "metadata": {},
   "outputs": [],
   "source": [
    "pyplot.rc('font', family='serif', size=16)"
   ]
  },
  {
   "cell_type": "code",
   "execution_count": null,
   "metadata": {},
   "outputs": [],
   "source": [
    "sample_rate = 44100  #Hz\n",
    "length_sec = 2       #seconds\n",
    "time = numpy.linspace(0, length_sec, sample_rate * length_sec)  "
   ]
  },
  {
   "cell_type": "markdown",
   "metadata": {},
   "source": [
    "Now we can represent sound wave using sine function:\n",
    "$$y = A \\sin(2\\pi \\; f \\; t + \\theta)$$\n",
    "where $A$ is the maximum amplitude, $f$ the frequency and $\\theta$ is the phase. Let's create a sound wave using the \"Stuttgart pitch\", also known as A440, which corresponds to an audio with frequency 440 Hz, which is a universal tunning standard in music.\n",
    "\n",
    "Using the sine function from `numpy` we can write:"
   ]
  },
  {
   "cell_type": "code",
   "execution_count": null,
   "metadata": {},
   "outputs": [],
   "source": [
    "freq = 440 #Hz\n",
    "y = numpy.sin(2 * numpy.pi * freq * time) "
   ]
  },
  {
   "cell_type": "markdown",
   "metadata": {},
   "source": [
    "Note that we assumed maximum amplited $A=1$ and the phase to be $\\theta=0$ for simplicity. "
   ]
  },
  {
   "cell_type": "markdown",
   "metadata": {},
   "source": [
    "In this lesson we will introduce to new packages, `wavfile` from `scipy.io` (there is no link to documentation), and `Audio` from `Ipython.display`. We will use [`wavfile.write()`](https://docs.scipy.org/doc/scipy/reference/generated/scipy.io.wavfile.write.html#scipy.io.wavfile.write) and [`wavfile.read()`](https://docs.scipy.org/doc/scipy/reference/generated/scipy.io.wavfile.read.html#scipy.io.wavfile.read)  to save and read our sound waves, and we will use [`Audio`](https://ipython.readthedocs.io/en/stable/api/generated/IPython.display.html?highlight=Audio#IPython.display.Audio) to display a widget that can play sounds of any wave we create. "
   ]
  },
  {
   "cell_type": "code",
   "execution_count": null,
   "metadata": {},
   "outputs": [],
   "source": [
    "from scipy.io import wavfile\n",
    "from IPython.display import Audio"
   ]
  },
  {
   "cell_type": "code",
   "execution_count": null,
   "metadata": {},
   "outputs": [],
   "source": [
    "Audio(y, rate=sample_rate)"
   ]
  },
  {
   "cell_type": "markdown",
   "metadata": {},
   "source": [
    "Note that we are giving `Audio()` the signal `y` and the sample rate of our original data, following the `Audio()` documentation:\n",
    ">  **rate** (integer) – The sampling rate of the raw data. Only required when data parameter is being used as an array"
   ]
  },
  {
   "cell_type": "markdown",
   "metadata": {},
   "source": [
    "### Exercise \n",
    "\n",
    "Write a function that you give as inputs the frequency and the duration of the sound, and returns the time array and the signal. Use a sample rate of 44100 Hz."
   ]
  },
  {
   "cell_type": "code",
   "execution_count": null,
   "metadata": {},
   "outputs": [],
   "source": [
    "#solution\n",
    "def sine_signal(f, s, phase=0):\n",
    "    '''It creates a sine signal of frquency f and duration s\n",
    "    using a sample rate of 44.1kHz and returns it along with \n",
    "    the time array\n",
    "    \n",
    "    Arguments:\n",
    "    ----------\n",
    "    f: float, frequency\n",
    "    s: float, duration of the audio in seconds\n",
    "    phase: float, add phase in radians if desired. \n",
    "    \n",
    "    Returns:\n",
    "    --------\n",
    "    wave: array, sinusoidal wave array of frequency f.\n",
    "    \n",
    "    '''\n",
    "    samp_rate = 44100\n",
    "    time = numpy.linspace(0, s, samp_rate * s)  \n",
    "    \n",
    "    wave = numpy.sin(2 * numpy.pi * f * time + phase)\n",
    "    \n",
    "    return wave, time"
   ]
  },
  {
   "cell_type": "markdown",
   "metadata": {},
   "source": [
    "Let's create two wave sounds of two seconds, one using the frequency 440 Hz and other of 294 Hz. For the record (pun intended), the 440 Hz frequency correspond to an A note and 294Hz correspond to a D note, both on the fourth octave.  "
   ]
  },
  {
   "cell_type": "code",
   "execution_count": null,
   "metadata": {},
   "outputs": [],
   "source": [
    "A440, t2 = sine_signal(f=440, s=2)\n",
    "D294 = sine_signal(f=294, s=2)[0] "
   ]
  },
  {
   "cell_type": "markdown",
   "metadata": {},
   "source": [
    "Note that in the case of D294 we use `[0]`. We do this to only save the wave value, because the time array is the same than the case of A440.\n",
    "\n",
    "Let's listen to the sound of D294, remember that we need to pass the sample rate to the `Audio()` function. We used 44100Hz, then:"
   ]
  },
  {
   "cell_type": "code",
   "execution_count": null,
   "metadata": {},
   "outputs": [],
   "source": [
    "Audio(D294, rate=sample_rate) #we defined sample_rate = 44100 in In [2]"
   ]
  },
  {
   "cell_type": "markdown",
   "metadata": {},
   "source": [
    "### Exercise\n",
    "\n",
    "Create the sounds widget for the sum of A440 and D294. "
   ]
  },
  {
   "cell_type": "code",
   "execution_count": null,
   "metadata": {},
   "outputs": [],
   "source": [
    "##Solution\n",
    "Audio(D294+A440, rate=sample_rate)"
   ]
  },
  {
   "cell_type": "markdown",
   "metadata": {},
   "source": [
    "Nice right?\n",
    "Note that this works since bothe wave arrays are the same length and have the same sample rate. \n",
    "Let's plot this sound waves:"
   ]
  },
  {
   "cell_type": "code",
   "execution_count": null,
   "metadata": {},
   "outputs": [],
   "source": [
    "# We plot the first 1000 points to be able to visualize. \n",
    "f, (ax1, ax2, ax3) = pyplot.subplots(3, 1, sharex=True, figsize=(12.0, 9.0))\n",
    "\n",
    "ax1.plot(t2[:1000], (A440+D294)[:1000], c='C0', label='A440 + D294')\n",
    "\n",
    "ax2.plot(t2[:1000], D294[:1000], c='C1', label='D294')\n",
    "ax2.set_ylabel('Amplitude')\n",
    "\n",
    "ax3.plot(t2[:1000], A440[:1000], c='C2', label='A440')\n",
    "\n",
    "ax3.set_xlabel('time [s]')\n",
    "\n",
    "#plot all legends in one line\n",
    "[ax.legend(loc='upper right') for ax in (ax1, ax2, ax3)];\n",
    "\n"
   ]
  },
  {
   "cell_type": "markdown",
   "metadata": {},
   "source": [
    "### Exercise\n",
    "\n",
    "- Create two separate sound waves that last two seconds, that have frequencies of 349Hz and 523Hz, and called them F349 and C523 respectively. \n",
    "- Create the audio widget that plays the sound that results from the sum of all the frequencies we have created.\n",
    "- Plot all the sound waves and the sum of all of them in aplot like the one above."
   ]
  },
  {
   "cell_type": "code",
   "execution_count": null,
   "metadata": {},
   "outputs": [],
   "source": [
    "#solution\n",
    "F349 = sine_signal(f=349, s=2)[0]\n",
    "C523 = sine_signal(f=523, s=2)[0] "
   ]
  },
  {
   "cell_type": "code",
   "execution_count": null,
   "metadata": {},
   "outputs": [],
   "source": [
    "Audio(D294+A440+F349+C523, rate=sample_rate)"
   ]
  },
  {
   "cell_type": "markdown",
   "metadata": {},
   "source": [
    "Let's learn how to save this sound in a `wav` file. We will use the pakcage `wavefile` from `scipy.io`."
   ]
  },
  {
   "cell_type": "code",
   "execution_count": null,
   "metadata": {},
   "outputs": [],
   "source": [
    "from scipy.io import wavfile"
   ]
  },
  {
   "cell_type": "code",
   "execution_count": null,
   "metadata": {},
   "outputs": [],
   "source": [
    "sum_waves = A440 + D294 + F349 + C523"
   ]
  },
  {
   "cell_type": "code",
   "execution_count": null,
   "metadata": {},
   "outputs": [],
   "source": [
    "wavfile.write('sum_ADFC.wav', sample_rate, sum_waves) #name of file, sample rate, array"
   ]
  },
  {
   "cell_type": "markdown",
   "metadata": {},
   "source": [
    "To read back this file we can use the `read()` function from `wavfile`, let's read back the file and see what contains. "
   ]
  },
  {
   "cell_type": "code",
   "execution_count": null,
   "metadata": {},
   "outputs": [],
   "source": [
    "wavfile.read('sum_ADFC.wav')"
   ]
  },
  {
   "cell_type": "markdown",
   "metadata": {},
   "source": [
    "As you can see it is a tuple, that contains the sameple rate and an array with what looks to be the data. Let's see what happens if we save into a variable just the data and play it back using `Audio()`."
   ]
  },
  {
   "cell_type": "code",
   "execution_count": null,
   "metadata": {},
   "outputs": [],
   "source": [
    "wave_ADFC = wavfile.read('../data/sum_ADFC.wav')[1]"
   ]
  },
  {
   "cell_type": "code",
   "execution_count": null,
   "metadata": {},
   "outputs": [],
   "source": [
    "Audio(wave_ADFC, rate=sample_rate)"
   ]
  },
  {
   "cell_type": "markdown",
   "metadata": {},
   "source": [
    "Now imagine that we receive this file or a mic recording and we wanted to decompose it into its frequencies. Just to be clear, a mic recording, pics up on the pressure at any point in time, basically it only sees the final curve, the sum of all the waves. How can you decompose it in the pure frequencies? \n",
    "\n",
    "We want a mathematical tool that treats signal with a given frequency differently form how it treat others.\n",
    "\n",
    "We will start with a pure signal with a frequency of three beats per second. We choose this low value to be able to plot it easily. Also for plotting we will shift our signal to start at one instead of zero by adding a phase of $\\pi/2$."
   ]
  },
  {
   "cell_type": "code",
   "execution_count": null,
   "metadata": {},
   "outputs": [],
   "source": [
    "g_t, t_new = sine_signal(f=3, s=2, phase=numpy.pi/2)"
   ]
  },
  {
   "cell_type": "code",
   "execution_count": null,
   "metadata": {},
   "outputs": [],
   "source": [
    "pyplot.plot(t_new, g_t, label='3 beats/sec')\n",
    "pyplot.xlabel('Time [s]')\n",
    "pyplot.ylabel('Amplitude')\n",
    "pyplot.legend(loc='upper right', fontsize=12);"
   ]
  },
  {
   "cell_type": "markdown",
   "metadata": {},
   "source": [
    "The idea behind this mathematical tool is to take this plot, and wrap it around a circle. To do that we need to create function that has a frequency with whcih we will wrap up the signal around the circle. \n",
    "\n",
    "We learn on the complex numbers lesson that we can represent a circle using Euler's formula. "
   ]
  },
  {
   "cell_type": "code",
   "execution_count": null,
   "metadata": {},
   "outputs": [],
   "source": [
    "def comp_fourier_term(f, t):\n",
    "    \n",
    "    circ = numpy.exp(-2*numpy.pi*1j*f*t)\n",
    "    \n",
    "    return circ"
   ]
  },
  {
   "cell_type": "markdown",
   "metadata": {},
   "source": [
    "This functions creates a circle of radius $R=1$ and the frequency determines how many times around de circle we wrapa function. In this case since we are not multiplying by any function, we are wrapping teh constant functionequal to one ($f(t) = 1$)"
   ]
  },
  {
   "cell_type": "code",
   "execution_count": null,
   "metadata": {},
   "outputs": [],
   "source": [
    "wrap = comp_fourier_term(1, t_new)"
   ]
  },
  {
   "cell_type": "code",
   "execution_count": null,
   "metadata": {},
   "outputs": [],
   "source": [
    "fig, ax = pyplot.subplots(figsize=(8.0, 6.0))\n",
    "ax.grid()\n",
    "\n",
    "ticks= numpy.linspace(-1,1, 5, endpoint=True)\n",
    "ax.plot(wrap.real, wrap.imag)\n",
    "ax.axis('scaled', adjustable='box')\n",
    "ax.set_xticks(ticks)\n",
    "ax.set_yticks(ticks)\n",
    "ax.set_xlim(-1.1,1.1)\n",
    "ax.set_ylim(-1.1,1.1);"
   ]
  },
  {
   "cell_type": "markdown",
   "metadata": {},
   "source": [
    "Now let's see what happens if we multiply our signal by this wrapping tool. Play around by changing the \"winding\" frequency. The frequency of the `comp_fourier_term` function. "
   ]
  },
  {
   "cell_type": "code",
   "execution_count": null,
   "metadata": {},
   "outputs": [],
   "source": [
    "WS = g_t * comp_fourier_term(f=0.5, t=t_new)"
   ]
  },
  {
   "cell_type": "code",
   "execution_count": null,
   "metadata": {},
   "outputs": [],
   "source": [
    "fig, ax = pyplot.subplots(figsize=(8.0, 6.0))\n",
    "ax.grid()\n",
    "\n",
    "ticks= numpy.linspace(-1,1, 5, endpoint=True)\n",
    "ax.plot(WS.real, WS.imag)\n",
    "ax.axis('scaled', adjustable='box')\n",
    "ax.set_xticks(ticks)\n",
    "ax.set_yticks(ticks)\n",
    "ax.set_xlim(-1.1,1.1)\n",
    "ax.set_ylim(-1.1,1.1);"
   ]
  },
  {
   "cell_type": "markdown",
   "metadata": {},
   "source": [
    "We have aour signal wrapped around a circle, but how does this helps us to build a mathematical machine that works as an unmixing-frequency tool.\n",
    "Imagine this wind up signal has a weight, like a center of mass, as we change the winding frequency the graph will be differently and the center of mass will change. But the peaks and valleys of thh signal are spaced out around the circle such that the center of mass, even though it moves, it stays pretty close to zero. As the winding frequency approaches to the frequency of our original signal (try a value of 2.9), all the peaks are on the right, then the center of mass is way more in the right. \n",
    "\n",
    "Let's see this in action, for now we will only care about the x-coordinate of the center of mass, and we can compute it using a function: "
   ]
  },
  {
   "cell_type": "code",
   "execution_count": null,
   "metadata": {},
   "outputs": [],
   "source": [
    "def get_xcenter_mass(signal):\n",
    "    ''' Compute the center of mass of the signal wraped around the circle\n",
    "    Arguments:\n",
    "    signal: array, complex array of signal around circle\n",
    "    \n",
    "    Returns:\n",
    "    xcm : float, position on x axis of the center of mass of the signal\n",
    "    '''\n",
    "    \n",
    "    xs = signal.real\n",
    "    \n",
    "    xcm = numpy.sum(xs)/len(xs)\n",
    "    \n",
    "    return xcm"
   ]
  },
  {
   "cell_type": "code",
   "execution_count": null,
   "metadata": {},
   "outputs": [],
   "source": [
    "xcm0 = get_xcenter_mass(WS)\n",
    "print(xcm0)"
   ]
  },
  {
   "cell_type": "markdown",
   "metadata": {},
   "source": [
    "As you can see if, we use a frequency of winding of 0.5 cycles/second, the value of teh center of mass is almost cero. Now let's create a widget that allows as to see the full behavior when sweeping over the frequencies. We will create an array of frequencies, that we will sweep over, and an array where we will be storing the center of mass x-coordinate. Then we will plot the position of the center of mass as a function of the frequency."
   ]
  },
  {
   "cell_type": "code",
   "execution_count": null,
   "metadata": {},
   "outputs": [],
   "source": [
    "#Frequency array\n",
    "freqs = numpy.arange(1.5, 4, 0.03)"
   ]
  },
  {
   "cell_type": "markdown",
   "metadata": {},
   "source": [
    "We create an array that has the length of teh `freqs` array and we filled with `None` values everywhere. We will save the first value of on the index 0, that correspond to the frequency 0.5. We need to initialize this array, and to generate a snapshot of the figure that we will be updating. \n",
    "We created helper functions that we imported at the top of this notebook. "
   ]
  },
  {
   "cell_type": "code",
   "execution_count": null,
   "metadata": {},
   "outputs": [],
   "source": [
    "xcm_array = numpy.full_like(freqs, None)\n",
    "xcm_array[0] = xcm0"
   ]
  },
  {
   "cell_type": "markdown",
   "metadata": {},
   "source": [
    "In the next cell we are creating the snapshot of the figure we will update. We use the magic `%%capture` to not plot the figure, since it's not necessary. \n",
    "The function `create_init_fig` takes as argument the Wrapped Signal (above we called it WS), the frequencies array, and the center of mass array, which for now it contains only one value. This function returns a dictionary, let's use the magic `?` to see what it returns."
   ]
  },
  {
   "cell_type": "code",
   "execution_count": null,
   "metadata": {},
   "outputs": [],
   "source": [
    "?afh.create_init_fig"
   ]
  },
  {
   "cell_type": "code",
   "execution_count": null,
   "metadata": {},
   "outputs": [],
   "source": [
    "%%capture\n",
    "anim_dict = afh.create_init_fig(WS, freqs, xcm_array)"
   ]
  },
  {
   "cell_type": "code",
   "execution_count": null,
   "metadata": {},
   "outputs": [],
   "source": [
    "from IPython.display import HTML\n",
    "import ipywidgets"
   ]
  },
  {
   "cell_type": "markdown",
   "metadata": {},
   "source": [
    "To update the figure, we will need to add things we need to our dictionary. We will add the `xcm_array`, which will get updated inside the `update_figure` function, and we need to add the functions that compute the fourier term and the one that coputes the center of mass."
   ]
  },
  {
   "cell_type": "code",
   "execution_count": null,
   "metadata": {},
   "outputs": [],
   "source": [
    "anim_dict['xcm_arr'] = xcm_array"
   ]
  },
  {
   "cell_type": "code",
   "execution_count": null,
   "metadata": {},
   "outputs": [],
   "source": [
    "anim_dict['_comp_fourier'] = comp_fourier_term\n",
    "anim_dict['_get_xcm'] = get_xcenter_mass"
   ]
  },
  {
   "cell_type": "markdown",
   "metadata": {},
   "source": [
    "Notice that at the beginning of the key names of the functions added to the dictionary we have an underscore `_`. We use an `_` in the key name, as a reminder that they are functions.\n",
    "\n",
    "The next cell, creates an slider for the frequencies, and update the figure for different values of the frequencies. After you run the cell, if you move the slider, you'll see on the right plot that the x-coordinate of the center of mass gets plotted for each frequency, and as we approach the value of the frequency of the original signal we see a peak. "
   ]
  },
  {
   "cell_type": "code",
   "execution_count": null,
   "metadata": {},
   "outputs": [],
   "source": [
    "f_slider = ipywidgets.IntSlider(value=0, min=0, max=len(freqs)-1, step=1, description='Step')\n",
    "w = ipywidgets.interactive(afh.update_figure, f=f_slider, anim_dict=ipywidgets.fixed(anim_dict),\n",
    "                           g_t=ipywidgets.fixed(g_t),\n",
    "                           freq_arr=ipywidgets.fixed(freqs),\n",
    "                           t_arr=ipywidgets.fixed(t_new),\n",
    "                           display_fig=ipywidgets.fixed(True))\n",
    "\n",
    "display(w)\n"
   ]
  },
  {
   "cell_type": "markdown",
   "metadata": {},
   "source": [
    "For convenience we can create an animation running the following cell. This is less laggy than the slider, and we can still see the behavior."
   ]
  },
  {
   "cell_type": "code",
   "execution_count": null,
   "metadata": {},
   "outputs": [],
   "source": [
    "# Create the Matplotlib animation.\n",
    "anim = animation.FuncAnimation(anim_dict['fig'], afh.update_figure,\n",
    "                               frames=len(freqs), \n",
    "                               fargs=(anim_dict, g_t, freqs, t_new),\n",
    "                               interval=300)\n",
    "# Display the animation.\n",
    "HTML(anim.to_html5_video())"
   ]
  },
  {
   "cell_type": "markdown",
   "metadata": {},
   "source": [
    "As we mentioned before, in general we do not know what are the frequencies that are involved in the original signal. Let's use the mathematical tool we developed to see what happen when we get a signal that we don't know the frequencies that compose them. \n",
    "\n",
    "There is a file in the `data` directory called `new_signal.txt` that contains a two columns, time and signal. Let's load this data and use our tool to identify the frequencies. For reference, we created this array, and you won't need to change the frequencies array.  "
   ]
  },
  {
   "cell_type": "code",
   "execution_count": null,
   "metadata": {},
   "outputs": [],
   "source": [
    "t_sig, sig = numpy.loadtxt('../data/new_signal.txt', unpack=True)"
   ]
  },
  {
   "cell_type": "markdown",
   "metadata": {},
   "source": [
    "Now we need to initialize the figure and create the dictionary that will contain the information we will update. We will name the dictionary `anim_dict_new` and to create it, we need to provide the new wrapped signal, and the initilized center of mass array:"
   ]
  },
  {
   "cell_type": "code",
   "execution_count": null,
   "metadata": {},
   "outputs": [],
   "source": [
    "#we can start at a frequency of 1 for the initial wrapped signal. \n",
    "WS_new =  sig * comp_fourier_term(f=1, t=t_sig)"
   ]
  },
  {
   "cell_type": "code",
   "execution_count": null,
   "metadata": {},
   "outputs": [],
   "source": [
    "xcm_array_new = numpy.full_like(freqs, None)\n",
    "xcm_array_new[0] = get_xcenter_mass(WS_new)"
   ]
  },
  {
   "cell_type": "code",
   "execution_count": null,
   "metadata": {},
   "outputs": [],
   "source": []
  },
  {
   "cell_type": "code",
   "execution_count": null,
   "metadata": {},
   "outputs": [],
   "source": [
    "%%capture\n",
    "anim_dict_new = afh.create_init_fig(WS_new, freqs, xcm_array_new)"
   ]
  },
  {
   "cell_type": "markdown",
   "metadata": {},
   "source": [
    "Now we need to add to our dictionary, the center of mass array that we are going to update, as well as the functions we used above. "
   ]
  },
  {
   "cell_type": "code",
   "execution_count": null,
   "metadata": {},
   "outputs": [],
   "source": [
    "anim_dict_new['xcm_arr'] = xcm_array_new\n",
    "anim_dict_new['_comp_fourier'] = comp_fourier_term\n",
    "anim_dict_new['_get_xcm'] = get_xcenter_mass"
   ]
  },
  {
   "cell_type": "markdown",
   "metadata": {},
   "source": [
    "Now our slider is the same, we only need to change the inputs for the function that have cnaged. "
   ]
  },
  {
   "cell_type": "code",
   "execution_count": null,
   "metadata": {},
   "outputs": [],
   "source": [
    "w_new = ipywidgets.interactive(afh.update_figure, f=f_slider, anim_dict=ipywidgets.fixed(anim_dict_new),\n",
    "                           g_t=ipywidgets.fixed(sig),\n",
    "                           freq_arr=ipywidgets.fixed(freqs),\n",
    "                           t_arr=ipywidgets.fixed(t_sig),\n",
    "                           display_fig=ipywidgets.fixed(True))\n",
    "\n",
    "display(w_new)"
   ]
  },
  {
   "cell_type": "code",
   "execution_count": null,
   "metadata": {},
   "outputs": [],
   "source": [
    "# Create the Matplotlib animation.\n",
    "anim_new = animation.FuncAnimation(anim_dict_new['fig'], afh.update_figure,\n",
    "                               frames=len(freqs), \n",
    "                               fargs=(anim_dict_new, sig, freqs, t_sig),\n",
    "                               interval=300)\n",
    "# Display the animation.\n",
    "HTML(anim_new.to_html5_video())"
   ]
  },
  {
   "cell_type": "markdown",
   "metadata": {},
   "source": [
    "Now we can see we have two peaks, one at $f=2$ and the other at $f=3.5$. \n",
    "This tool let us identify the frequencies that are in our original signal. Now we can call this tool the **\"Almost Fourier transform\"**, since we computed only the x-coordinate of the center of mass of our wind up signal (we ignored the y-coordinate) and we did the average over the total amount of points we had in our wrapped-up signal. the actual fourier transform assumes we have a lot of elements in our signal to the point that the Sum turns into an integral, and we do not devide by the total amount of points. \n",
    "\n",
    "The actual Fourier transform is:\n",
    "\\begin{equation}\n",
    "     \\hat{g}(f) = \\int_{t_1}^{t_2} g(t) e^{-2\\pi i f t} dt\n",
    "\\end{equation}\n",
    "\n",
    "What this means is that instead of looking at the center of mass, we would scaled it up, like an augmentation. If the portion of the original graph went for two seconds, then you would multiply the center of mass by two. Phisically, this has the effect that when a certain frequency persist for a long time then the magnitud of the fourier transform is scaled up more and more. \n",
    "\n",
    "One more note, in the theory of fourier transform the bounds of the integral are $\\pm \\infty$, what this meanis is that we consider all possible finite time intervals, and we asked what is its limit as this interval grows to infinity.\n",
    "\n",
    "In the next lesson we will see how to compute the Fourier transform using numpy, and in a sound application. We will see how we can filter noise by identifying the frequencies that cause them and removing them. "
   ]
  },
  {
   "cell_type": "code",
   "execution_count": null,
   "metadata": {},
   "outputs": [],
   "source": []
  }
 ],
 "metadata": {
  "kernelspec": {
   "display_name": "Python 3",
   "language": "python",
   "name": "python3"
  },
  "language_info": {
   "codemirror_mode": {
    "name": "ipython",
    "version": 3
   },
   "file_extension": ".py",
   "mimetype": "text/x-python",
   "name": "python",
   "nbconvert_exporter": "python",
   "pygments_lexer": "ipython3",
   "version": "3.7.3"
  }
 },
 "nbformat": 4,
 "nbformat_minor": 2
}
