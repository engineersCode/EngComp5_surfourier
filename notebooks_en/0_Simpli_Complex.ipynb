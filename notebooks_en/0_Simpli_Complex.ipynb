{
 "cells": [
  {
   "cell_type": "raw",
   "metadata": {},
   "source": [
    "Content under Creative Commons Attribution license CC-BY 4.0, code under BSD 3-Clause License © 2020 L.A. Barba, N.C. Clementi"
   ]
  },
  {
   "cell_type": "markdown",
   "metadata": {},
   "source": [
    "# The simplicity of the complex"
   ]
  },
  {
   "cell_type": "markdown",
   "metadata": {},
   "source": [
    "Welcome to a new module of the _Engineering Computations_ series! In this module, we lay a foundation for learning about Fourier series and Fourier transforms in science and engineering. \n",
    "The applications of these mathematical tools are vast: signal processing, acoustics, astronomy, statistics, even medical imaging, and music synthesis! \n",
    "\n",
    "But before we delve into it, we need to know a little about **complex numbers**, and this \"lesson zero\" of the module aims to give you a simple introduction or refresher to them."
   ]
  },
  {
   "cell_type": "markdown",
   "metadata": {},
   "source": [
    "## What are complex numbers?\n",
    "\n",
    "One of our favorite YouTubers, Grant Sanderson, did a live stream on 24 April 2020 on [\"Complex number fundamentals,\"](https://www.youtube.com/watch?v=5PcpBw5Hbwo) and we highly recommend the video!\n",
    "\n",
    "Let's review. When you learned about taking _powers_ of numbers, you found that every time you _square_ a number, the result is positive—whether the number is positive or negative. E.g., $5^2=25$ and $(-5)^2=25$.\n",
    "\n",
    "At some point in recent history, mathematicians needed a number that, when squared, would give $-1$ as a result. So they went ahead and _defined_ it and called it $i$: \n",
    "\n",
    "$$i^2 = -1$$\n",
    "\n",
    "Just like that. Poof! When they first came up with this idea, others were unconvinced: they called this an _imaginary number_, with scorn. "
   ]
  },
  {
   "cell_type": "markdown",
   "metadata": {},
   "source": [
    "Next, as Grant recounts, the mathematicians gave this number and its multiples a home _in another dimension_. You know that the real numbers live on the real line, which we take to be a horizontal axis. The imaginary numbers, which are multiples of $i$, live on a vertical axis, as shown on the sketch below.\n",
    "\n",
    "<img src=\"../images/complex_plane.png\" style=\"width: 300px;\"/>\n",
    "\n",
    "_The complex plane, showing $(2,1)$, or  $2+i$._\n",
    "\n",
    "Now, all numbers live on a plane, so they are like _vectors_, and their components are the real and imaginary parts: they are _complex numbers_. When the imaginary part is zero, we fall back on the real line, where the dimension is one: scalars. There you have it!\n",
    "\n",
    "Since complex numbers live on a plane, they are two-dimensional vectors, and we know how to _add_ them: add each component separately to get a new complex number. We know how to multiply them by a scalar: multiply each component (_scale_ it). But how do we _multiply two complex numbers_?\n",
    "\n",
    "For example, what happens to a complex number if you multiply it by $i$? Take $i\\,(3+2i)$. Similar to scalar multiplication, let's multiply each component: $3i + 2i^2$. Aha! Since $i^2=-1$, we get: $-2+3i$."
   ]
  },
  {
   "cell_type": "markdown",
   "metadata": {},
   "source": [
    "## Visualize it\n",
    "\n",
    "Let's now begin an exploration with computing. To start, load our favorite libraries of the Python ecosystem (and set some font parameters for our plots)."
   ]
  },
  {
   "cell_type": "code",
   "execution_count": 1,
   "metadata": {},
   "outputs": [],
   "source": [
    "import numpy\n",
    "from matplotlib import pyplot\n",
    "%matplotlib inline"
   ]
  },
  {
   "cell_type": "code",
   "execution_count": 2,
   "metadata": {},
   "outputs": [],
   "source": [
    "pyplot.rc('font', family='serif', size='14')"
   ]
  },
  {
   "cell_type": "markdown",
   "metadata": {},
   "source": [
    "Below, we plot two vectors corresponding to the complex numbers $(3,2)$ and $(-2,3)$, that is, to $3+2i$ and $i\\,(3+2i)$. We use Matplotlib's [`quiver`](https://matplotlib.org/stable/api/_as_gen/matplotlib.pyplot.quiver.html) function, even if it was designed to plot a 2D field of arrows. Read the documentation of the function and look for some examples online to see how it works."
   ]
  },
  {
   "cell_type": "code",
   "execution_count": 3,
   "metadata": {},
   "outputs": [
    {
     "data": {
      "image/png": "[encoded data removed]",
      "text/plain": [
       "<Figure size 288x288 with 1 Axes>"
      ]
     },
     "metadata": {
      "needs_background": "light"
     },
     "output_type": "display_data"
    }
   ],
   "source": [
    "pyplot.figure(figsize=(4,4))\n",
    "darkblue = '#004065'\n",
    "lightblue = '#0096d6'\n",
    "pyplot.quiver(0,0, 3,2, angles='xy', scale_units='xy', scale=1, color=darkblue)\n",
    "pyplot.quiver(0,0, -2,3,angles='xy', scale_units='xy', scale=1, color=lightblue)\n",
    "pyplot.xlim(-4,4)\n",
    "pyplot.ylim(-4,4)\n",
    "pyplot.grid(True);"
   ]
  },
  {
   "cell_type": "markdown",
   "metadata": {},
   "source": [
    "We observe that multiplying by $i$ transformed the original complex number by rotating it counterclockwise by 90 degrees. This is an important observation!\n",
    "\n",
    "If you think about any unit vector (let's draw a unit circle), with coordinates $(\\cos{\\theta}, \\sin{\\theta})$, the effect of a rotation by 90 degrees is always to swap the coordinate values and flip the sign of the first coordinate, to give: $(-\\sin{\\theta}, \\cos{\\theta})$. Multiplying by $i$ has the same effect. Neat.\n",
    "\n",
    "<img src=\"../images/unitcircle_rot.png\" style=\"width: 300px;\"/>\n",
    "\n",
    "_A rotation by 90 degrees on the unit circle._\n",
    "\n",
    "**Think about this:**\n",
    "\n",
    "> Looking at the figure above, what complex number do we multiply by to get a rotation by $\\pi/6$ (i.e., 30 degrees)?\n",
    "\n",
    "On the unit circle, start on the real line and you see that to rotate by $\\pi/6$ we need a multiple of:  $\\cos{\\frac{\\pi}{6}} + i \\sin{\\frac{\\pi}{6}} $."
   ]
  },
  {
   "cell_type": "markdown",
   "metadata": {},
   "source": [
    "Now look what happens when you multiply the real number $1$ by $i$, and then by $i$ again. As shown on the sketch below, rotating counterclockwise by 180 degrees takes $1$ to $-1$. That is equivalent to multiplying by $i$ twice, i.e., $i^2=-1$.\n",
    "\n",
    "<img src=\"../images/real_imag_rot.png\" style=\"width: 300px;\"/>\n",
    "\n",
    "We could also rotate twice in the clockwise direction, or multiply by $-i$ twice, to obtain the same result, so in fact there are two square roots of $-1$: $i$ and $-i$. \n",
    "\n",
    "**Think about this:**\n",
    "\n",
    "> Rotating first by $\\alpha$ and then by $\\beta$ is like multiplying by two complex numbers:  $(\\cos\\alpha + i\\sin\\alpha)(\\cos\\beta + i\\sin\\beta)$.\n",
    "> That is the same as rotating by $(\\alpha+\\beta)$, or multiplying by $\\cos{(\\alpha+\\beta)} + i\\sin{(\\alpha+\\beta)}$.\n",
    "\n",
    "We re-discover the trigonometric identities for the cosine and sine of a sum of two angles! You can distribute the multiplication, and then match real and imaginary parts."
   ]
  },
  {
   "cell_type": "markdown",
   "metadata": {},
   "source": [
    "## Play with complex numbers in Python\n",
    "\n",
    "Let's explore what we've learned by playing with Python complex numbers. \n",
    "In Python, the imaginary unit is represented by the letter `j` rather than `i`. This could be because of the widespread use of the variable name `i` as a counter or index, or perhaps to follow the conventions in electrical engineering (where the symbol $i$ is used to represent electrical current). \n",
    "\n",
    "Define a complex number $z= 3+2i$ as follows:"
   ]
  },
  {
   "cell_type": "code",
   "execution_count": 4,
   "metadata": {},
   "outputs": [],
   "source": [
    "z = 3+2j"
   ]
  },
  {
   "cell_type": "markdown",
   "metadata": {},
   "source": [
    "We can check the type of this new Python variable `z`:"
   ]
  },
  {
   "cell_type": "code",
   "execution_count": 5,
   "metadata": {},
   "outputs": [
    {
     "data": {
      "text/plain": [
       "complex"
      ]
     },
     "execution_count": 5,
     "metadata": {},
     "output_type": "execute_result"
    }
   ],
   "source": [
    "type(z)"
   ]
  },
  {
   "cell_type": "markdown",
   "metadata": {},
   "source": [
    "Yes! The built-in `complex` Python data type. We can obtain the real and imaginary parts of a Python complex number using the dot notation for attributes:"
   ]
  },
  {
   "cell_type": "code",
   "execution_count": 6,
   "metadata": {},
   "outputs": [
    {
     "data": {
      "text/plain": [
       "3.0"
      ]
     },
     "execution_count": 6,
     "metadata": {},
     "output_type": "execute_result"
    }
   ],
   "source": [
    "z.real"
   ]
  },
  {
   "cell_type": "code",
   "execution_count": 7,
   "metadata": {},
   "outputs": [
    {
     "data": {
      "text/plain": [
       "2.0"
      ]
     },
     "execution_count": 7,
     "metadata": {},
     "output_type": "execute_result"
    }
   ],
   "source": [
    "z.imag"
   ]
  },
  {
   "cell_type": "markdown",
   "metadata": {},
   "source": [
    "Python knows how to add or multiply complex numbers. Let's try it. Multiply `z` by the imaginary unit—which is represented in Python by `1j`, don't forget—to confirm the result we got before."
   ]
  },
  {
   "cell_type": "code",
   "execution_count": 8,
   "metadata": {},
   "outputs": [
    {
     "data": {
      "text/plain": [
       "(-2+3j)"
      ]
     },
     "execution_count": 8,
     "metadata": {},
     "output_type": "execute_result"
    }
   ],
   "source": [
    "1j*z"
   ]
  },
  {
   "cell_type": "code",
   "execution_count": 9,
   "metadata": {},
   "outputs": [
    {
     "data": {
      "text/plain": [
       "(3+3j)"
      ]
     },
     "execution_count": 9,
     "metadata": {},
     "output_type": "execute_result"
    }
   ],
   "source": [
    "(1+2j) + (2+1j)"
   ]
  },
  {
   "cell_type": "markdown",
   "metadata": {},
   "source": [
    "We can also create a complex number from two real numbers using `complex()`:"
   ]
  },
  {
   "cell_type": "code",
   "execution_count": 10,
   "metadata": {},
   "outputs": [
    {
     "data": {
      "text/plain": [
       "(1+1j)"
      ]
     },
     "execution_count": 10,
     "metadata": {},
     "output_type": "execute_result"
    }
   ],
   "source": [
    "complex(1,1)"
   ]
  },
  {
   "cell_type": "markdown",
   "metadata": {},
   "source": [
    "### Functions of complex numbers\n",
    "\n",
    "Python has a module called [`cmath`](https://docs.python.org/3.6/library/cmath.html#module-cmath) that provides functions of complex numbers. Let's play with it.\n",
    "\n",
    "Visualize a complex number with real and imaginary parts $(a, b)$. What angle does it form with the positive real axis? This angle is called the **phase** of the complex number.\n",
    "\n",
    "Look at the figure of the unit circle above: the vector $(a, b)$ intersects the circle at point $(\\sin\\theta, \\cos\\theta)$, so the angle must be: \n",
    "\n",
    "$$\\theta= \\tan^{-1}\\left(\\frac{b}{a}\\right)$$\n",
    "\n",
    "Where $\\tan^{-1}$ is the inverse tangent, or arctangent. To give the angle in the correct quadrant, computer programs use the \"2-argument arctangent,\" a function that takes the two arguments $a$, and $b$, with their sign.\n",
    "\n",
    "NumPy has a built-in function [`numpy.arctan2()`](https://docs.scipy.org/doc/numpy/reference/generated/numpy.arctan2.html) that we can use with the real and imaginary parts of a complex number:"
   ]
  },
  {
   "cell_type": "code",
   "execution_count": 11,
   "metadata": {},
   "outputs": [
    {
     "data": {
      "text/plain": [
       "0.5880026035475675"
      ]
     },
     "execution_count": 11,
     "metadata": {},
     "output_type": "execute_result"
    }
   ],
   "source": [
    "numpy.arctan2(z.imag, z.real)"
   ]
  },
  {
   "cell_type": "markdown",
   "metadata": {},
   "source": [
    "Pay attention! The first argument to `numpy.arctan2()` is the imaginary part of the complex number, i.e., the vertical coordinate (make a sketch on some paper if this is confusing).\n",
    "\n",
    "We can also get the phase of a complex number using the built-in function from the `cmath` module, which by the way, includes several constants, like $\\pi$:"
   ]
  },
  {
   "cell_type": "code",
   "execution_count": 12,
   "metadata": {},
   "outputs": [
    {
     "data": {
      "text/plain": [
       "3.141592653589793"
      ]
     },
     "execution_count": 12,
     "metadata": {},
     "output_type": "execute_result"
    }
   ],
   "source": [
    "import cmath\n",
    "cmath.pi"
   ]
  },
  {
   "cell_type": "code",
   "execution_count": 13,
   "metadata": {},
   "outputs": [
    {
     "data": {
      "text/plain": [
       "0.5880026035475675"
      ]
     },
     "execution_count": 13,
     "metadata": {},
     "output_type": "execute_result"
    }
   ],
   "source": [
    "cmath.phase(z)"
   ]
  },
  {
   "cell_type": "markdown",
   "metadata": {},
   "source": [
    "The returned angle is given in radians, in the range between $\\pi$ and $-\\pi$. If you want the result in degrees, you can convert with `numpy.degrees()`.\n",
    "\n",
    "What is the complex number that forms the _negative_ angle, $-\\theta$, with the real axis? That number is obtained by flipping the sign of the imaginary part to negative, and is called the **complex conjugate** of $z$, i.e., $a - ib$. Python of course can give us that."
   ]
  },
  {
   "cell_type": "code",
   "execution_count": 14,
   "metadata": {},
   "outputs": [
    {
     "data": {
      "text/plain": [
       "90.0"
      ]
     },
     "execution_count": 14,
     "metadata": {},
     "output_type": "execute_result"
    }
   ],
   "source": [
    "numpy.degrees(cmath.phase(1j))"
   ]
  },
  {
   "cell_type": "code",
   "execution_count": 15,
   "metadata": {},
   "outputs": [
    {
     "data": {
      "text/plain": [
       "(3-2j)"
      ]
     },
     "execution_count": 15,
     "metadata": {},
     "output_type": "execute_result"
    }
   ],
   "source": [
    "z.conjugate()"
   ]
  },
  {
   "cell_type": "markdown",
   "metadata": {},
   "source": [
    "The conjugate is denoted by a bar on the symbol representing the complex number: $\\bar{z}$.\n",
    "\n",
    "The absolute square of a complex number is defined as:\n",
    "\n",
    "$$|z|^2 = z\\bar{z}$$\n",
    "\n",
    "and its **modulus** is defined as:\n",
    "\n",
    "$$|z| = \\sqrt{z\\bar{z}} = \\sqrt{a^2+b^2}$$\n",
    "\n",
    "As you can see, the modulus corresponds to the distance from the origin to the point $(a, b)$ on the complex plane. Python computes it with the `abs()` function:"
   ]
  },
  {
   "cell_type": "code",
   "execution_count": 16,
   "metadata": {},
   "outputs": [
    {
     "data": {
      "text/plain": [
       "3.605551275463989"
      ]
     },
     "execution_count": 16,
     "metadata": {},
     "output_type": "execute_result"
    }
   ],
   "source": [
    "abs(z)"
   ]
  },
  {
   "cell_type": "code",
   "execution_count": 17,
   "metadata": {},
   "outputs": [
    {
     "data": {
      "text/plain": [
       "1.0"
      ]
     },
     "execution_count": 17,
     "metadata": {},
     "output_type": "execute_result"
    }
   ],
   "source": [
    "abs(1j)"
   ]
  },
  {
   "cell_type": "code",
   "execution_count": 18,
   "metadata": {},
   "outputs": [
    {
     "data": {
      "text/plain": [
       "1.4142135623730951"
      ]
     },
     "execution_count": 18,
     "metadata": {},
     "output_type": "execute_result"
    }
   ],
   "source": [
    "w = 1+1j\n",
    "abs(w)"
   ]
  },
  {
   "cell_type": "code",
   "execution_count": 19,
   "metadata": {},
   "outputs": [
    {
     "data": {
      "text/plain": [
       "0.7853981633974483"
      ]
     },
     "execution_count": 19,
     "metadata": {},
     "output_type": "execute_result"
    }
   ],
   "source": [
    "cmath.phase(w)"
   ]
  },
  {
   "cell_type": "code",
   "execution_count": 20,
   "metadata": {},
   "outputs": [
    {
     "data": {
      "text/plain": [
       "45.0"
      ]
     },
     "execution_count": 20,
     "metadata": {},
     "output_type": "execute_result"
    }
   ],
   "source": [
    "numpy.degrees(cmath.phase(w))"
   ]
  },
  {
   "cell_type": "markdown",
   "metadata": {},
   "source": [
    "Since the phase of a complex number is the angle it makes with the positive real axis, and the modulus is the distance from the origin to the complex number on the plane, the pair $(|z|, \\theta)$ uniquely defines $z$. This is called the **polar representation**. We can obtain it in Python:"
   ]
  },
  {
   "cell_type": "code",
   "execution_count": 21,
   "metadata": {},
   "outputs": [
    {
     "data": {
      "text/plain": [
       "(1.4142135623730951, 0.7853981633974483)"
      ]
     },
     "execution_count": 21,
     "metadata": {},
     "output_type": "execute_result"
    }
   ],
   "source": [
    "cmath.polar(w)"
   ]
  },
  {
   "cell_type": "markdown",
   "metadata": {},
   "source": [
    "Conversely, if you know the phase angle and the modulus, Python can give you the coordinates of the complex number with `cmath.rect()` (named for _rectangular_). The first argument is the modulus:"
   ]
  },
  {
   "cell_type": "code",
   "execution_count": 22,
   "metadata": {},
   "outputs": [
    {
     "data": {
      "text/plain": [
       "(0.7071067811865476+0.7071067811865475j)"
      ]
     },
     "execution_count": 22,
     "metadata": {},
     "output_type": "execute_result"
    }
   ],
   "source": [
    "cmath.rect(1, cmath.pi/4)"
   ]
  },
  {
   "cell_type": "markdown",
   "metadata": {},
   "source": [
    "_Exercise:_\n",
    "\n",
    "- Create two Python variables taking the names `w1` and `w2`, assigning them complex values given by moduli $3$ and $5$, and phases $45^\\circ$ and $15^\\circ$, respectively. \n",
    "- Multiply the two complex numbers, and write the answer in polar representation. \n",
    "- What is the modulus of the result?\n",
    "- What is the phase of the result in degrees?"
   ]
  },
  {
   "cell_type": "markdown",
   "metadata": {},
   "source": [
    "## Euler's formula\n",
    "\n",
    "You may have seen it before, and even used it in your math and physics classes, but perhaps you're still perplexed by **Euler's formula**: \n",
    "\n",
    "$$e^{i\\alpha} = \\cos(\\alpha) + i\\sin(\\alpha)$$\n",
    "\n",
    "What does it even mean to write $e^{i\\alpha}$? What we're looking at is the extension of the exponential function to imaginary numbers. Remember that the symbol $e^x$ represents the _infinite sum_ (a.k.a., series):\n",
    "\n",
    "$$ \\exp(x) = 1 + x + \\frac{x^2}{2!} + \\frac{x^3}{3!} + \\cdots + \\frac{x^n}{n!}+ \\cdots $$\n",
    "\n",
    "Let's write a Python function to compute that. We'll need the `math` library to gain access to `math.factorial()`."
   ]
  },
  {
   "cell_type": "code",
   "execution_count": 23,
   "metadata": {},
   "outputs": [],
   "source": [
    "import math"
   ]
  },
  {
   "cell_type": "code",
   "execution_count": 24,
   "metadata": {},
   "outputs": [],
   "source": [
    "def exponential(x,N=50):\n",
    "    '''Approximates the exponential of x by adding the first N terms of the series'''\n",
    "    longsum = 0\n",
    "    for n in range(N):\n",
    "        longsum += x**n /  math.factorial(n)\n",
    "        \n",
    "    return longsum"
   ]
  },
  {
   "cell_type": "markdown",
   "metadata": {},
   "source": [
    "In the function above, the code `longsum += x**n / math.factorial(n)` updates the variable `longsum` by adding the value of each term in the series. The function takes the variable $x$ to compute its exponential via an approximation with the first $N$ terms of the series. The default value of $N$ is 50, but you can optionally give the function a different value. As $N$ increases, the approximation becomes more accurate. Let's try it."
   ]
  },
  {
   "cell_type": "code",
   "execution_count": 25,
   "metadata": {},
   "outputs": [
    {
     "data": {
      "text/plain": [
       "2.7182818284590455"
      ]
     },
     "execution_count": 25,
     "metadata": {},
     "output_type": "execute_result"
    }
   ],
   "source": [
    "exponential(1)"
   ]
  },
  {
   "cell_type": "code",
   "execution_count": 26,
   "metadata": {},
   "outputs": [
    {
     "data": {
      "text/plain": [
       "7.389056098930649"
      ]
     },
     "execution_count": 26,
     "metadata": {},
     "output_type": "execute_result"
    }
   ],
   "source": [
    "exponential(2)"
   ]
  },
  {
   "cell_type": "code",
   "execution_count": 27,
   "metadata": {},
   "outputs": [
    {
     "data": {
      "text/plain": [
       "1.0"
      ]
     },
     "execution_count": 27,
     "metadata": {},
     "output_type": "execute_result"
    }
   ],
   "source": [
    "exponential(0)"
   ]
  },
  {
   "cell_type": "markdown",
   "metadata": {},
   "source": [
    "Playing around with this function for a long time, you might stumble on a very special property:"
   ]
  },
  {
   "cell_type": "code",
   "execution_count": 28,
   "metadata": {},
   "outputs": [
    {
     "data": {
      "text/plain": [
       "20.08553692318766"
      ]
     },
     "execution_count": 28,
     "metadata": {},
     "output_type": "execute_result"
    }
   ],
   "source": [
    "exponential(1+2)"
   ]
  },
  {
   "cell_type": "code",
   "execution_count": 29,
   "metadata": {},
   "outputs": [
    {
     "data": {
      "text/plain": [
       "20.085536923187664"
      ]
     },
     "execution_count": 29,
     "metadata": {},
     "output_type": "execute_result"
    }
   ],
   "source": [
    "exponential(1)*exponential(2)"
   ]
  },
  {
   "cell_type": "markdown",
   "metadata": {},
   "source": [
    "This is not obvious from looking at the series, but in fact:\n",
    "\n",
    "$$\\exp(a+b) = \\exp(a)\\exp(b)$$\n",
    "\n",
    "which is funny and lets you write: $\\exp(3)= \\exp(1+1+1) = \\exp(1)\\exp(1)\\exp(1) = \\exp(1)^3$ and finally express the result as $e^3$, where $e$ is $\\exp(1)$. \n",
    "\n",
    "And that's how we come about that quirky number $e$! It's available in the `cmath` library, as shown below. In general, we thus write: $\\exp(x)=e^x$."
   ]
  },
  {
   "cell_type": "code",
   "execution_count": 30,
   "metadata": {},
   "outputs": [
    {
     "data": {
      "text/plain": [
       "2.718281828459045"
      ]
     },
     "execution_count": 30,
     "metadata": {},
     "output_type": "execute_result"
    }
   ],
   "source": [
    "cmath.e"
   ]
  },
  {
   "cell_type": "markdown",
   "metadata": {},
   "source": [
    "We could expand the definition of the exponential function to imaginary numbers, because at the core it is an infinite polynomial sum—it only requires multiplication and addition. But an interpretation as the number $e$ raised to an exponent no longer works. We are stuck with the same notation, which is unhelpful. Look, even our custom Python function works with imaginary arguments:"
   ]
  },
  {
   "cell_type": "code",
   "execution_count": 31,
   "metadata": {},
   "outputs": [
    {
     "data": {
      "text/plain": [
       "(0.5403023058681397+0.8414709848078965j)"
      ]
     },
     "execution_count": 31,
     "metadata": {},
     "output_type": "execute_result"
    }
   ],
   "source": [
    "exponential(1j)"
   ]
  },
  {
   "cell_type": "code",
   "execution_count": 32,
   "metadata": {},
   "outputs": [
    {
     "data": {
      "text/plain": [
       "(-0.41614683654714246+0.9092974268256817j)"
      ]
     },
     "execution_count": 32,
     "metadata": {},
     "output_type": "execute_result"
    }
   ],
   "source": [
    "exponential(2j)"
   ]
  },
  {
   "cell_type": "markdown",
   "metadata": {},
   "source": [
    "As you can see, the result is always a complex number. For any multiple of the imaginary unit, the series is:\n",
    "\n",
    "$$ \\exp(i\\alpha) = 1 + i\\alpha + \\frac{(i\\alpha)^2}{2!}+ \\frac{(i\\alpha)^3}{3!}+ \\frac{(i\\alpha)^4}{4!}+ \\cdots$$\n",
    "\n",
    "On the complex plane, we are starting on $(1,0)$ (the real number $1$). As a first example, suppose $\\alpha$ is not too big: $2$ or less. We add $i\\alpha$ (which steps vertically upwards on the plane), then add $i^2 \\alpha^2/2= -\\alpha^2/2$ (which steps horizontally to the left on the plane), and successively add vertical and horizontal vectors that get smaller and smaller to converge onto a _point on the unit circle_ at the angle $\\alpha$. That point has coordinates $(\\cos\\alpha, \\sin\\alpha)$—and *that* is what Euler's formula says!\n",
    "\n",
    "If you need help visualizing this, we recommend the [video on Euler's formula](https://www.youtube.com/watch?v=ZxYOEwM6Wbk) by Grant Sanderson, streamed live on April 2020.\n",
    "\n",
    "As shown on the sketch below, the result is that after adding up all the terms in the series, the exponential of $i\\alpha$ lands on the complex number $(\\cos\\alpha, \\sin\\alpha)$ on the unit circle.\n",
    "\n",
    "<img src=\"../images/Eulers_formula.png\" style=\"width: 300px;\"/>\n",
    "\n",
    "_Euler's formula for a complex number on the unit circle._\n",
    "\n",
    "When $\\alpha=\\pi$, Euler's formula gives the famous relation: $ e^{i\\pi} = -1$.\n",
    "\n",
    "Our custom Python function confirms this result (with some small floating-point error):"
   ]
  },
  {
   "cell_type": "code",
   "execution_count": 33,
   "metadata": {},
   "outputs": [
    {
     "data": {
      "text/plain": [
       "(-1.0000000000000002+3.458669144327514e-16j)"
      ]
     },
     "execution_count": 33,
     "metadata": {},
     "output_type": "execute_result"
    }
   ],
   "source": [
    "exponential(1j*cmath.pi)"
   ]
  },
  {
   "cell_type": "markdown",
   "metadata": {},
   "source": [
    "In this case, if you look at the terms in the series, once we get to $n=4$, the denominator (with a factorial) grows faster than the numerator (a power of $\\pi$), and the magnitude of all terms get smaller and smaller after that. The real and imaginary terms added go around (up, left, down, right), and converge to a point on the unit circle at angle $\\pi$. Phew!"
   ]
  },
  {
   "cell_type": "markdown",
   "metadata": {},
   "source": [
    "Euler's formula takes any input angle $\\alpha$ and returns a complex number on the unit circle, $\\cos\\alpha + i\\sin\\alpha$. \n",
    "This means we can represent any complex number of the form $z=a+ib$ by a scaling of the vector $(\\cos\\alpha, \\sin\\alpha)$ with the value $r=|z|$. This leads to:\n",
    "\n",
    "$$z=r\\,e^{i\\alpha}$$\n",
    "\n",
    "where $\\alpha$ is the phase of $z$. \n",
    "\n",
    "The polar representation of the complex number is the pair of values $(r, \\alpha)$, obtained in Python using `cmath.polar()`. We can also make a plot of the complex number in polar representation.\n",
    "\n",
    "Let's make a figure with both representations of the complex number $z$, as subplots.\n",
    "On the left, we show $(3,2)$ on the Cartesian (rectangular) plane, and on the right we make a polar plot with $(r, \\alpha)$."
   ]
  },
  {
   "cell_type": "code",
   "execution_count": 34,
   "metadata": {},
   "outputs": [
    {
     "data": {
      "image/png": "[encoded data removed]",
      "text/plain": [
       "<Figure size 864x432 with 2 Axes>"
      ]
     },
     "metadata": {
      "needs_background": "light"
     },
     "output_type": "display_data"
    }
   ],
   "source": [
    "r, alpha = cmath.polar(z)\n",
    "\n",
    "fig = pyplot.figure(figsize=(12,6))\n",
    "\n",
    "ax1 = pyplot.subplot(121)\n",
    "ax1.quiver(0,0, z.real,z.imag, angles='xy', scale_units='xy', scale=1, color=lightblue)\n",
    "ax1.scatter(z.real, z.imag)\n",
    "ax1.grid(True)\n",
    "ax1.set_xlim(-4,4)\n",
    "ax1.set_ylim(-4,4)\n",
    "ax1.set_xlabel('$\\mathbb{R}$')\n",
    "ax1.set_ylabel('$\\mathbb{I}$')\n",
    "ax1.set_aspect('equal', 'box')\n",
    "\n",
    "ax2 = pyplot.subplot(122, projection='polar')\n",
    "\n",
    "ax2.plot([0,alpha],[0,r],marker='o');\n",
    "\n",
    "#If you were plotting only a polar plot, the syntax is:\n",
    "#pyplot.polar([0,alpha],[0,r],marker='o');\n"
   ]
  },
  {
   "cell_type": "markdown",
   "metadata": {},
   "source": [
    "_Exercise:_\n",
    "\n",
    "- Choose multiple complex numbers, calculate their polar representation and plot them in a polar plot."
   ]
  },
  {
   "cell_type": "markdown",
   "metadata": {},
   "source": [
    "## Geometry of complex numbers\n",
    "\n",
    "Complex numbers are two-dimensional as they live in a plane. Addition of complex numbers amounts to translation, and multiplication results in rotation. A complex number $z$ is rotated by angle $\\theta$ by multiplying it with $e^{i\\theta}$."
   ]
  },
  {
   "cell_type": "markdown",
   "metadata": {},
   "source": [
    "### The conjugate is a reflection\n",
    "\n",
    "We introduced above the conjugate of a complex number $z=(r,\\theta)$ as the number that makes an angle with the real axis of $-\\theta$.\n",
    "Taking the conjugate is thus a _reflection_ of $z$ over the real axis. \n",
    "\n",
    "<img src=\"../images/conjugate_circle.png\" style=\"width: 300px;\"/>\n",
    "\n",
    "_The conjugate is a reflection over the real axis._\n",
    "\n",
    "Given a number $z = a+ib$, the complex conjugate $a-ib$ can be denoted $\\bar{z}$ or $z^*$, depending on the context (the latter is common in physics). \n",
    "\n",
    "Using the conjugate, we write the real and imaginary parts of $z$ as:\n",
    "\n",
    "$$\\rm{Re}(z) = \\frac{z+\\bar{z}}{2}  \\quad \\text{and} \\quad \\rm{Im}(z) = \\frac{z-\\bar{z}}{2i}$$\n",
    "\n",
    "If you are not convinced, take a pen and some paper and expand each term to work it out."
   ]
  },
  {
   "cell_type": "markdown",
   "metadata": {},
   "source": [
    "### Geometry of multiplication and De Moivre's formula\n",
    "\n",
    "Consider two complex numbers in their polar representation: $z_1=r_1 e^{i\\alpha_1}$ and $z_2=r_2 e^{i\\alpha_2}$. Their multiplication is:\n",
    "\n",
    "$$ z_1 z_2 = r_1 e^{i\\alpha_1} r_2 e^{i\\alpha_2} = r_1 r_2 e^{i(\\alpha_1+\\alpha_2)}$$\n",
    "\n",
    "That is: multiply the muduli and add the phases. Geometrically, multiplication of two complex numbers is a combination of _scaling and rotation_.\n",
    "\n",
    "This helps us visualize what happens when we apply the power $n$ to a complex number: take the power of the modulus, and add the phase angle $n$ times: $~r^n e^{in\\alpha}$.\n",
    "\n",
    "De Moivre's formula follows: \n",
    "\n",
    "$$[\\cos(\\alpha) + i\\sin(\\alpha)]^n = \\cos(n\\alpha) +i\\sin(n\\alpha)$$\n",
    "\n",
    "for any real number $\\alpha$ and integer $n$."
   ]
  },
  {
   "cell_type": "markdown",
   "metadata": {},
   "source": [
    "### Reciprocal and division \n",
    "\n",
    "Two complex numbers are reciprocal if their multiplication gives $1$. Geometrically, the product of their moduli is $1$ and the sum of their phases is the angle $0$—this means that the reciprocal is in the direction of the conjugate: it is a scaled reflection over the real axis.\n",
    "\n",
    "<img src=\"../images/reciprocal.png\" style=\"width: 300px;\"/>\n",
    "\n",
    "_The reciprocal is a scaled reflection._\n",
    "\n",
    "We find the reciprocal of a non-zero complex number $z = a + ib$ as:\n",
    "\n",
    "$$\\frac{1}{z} = \\frac{\\bar{z}}{z\\bar{z}}=\\frac{\\bar{z}}{|z|^2}$$\n",
    "\n",
    "Now we can write a division of two complex numbers $z_1/z_2$ as:\n",
    "\n",
    "$$\\frac{z_1}{z_2}= z_1 \\frac{1}{z_2} = z_1\\frac{\\bar{z_2}}{|z_2|^2}$$\n",
    "\n",
    "_Exercise:_\n",
    "\n",
    "- Use Python operations to compare the left-hand side with the right-hand side of the expressions using the conjugate for: the real part, the imaginary part, and the reciprocal, as shown above."
   ]
  },
  {
   "cell_type": "markdown",
   "metadata": {},
   "source": [
    "### Patterns $i^n$\n",
    "\n",
    "Multiplying by $i$ is a 90-degree rotatation. Multiplingy by $i$ again results in a 180-degree rotaion, and twice again will eventually land on the same starting number.  \n",
    "\n",
    "Let's print out the first few powers of $i$ to notice the pattern. We'll print using a _formatted string_—with the character `f` before the quotes—which allows us to insert variables in the string that take the value at the moment of execution. To learn more about formated strings, read [Python 3: An Intro to f-strings](http://www.blog.pythonlibrary.org/2018/03/13/python-3-an-intro-to-f-strings/)."
   ]
  },
  {
   "cell_type": "code",
   "execution_count": 35,
   "metadata": {},
   "outputs": [
    {
     "name": "stdout",
     "output_type": "stream",
     "text": [
      "i^0 = (1+0j)\n",
      "i^1 = 1j\n",
      "i^2 = (-1+0j)\n",
      "i^3 = (-0-1j)\n",
      "i^4 = (1+0j)\n",
      "i^5 = 1j\n",
      "i^6 = (-1+0j)\n",
      "i^7 = (-0-1j)\n"
     ]
    }
   ],
   "source": [
    "for i in range(8):\n",
    "    res = (1j)**i\n",
    "    print(f'i^{i} = {res}')"
   ]
  },
  {
   "cell_type": "markdown",
   "metadata": {},
   "source": [
    "Pay attention to the output, and you'll see that the pattern follows as $[1, i, -1, -i]$ and it repeats. The successive rotations by 90 degrees, starting at $1$ ($i^0$) on the real axis, each four times ($i^4$) will land again on $1$, on the real axis.\n",
    "Since $i^4=1$, you can reduce any power of $i$ by four without changing the result.\n",
    "\n",
    "<img src=\"../images/power_i_pattern.png\" style=\"width: 300px;\"/>\n",
    "\n",
    "_Exercise:_\n",
    "\n",
    "- If we have $i^{355}$ how can we know what is the result of that operation without explicitly calculating it? \n",
    "\n",
    "_Tips:_ \n",
    "- Think of the pattern\n",
    "- You might want to check how the modulo operation works, the `%` symbol.\n",
    "\n",
    "_Challenge:_\n",
    "\n",
    "Write a function that computes any power of $i$ without directly computing it."
   ]
  },
  {
   "cell_type": "markdown",
   "metadata": {},
   "source": [
    "## References\n",
    "\n",
    "1. Grant Sanderson (2020), [\"Complex number fundamentals\"](https://www.youtube.com/watch?v=5PcpBw5Hbwo) video on YouTube.\n",
    "2. Grant Sanderson (2020), [What is Euler's formula actually saying?](https://www.youtube.com/watch?v=ZxYOEwM6Wbk)\n",
    "2. Python documentation, [`cmath` library](https://docs.python.org/3/library/cmath.html)\n"
   ]
  },
  {
   "cell_type": "code",
   "execution_count": 1,
   "metadata": {},
   "outputs": [
    {
     "data": {
      "text/html": [
       "<style>\n",
       "\n",
       "@font-face {\n",
       "    font-family: 'et-book';\n",
       "    src: url('https://cdnjs.cloudflare.com/ajax/libs/tufte-css/1.8.0/et-book/et-book-roman-line-figures/et-book-roman-line-figures.woff') format('woff2'),\n",
       "         url('https://cdnjs.cloudflare.com/ajax/libs/tufte-css/1.8.0/et-book/et-book-roman-line-figures/et-book-roman-line-figures.woff') format('woff');\n",
       "    font-weight: normal;\n",
       "    font-style: normal;\n",
       "}\n",
       "@font-face {\n",
       "    font-family: 'et-book';\n",
       "    src: url('https://cdnjs.cloudflare.com/ajax/libs/tufte-css/1.8.0/et-book/et-book-display-italic-old-style-figures/et-book-display-italic-old-style-figures.woff') format('woff');\n",
       "    font-weight: normal;\n",
       "    font-style: italic;\n",
       "}\n",
       "@font-face {\n",
       "    font-family: 'et-book';\n",
       "    src: url('https://cdnjs.cloudflare.com/ajax/libs/tufte-css/1.8.0/et-book/et-book-bold-line-figures/et-book-bold-line-figures.woff') format('woff');\n",
       "    font-weight: bold;\n",
       "    font-style: normal;\n",
       "}\n",
       "/* The various ET-Book fonts are on GitHub at: https://github.com/edwardtufte/et-book\n",
       "*/\n",
       "@font-face{\n",
       "    font-family: 'Source Code Pro';\n",
       "    font-weight: 400;\n",
       "    font-style: normal;\n",
       "    font-stretch: normal;\n",
       "    src: url('https://raw.githubusercontent.com/adobe-fonts/source-code-pro/release/WOFF2/OTF/SourceCodePro-Regular.otf.woff2') format('woff2'),\n",
       "         url('https://raw.githubusercontent.com/adobe-fonts/source-code-pro/release/WOFF/OTF/SourceCodePro-Regular.otf.woff') format('woff'),\n",
       "         url('https://raw.githubusercontent.com/adobe-fonts/source-code-pro/release/OTF/SourceCodePro-Regular.otf') format('opentype');\n",
       "}\n",
       "\n",
       "@font-face{\n",
       "    font-family: 'Source Sans';\n",
       "    font-weight: 400;\n",
       "    font-style: normal;\n",
       "    font-stretch: normal;\n",
       "    src: url('https://raw.githubusercontent.com/adobe-fonts/source-sans/release/WOFF2/OTF/SourceSans3-Regular.otf.woff2') format('woff2'),\n",
       "         url('https://raw.githubusercontent.com/adobe-fonts/source-sans/release/WOFF/OTF/SourceSans3-Regular.otf.woff') format('woff'),\n",
       "         url('https://raw.githubusercontent.com/adobe-fonts/source-sans/release/OTF/SourceSans3-Regular.otf') format('opentype');\n",
       "}\n",
       "@font-face {\n",
       "    font-family: \"Computer Modern\";\n",
       "    src: url('http://mirrors.ctan.org/fonts/cm-unicode/fonts/otf/cmunss.otf');\n",
       "}\n",
       "\n",
       ":root {\n",
       "    --jp-content-line-height: 1.3;\n",
       "    --jp-content-font-scale-factor: 1.2;\n",
       "    --jp-content-font-size1: 20px; /* Base font size */\n",
       "    --jp-content-font-family: 'et-book', 'Palatino Linotype', Palatino, serif;\n",
       "} \n",
       "\n",
       ".jp-RenderedHTMLCommon {\n",
       "    line-height: 1.3 !important;\n",
       "    font-size: 20px !important;\n",
       "    font-family: 'et-book', 'Palatino Linotype', Palatino, serif;\n",
       "    padding-left: 10% !important;\n",
       "    padding-right: 20% !important;\n",
       "}\n",
       "\n",
       ".jp-CodeCell {\n",
       "    padding-left: 10% !important;\n",
       "    padding-right: 20% !important;\n",
       "}\n",
       "\n",
       ".jp-RawCell {\n",
       "    padding-left: 10% !important;\n",
       "    padding-right: 20% !important;\n",
       "}\n",
       "\n",
       "\n",
       "code {\n",
       "    font-size: 0.8em !important;\n",
       "    background-color: #f0f0f0 !important;\n",
       "}\n",
       "\n",
       "hr {\n",
       "    background: #000;\n",
       "    height: 1px;\n",
       "    border: 0px;\n",
       "} \n",
       "\n",
       "\n",
       "#notebook_panel { /* main background */\n",
       "    background: rgb(245,245,245);\n",
       "}\n",
       "\n",
       "div.cell { /* set cell width */\n",
       "    width: 800px;\n",
       "}\n",
       "\n",
       "div #notebook { /* centre the content */\n",
       "    background: #fff; /* white background for content */\n",
       "    width: 800px;\n",
       "    margin: auto;\n",
       "    padding-left: 0em;\n",
       "}\n",
       "\n",
       "#notebook li { /* More space between bullet points */\n",
       "margin-top:0.5em;\n",
       "}\n",
       "\n",
       "/* draw border around running cells */\n",
       "div.cell.border-box-sizing.code_cell.running { \n",
       "    border: 1px solid #111;\n",
       "}\n",
       "\n",
       "/* Put a solid color box around each cell and its output, visually linking them*/\n",
       "div.cell.code_cell {\n",
       "    background-color: rgb(256,256,256); \n",
       "    border-radius: 0px; \n",
       "    padding: 0.5em;\n",
       "    margin-left:1em;\n",
       "    margin-top: 1em;\n",
       "}\n",
       "\n",
       "\n",
       "div.text_cell_render{\n",
       "    font-family: 'Source Sans', sans-serif;\n",
       "    line-height: 140%;\n",
       "    font-size: 100%;\n",
       "    width:680px;\n",
       "    margin-left:auto;\n",
       "    margin-right:auto;\n",
       "}\n",
       "\n",
       "/* Formatting for header cells */\n",
       ".text_cell_render h1 {\n",
       "    /* font-family: 'Merriweather', serif; */\n",
       "    font-style:regular;\n",
       "    font-weight: bold;    \n",
       "    font-size: 250%;\n",
       "    line-height: 100%;\n",
       "    color: #004065;\n",
       "    margin-bottom: 1em;\n",
       "    margin-top: 0.5em;\n",
       "    display: block;\n",
       "}\t\n",
       ".text_cell_render h2 {\n",
       "    /* font-family: 'Merriweather', serif; */\n",
       "    font-weight: bold; \n",
       "    font-size: 180%;\n",
       "    line-height: 100%;\n",
       "    color: #0096d6;\n",
       "    margin-bottom: 0.5em;\n",
       "    margin-top: 0.5em;\n",
       "    display: block;\n",
       "}\t\n",
       "\n",
       ".text_cell_render h3 {\n",
       "    /* font-family: 'Merriweather', serif; */\n",
       "\tfont-size: 150%;\n",
       "    margin-top:12px;\n",
       "    margin-bottom: 3px;\n",
       "    font-style: regular;\n",
       "    color: #008367;\n",
       "}\n",
       "\n",
       ".text_cell_render h4 {    /*Use this for captions*/\n",
       "    font-family: 'et-book';\n",
       "    font-weight: 300; \n",
       "    font-size: 100%;\n",
       "    line-height: 120%;\n",
       "    text-align: left;\n",
       "    width:500px;\n",
       "    margin-top: 1em;\n",
       "    margin-bottom: 2em;\n",
       "    margin-left: 80pt;\n",
       "    font-style: italic;\n",
       "}\n",
       "\n",
       ".text_cell_render h5 {  /*Use this for small titles*/\n",
       "    font-family: 'Source Sans', sans-serif;\n",
       "    font-size: 130%;\n",
       "    color: #e31937;\n",
       "    margin-bottom: .5em;\n",
       "    margin-top: 1em;\n",
       "    display: block;\n",
       "}\n",
       "\n",
       ".text_cell_render h6 { /*use this for copyright note*/\n",
       "    font-family: 'Source Code Pro', sans-serif;\n",
       "    font-weight: 300;\n",
       "    font-size: 9pt;\n",
       "    line-height: 100%;\n",
       "    color: grey;\n",
       "    margin-bottom: 1px;\n",
       "    margin-top: 1px;\n",
       "}\n",
       "\n",
       "    .CodeMirror{\n",
       "            font-family: \"Source Code Pro\";\n",
       "\t\t\tfont-size: 100%;\n",
       "    }\n",
       "/*    .prompt{\n",
       "        display: None;\n",
       "    }*/\n",
       "\t\n",
       "    \n",
       "    .warning{\n",
       "        color: rgb( 240, 20, 20 )\n",
       "        }  \n",
       "</style>\n",
       "<script>\n",
       "    MathJax.Hub.Config({\n",
       "                        TeX: {\n",
       "                           extensions: [\"AMSmath.js\"], \n",
       "                           equationNumbers: { autoNumber: \"AMS\", useLabelIds: true}\n",
       "                           },\n",
       "                tex2jax: {\n",
       "                    inlineMath: [ ['$','$'], [\"\\\\(\",\"\\\\)\"] ],\n",
       "                    displayMath: [ ['$$','$$'], [\"\\\\[\",\"\\\\]\"] ]\n",
       "                },\n",
       "                displayAlign: 'center', // Change this to 'center' to center equations.\n",
       "                \"HTML-CSS\": {\n",
       "                    styles: {'.MathJax_Display': {\"margin\": 4}}\n",
       "                }\n",
       "        });\n",
       "</script>\n"
      ],
      "text/plain": [
       "<IPython.core.display.HTML object>"
      ]
     },
     "execution_count": 1,
     "metadata": {},
     "output_type": "execute_result"
    }
   ],
   "source": [
    "# Execute this cell to load the notebook's style sheet, then ignore it\n",
    "from IPython.core.display import HTML\n",
    "css_file = '../../../styles/custom.css'\n",
    "HTML(open(css_file, \"r\").read())"
   ]
  }
 ],
 "metadata": {
  "kernelspec": {
   "display_name": "Python 3 (ipykernel)",
   "language": "python",
   "name": "python3"
  },
  "language_info": {
   "codemirror_mode": {
    "name": "ipython",
    "version": 3
   },
   "file_extension": ".py",
   "mimetype": "text/x-python",
   "name": "python",
   "nbconvert_exporter": "python",
   "pygments_lexer": "ipython3",
   "version": "3.11.9"
  }
 },
 "nbformat": 4,
 "nbformat_minor": 4
}
