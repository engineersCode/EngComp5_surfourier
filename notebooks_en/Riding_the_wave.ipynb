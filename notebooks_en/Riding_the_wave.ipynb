{
 "cells": [
  {
   "cell_type": "code",
   "execution_count": null,
   "metadata": {},
   "outputs": [],
   "source": [
    "from IPython.display import HTML\n",
    "import ipywidgets\n",
    "from matplotlib import animation, pyplot\n",
    "import numpy\n",
    "%matplotlib inline"
   ]
  },
  {
   "cell_type": "code",
   "execution_count": null,
   "metadata": {},
   "outputs": [],
   "source": [
    "import sys\n",
    "sys.path.append('../scripts/')\n",
    "\n",
    "import fourier_helper as fh"
   ]
  },
  {
   "cell_type": "code",
   "execution_count": null,
   "metadata": {},
   "outputs": [],
   "source": [
    "frequencies = [1.0, 3.0, 5.0, 7.0]"
   ]
  },
  {
   "cell_type": "code",
   "execution_count": null,
   "metadata": {},
   "outputs": [],
   "source": [
    "elems = fh.create_elements_center(frequencies, x_shift=-2.0, y_shift=0.0)"
   ]
  },
  {
   "cell_type": "code",
   "execution_count": null,
   "metadata": {},
   "outputs": [],
   "source": [
    "periods = 2  # number of periods\n",
    "steps_per_period = 100  # number of steps per period\n",
    "\n",
    "theta = fh.define_angles(periods, steps_per_period)"
   ]
  },
  {
   "cell_type": "code",
   "execution_count": null,
   "metadata": {},
   "outputs": [],
   "source": [
    "anim_dict = fh.create_init_fig_center(elems, theta)"
   ]
  },
  {
   "cell_type": "code",
   "execution_count": null,
   "metadata": {},
   "outputs": [],
   "source": [
    "anim_dict['elems'] = elems"
   ]
  },
  {
   "cell_type": "code",
   "execution_count": null,
   "metadata": {},
   "outputs": [],
   "source": [
    "# Create and display the interactive widgets.\n",
    "n_slider = ipywidgets.IntSlider(value=0, min=0, max=len(theta)-1, step=1, description='Step')\n",
    "w = ipywidgets.interactive(fh.update_figure_center, n=n_slider, anim_dict=ipywidgets.fixed(anim_dict), theta=ipywidgets.fixed(theta),\n",
    "                           display_fig=ipywidgets.fixed(True))\n",
    "display(w)"
   ]
  },
  {
   "cell_type": "code",
   "execution_count": null,
   "metadata": {
    "code_folding": []
   },
   "outputs": [],
   "source": [
    "# Create the Matplotlib animation.\n",
    "anim = animation.FuncAnimation(anim_dict['fig'], fh.update_figure_center,\n",
    "                               frames=len(theta)-1, fargs=(anim_dict, theta,),\n",
    "                               interval=100)\n",
    "# Display the animation.\n",
    "HTML(anim.to_html5_video())"
   ]
  },
  {
   "cell_type": "markdown",
   "metadata": {},
   "source": [
    "## Sum of waves plot"
   ]
  },
  {
   "cell_type": "code",
   "execution_count": null,
   "metadata": {},
   "outputs": [],
   "source": [
    "elems_dis = fh.create_elements_displaced(frequencies, x_shift=-2.5, y_shift=0.0)"
   ]
  },
  {
   "cell_type": "code",
   "execution_count": null,
   "metadata": {},
   "outputs": [],
   "source": [
    "lab = elems_dis[0].label \n",
    "for i in range(1, len(frequencies)):\n",
    "    lab += ' + ' + elems_dis[i].label"
   ]
  },
  {
   "cell_type": "code",
   "execution_count": null,
   "metadata": {},
   "outputs": [],
   "source": [
    "anim_dict_two = fh.create_init_fig_displaced(elems_dis, theta, lab)"
   ]
  },
  {
   "cell_type": "code",
   "execution_count": null,
   "metadata": {},
   "outputs": [],
   "source": [
    "anim_dict_two['elems_dis'] = elems_dis"
   ]
  },
  {
   "cell_type": "code",
   "execution_count": null,
   "metadata": {},
   "outputs": [],
   "source": [
    "# Create and display the interactive widgets.\n",
    "n_slider2 = ipywidgets.IntSlider(value=0, min=0, max=len(theta)-1, step=1, description='Step')\n",
    "\n",
    "w2 = ipywidgets.interactive(fh.update_figure_displaced, n=n_slider2, anim_dict=ipywidgets.fixed(anim_dict_two), theta=ipywidgets.fixed(theta),\n",
    "                           display_fig=ipywidgets.fixed(True))\n",
    "display(w2)"
   ]
  },
  {
   "cell_type": "code",
   "execution_count": null,
   "metadata": {},
   "outputs": [],
   "source": [
    "# Create the Matplotlib animation.\n",
    "anim2 = animation.FuncAnimation(anim_dict_two['fig'], fh.update_figure_displaced,\n",
    "                               frames=len(theta)-1, fargs=(anim_dict_two, theta,),\n",
    "                               interval=100)\n",
    "# Display the animation.\n",
    "HTML(anim2.to_html5_video())"
   ]
  },
  {
   "cell_type": "code",
   "execution_count": null,
   "metadata": {},
   "outputs": [],
   "source": []
  }
 ],
 "metadata": {
  "kernelspec": {
   "display_name": "Python 3",
   "language": "python",
   "name": "python3"
  },
  "language_info": {
   "codemirror_mode": {
    "name": "ipython",
    "version": 3
   },
   "file_extension": ".py",
   "mimetype": "text/x-python",
   "name": "python",
   "nbconvert_exporter": "python",
   "pygments_lexer": "ipython3",
   "version": "3.7.3"
  }
 },
 "nbformat": 4,
 "nbformat_minor": 2
}
