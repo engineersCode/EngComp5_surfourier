{
 "cells": [
  {
   "cell_type": "markdown",
   "metadata": {},
   "source": [
    "###### Content under Creative Commons Attribution license CC-BY 4.0, code under BSD 3-Clause License © 2019 L.A. Barba, N.C. Clementi"
   ]
  },
  {
   "cell_type": "markdown",
   "metadata": {},
   "source": [
    "# From waves to Fourier"
   ]
  },
  {
   "cell_type": "markdown",
   "metadata": {},
   "source": [
    "This notebook is based on a chapter one of the book *Fourier Analysis an Introduction* by E.M Stein and R. Shakarchi. \n",
    "\n",
    "The development of Fourier Analysis started by the investigation of the problem of vibrating string and heat flow. The differential equations that describe these two phenomena were solved in what we know today as **Fourier Series**. \n",
    "\n",
    "For the purpose of this notebook, we will concentrate in understanding waves and how their study lead to Fourier Analysis. \n"
   ]
  },
  {
   "cell_type": "markdown",
   "metadata": {},
   "source": [
    "## Vibrating strings\n",
    "\n",
    "### Simple harmonic motion\n",
    "\n",
    "In the module [EngComp3_flyatchange](https://openedx.seas.gwu.edu/courses/course-v1:GW+EngComp3+2018/about) we studied the *Simple harmonic motion* which describes how simple oscillators, such us a mass attached to a horizontal spring, behave.\n",
    "\n",
    "This problem is represented by the equation:\n",
    "\n",
    "\\begin{equation}\n",
    "    y''(t) + c^2 y(t) = 0\n",
    "\\end{equation}\n",
    "\n",
    "where $c = \\sqrt{k/m}$. The general solution of this problem takes the form:\n",
    "\n",
    "\\begin{equation}\n",
    "    y(t) = a \\text{cos}(ct) + b\\text{sin}(ct) \n",
    "\\end{equation}\n",
    "\n",
    "with $a$ and $b$ constants that will be determined by the initial conditions. Due to the beauty of trigonometric equations, the general solution can be rewritten as:\n",
    "\n",
    "\\begin{equation}\n",
    "    a\\text{cos}(ct) + b\\text{sin}(ct) = A\\text{cos}(ct-\\varphi)\n",
    "\\end{equation}\n",
    "\n",
    "where  $A = \\sqrt{a^2 + b^2}$ is the \"amplitude\" of the motion, $c$ is the \"natural frequency\", $\\varphi$ its known as the \"phase\", and $2\\pi/c$ is the period of the motion. \n",
    "\n",
    "To visualize how a this wave looks like we will plot the following function for different values of $A$ and $\\varphi$. For now we will use $c=1$"
   ]
  },
  {
   "cell_type": "code",
   "execution_count": null,
   "metadata": {},
   "outputs": [],
   "source": [
    "import numpy\n",
    "from matplotlib import pyplot\n",
    "%matplotlib inline\n",
    "\n",
    "pyplot.rc('font', family='serif', size=16)"
   ]
  },
  {
   "cell_type": "code",
   "execution_count": null,
   "metadata": {},
   "outputs": [],
   "source": [
    "def wave(A, phi, t):\n",
    "    \"\"\"\n",
    "    Computes a function Acos(ct-phi) with c=1\n",
    "    \n",
    "    Arguments:\n",
    "    A  : float, amplitude.\n",
    "    phi: float, phase (angle in radiands)\n",
    "    t  : array, time. \n",
    "    \"\"\"\n",
    "    \n",
    "    y = A * numpy.cos(t - phi)\n",
    "    \n",
    "    return y\n",
    "    "
   ]
  },
  {
   "cell_type": "code",
   "execution_count": null,
   "metadata": {},
   "outputs": [],
   "source": [
    "time = numpy.linspace(0, 4*numpy.pi, 81) "
   ]
  },
  {
   "cell_type": "code",
   "execution_count": null,
   "metadata": {},
   "outputs": [],
   "source": [
    "#This values will just plot a cosine\n",
    "Ao = 1\n",
    "phio = 0"
   ]
  },
  {
   "cell_type": "code",
   "execution_count": null,
   "metadata": {},
   "outputs": [],
   "source": [
    "pyplot.figure(figsize=(8,6))\n",
    "\n",
    "pyplot.plot(time, wave(Ao, phio, time), label='cos(t)')\n",
    "## Add a line here to plot with different values of A and phi\n",
    "\n",
    "pyplot.legend()\n",
    "pyplot.grid();"
   ]
  },
  {
   "cell_type": "markdown",
   "metadata": {},
   "source": [
    "##### Exercise:\n",
    "Rewrite the wave function to accept different values of $c$ and make some plots to see how it behaves."
   ]
  },
  {
   "cell_type": "markdown",
   "metadata": {},
   "source": [
    "### Standing and traveling waves\n",
    "\n",
    "We can describe vibrating strings using one dimensional wave motions. We will describe two kinds of motions:\n",
    "\n",
    "**Standing waves**\n",
    "\n",
    "Wavelike motions described by functions of the way $y=u(x,t)$, that can be separate into $u(x,t) = \\varphi(x) \\psi(t)$. We can think of this as, $\\varphi(x)$ being the initial profile of the wave at $t=0$, and $\\psi(t)$ an amplifying fact that depends on time. \n",
    "\n",
    "Note that the way standing waves look like, suggest the mathematical idea of \"separation of variables\". We will come back to this later. \n",
    "\n",
    "<img src=\"../images/standing_wave.png\" style=\"width: 400px;\"/>\n",
    "\n",
    "##### Standing wave at $t=0$ and $t=t_0$"
   ]
  },
  {
   "cell_type": "markdown",
   "metadata": {},
   "source": [
    "* Traveling waves\n",
    "\n",
    "In this case we have an initial profile $F(x)$ such that $u(x,t)$ is equal to $F(x)$ when $t=0$. As we move in time, this profile moves to the right by $ct$ units, where $c>0$ is the *velocity*:\n",
    "\n",
    "\\begin{equation}\n",
    "    u(x,t) =  F(x - ct)\n",
    "\\end{equation}\n",
    "\n",
    "\n",
    "<img src=\"../images/travelling_wave.png\" style=\"width: 500px;\"/>\n",
    "\n",
    "##### Traveling wave at $t=0$ and $t=t_0$"
   ]
  },
  {
   "cell_type": "markdown",
   "metadata": {},
   "source": [
    "## The wave equation\n",
    "\n",
    "\\begin{equation}\n",
    "    \\frac{1}{c^2}\\frac{\\partial^2u}{\\partial t^2} = \\frac{\\partial^2u}{\\partial x^2}\n",
    "\\end{equation}\n",
    "\n",
    "This equation is known as the one-dimensional wave equation, where $c>0$ is the **velocity** of the motion. We can simplify the wave equation by performing a nondimensionalization, if we say $x=aX$ and $t=bT$ by choosing the appropriate $a$ and $b$ we can transform the wave equation as: \n",
    "\n",
    "\\begin{equation}\n",
    "    \\frac{\\partial^2u}{\\partial T^2} = \\frac{\\partial^2u}{\\partial X^2}\n",
    "\\end{equation}\n",
    "\n",
    "Once we find the solution we can return to the original system by making the inverse change of variables. \n",
    "\n",
    "### Solution of the wave equation\n",
    "\n",
    "After seeing how standing waves behave we will look at solutions which are of the form $\\varphi(x)\\psi(t)$. We will use separation of variables and construct solutions that are pure tones. Then since the wave equation is linear, if $u(x,t)$ and $v(x,t)$ are particular solutions, then $au(x,t) +bv(x,t)$ it is also a solution where $a$ and $b$ are any constants, we will combine this pure tones into a more complex complex combination. Ultimately, we will be able to express the general solution in terms of a sum of all this particular solutions. \n",
    "\n",
    "Note that if you look at the equation, one side only requires differentiation in $t$, while the other only on $x$. This is another reason to look for solutions of the form $u(x,t) = \\varphi(x)\\psi(t)$. If we assume that $u(x,t)$ takes this form and we differentiate, we get:\n",
    "\n",
    "\\begin{equation}\n",
    "    \\varphi(x)\\psi''(t) = \\varphi''(x)\\psi(t)\n",
    "\\end{equation}\n",
    "\n",
    "and therefore\n",
    "\n",
    "\\begin{equation}\n",
    "    \\frac{\\psi''(t)}{\\psi(t)} = \\frac{\\varphi''(x)}{\\varphi(x)}\n",
    "\\end{equation}\n",
    "\n",
    "You can notice that the left side only depends on $t$ while the right hand side only depends on $x$. This can only happen if both sides are equal to a constant, let's say $\\lambda$. Then, we can write:\n",
    "\n",
    "\\begin{align}\n",
    "    \\psi''(t) - \\lambda\\psi(t)&= 0 \\\\\n",
    "    \\varphi''(x)-\\lambda\\varphi(x) &= 0\n",
    "\\end{align}\n",
    " "
   ]
  },
  {
   "cell_type": "markdown",
   "metadata": {},
   "source": [
    "If you remember, these ones look a lot like the equation from simple harmonic motion. We will only consider the case where $\\lambda < 0$, since $\\lambda >= 0$ the solution won't oscillate. Rewriting $\\lambda = -m^2$, the solution is given by:\n",
    "\n",
    "\\begin{equation}\n",
    "    \\psi(t) = A\\text{cos}(mt) + B\\text{sin}(mt)\n",
    "\\end{equation}\n",
    "\n",
    "and similarly:\n",
    "\n",
    "\\begin{equation}\n",
    "    \\varphi(x) = \\tilde{A}\\text{cos}(mx) + \\tilde{B}\\text{sin}(mx)\n",
    "\\end{equation}\n",
    "\n",
    "Since we are thinking that the string is fixed at $x=0$ and $x=\\pi$ then $\\varphi(0)=\\varphi(\\pi) = 0$.  This tells us that $\\tilde{A}=0$, and $\\tilde{B} \\neq 0$, then $m$ must be an integer.\n",
    "\n",
    "For $m=0$ the solution vanishes and for $m <= -1$ we can simply rename our constants. Then we will concentrate in the case $m => 1$, and we can then say that for each $m => 1$, \n",
    "\n",
    "\\begin{equation}\n",
    "    u_m(x,t) = \\left( A_m\\text{cos}mt + B_m\\text{sin}mt \\right)\\text{sin}mx \n",
    "\\end{equation}\n",
    "\n",
    "which is a **standing wave**, is a solution to the wave equation.\n",
    "\n",
    "Before we keep going with the analysis of the wave equation, let's discuss a bit more about standing waves. The terms comes from looking at the shape of $u_m(x,t)$ at each fixed time $t$. "
   ]
  },
  {
   "cell_type": "markdown",
   "metadata": {},
   "source": [
    "If you remember, these ones look a lot like the equation from simple harmonic motion. We will only consider the case where $\\lambda < 0$, since $\\lambda >= 0$ the solution won't oscillate. Rewriting $\\lambda = -m^2$, the solution is given by:\n",
    "\n",
    "\\begin{equation}\n",
    "    \\psi(t) = A\\text{cos}(mt) + B\\text{sin}(mt)\n",
    "\\end{equation}\n",
    "\n",
    "and similarly:\n",
    "\n",
    "\\begin{equation}\n",
    "    \\varphi(x) = \\tilde{A}\\text{cos}(mx) + \\tilde{B}\\text{sin}(mx)\n",
    "\\end{equation}\n",
    "\n",
    "Since we are thinking that the string is fixed at $x=0$ and $x=\\pi$ then $\\varphi(0)=\\varphi(\\pi) = 0$.  This tells us that $\\tilde{A}=0$, and $\\tilde{B} \\neq 0$, then $m$ must be an integer.\n",
    "\n",
    "For $m=0$ the solution vanishes and for $m <= -1$ we can simply rename our constants. Then we will concentrate in the case $m => 1$, and we can then say that for each $m => 1$, \n",
    "\n",
    "\\begin{equation}\n",
    "    u_m(x,t) = \\left( A_m\\text{cos}mt + B_m\\text{sin}mt \\right)\\text{sin}mx \n",
    "\\end{equation}\n",
    "\n",
    "which is a **standing wave**, is a solution to the wave equation.\n",
    "\n",
    "Before we keep going with the analysis of the wave equation, let's discuss a bit more about standing waves. The terms comes from looking at the shape of $u_m(x,t)$ at each fixed time $t$. "
   ]
  },
  {
   "cell_type": "markdown",
   "metadata": {},
   "source": [
    "### Fundamental tone and harmonics\n",
    "\n",
    "To make it easier to visualize, we will take the case of $u_m(x,t) = \\text{cos}mt\\text{sin}mx$. The particular case of $m=1$ correspond to the **fundamental tone** or **first harmonic**. We can plot $u(x,t) = \\text{cos}t\\text{sin}x$ for different values of $t$.\n"
   ]
  },
  {
   "cell_type": "code",
   "execution_count": null,
   "metadata": {},
   "outputs": [],
   "source": [
    "x = numpy.linspace(-2*numpy.pi, 2*numpy.pi, 111)\n",
    "\n",
    "t0 = 0\n",
    "t1 = 1\n",
    "t2 = 5\n",
    "\n",
    "fig, ax = pyplot.subplots(1, figsize=(8,6))\n",
    "\n",
    "pyplot.plot(x, numpy.cos(t0)*numpy.sin(x), label='$t=0$')\n",
    "pyplot.plot(x, numpy.cos(t1)*numpy.sin(x), label='$t=1$')\n",
    "pyplot.plot(x, numpy.cos(t2)*numpy.sin(x), label='$t=5$')\n",
    "\n",
    "#To plot ticks in terms of pi\n",
    "ax.set_xticks([-2*numpy.pi, -1.5*numpy.pi, -numpy.pi,-0.5*numpy.pi, 0., \n",
    "                .5*numpy.pi, numpy.pi, 1.5*numpy.pi, 2*numpy.pi])\n",
    "ax.set_xticklabels([r\"$-2\\pi$\", r\"$\\frac{-3}{2}\\pi$\",r\"$-\\pi$\",r\"$\\frac{-1}{2}\\pi$\",\n",
    "                     \"$0$\", r\"$\\frac{1}{2}\\pi$\", r\"$\\pi$\", r\"$\\frac{3}{2}\\pi$\", r\"$2\\pi$\"])\n",
    "\n",
    "pyplot.legend()\n",
    "pyplot.grid();"
   ]
  },
  {
   "cell_type": "markdown",
   "metadata": {},
   "source": [
    "Note that $u(\\pi/2, t) =0$ for all $t$. This points are called **nodes** and they remain motionless. On the other hand, the points whose motion has maximum amplitude are name **ant-nodes**"
   ]
  },
  {
   "cell_type": "markdown",
   "metadata": {},
   "source": [
    "Now if we take $m=2$, called the second harmonic, we can repeat the process and plot them, but let's make a function so we can call it multiple times."
   ]
  },
  {
   "cell_type": "code",
   "execution_count": null,
   "metadata": {},
   "outputs": [],
   "source": [
    "def plot_harmonics(m, x, t):\n",
    "    \"\"\" Plot the m-th harmonics of the function cos(mt)sin(mx)\n",
    "    \n",
    "    m : integer, number of harmonic desired.\n",
    "    x : array, independant variable\n",
    "    t : float or list, if it's a list will plot all the cases.\n",
    "    \n",
    "    \"\"\"\n",
    "    \n",
    "    fig, ax = pyplot.subplots(1, figsize=(8,6))\n",
    "    \n",
    "\n",
    "    if (type(t) == float or type(t) == int):\n",
    "        pyplot.plot(x, numpy.cos(m*t)*numpy.sin(m*x), label='$t={}$'.format(t))\n",
    "    if type(t) == list:\n",
    "        for ti in t:\n",
    "            pyplot.plot(x, numpy.cos(m*ti)*numpy.sin(m*x), label='$t={}$'.format(ti))\n",
    "\n",
    "\n",
    "    #To plot ticks in terms of pi\n",
    "    ax.set_xticks([-2*numpy.pi, -1.5*numpy.pi, -numpy.pi,-0.5*numpy.pi, 0., \n",
    "                    .5*numpy.pi, numpy.pi, 1.5*numpy.pi, 2*numpy.pi])\n",
    "    ax.set_xticklabels([r\"$-2\\pi$\", r\"$\\frac{-3}{2}\\pi$\",r\"$-\\pi$\",r\"$\\frac{-1}{2}\\pi$\",\n",
    "                         \"$0$\", r\"$\\frac{1}{2}\\pi$\", r\"$\\pi$\", r\"$\\frac{3}{2}\\pi$\", r\"$2\\pi$\"])\n",
    "\n",
    "    pyplot.legend()\n",
    "    pyplot.grid()\n"
   ]
  },
  {
   "cell_type": "markdown",
   "metadata": {},
   "source": [
    "Let's see what happens if we plot the second harmonic for `t=0`. What do you see, how does it change if we plot for an odd time? Discuss with your neighbor. "
   ]
  },
  {
   "cell_type": "code",
   "execution_count": null,
   "metadata": {},
   "outputs": [],
   "source": [
    "plot_harmonics(2, x, 0)"
   ]
  },
  {
   "cell_type": "markdown",
   "metadata": {},
   "source": [
    "##### Exercise\n",
    "Create a list of times, and use the `plot_harmonics` function to plot. If you read the docstrings, you'll notice that our function can accept lists. "
   ]
  },
  {
   "cell_type": "markdown",
   "metadata": {},
   "source": [
    "Higher values of $m$ get higher harmonics. As we increase $m$, the frequency increases, and the period $2\\pi/m$ decreases. In other words, the fundamental tone has a lower frequency than higher harmonics. \n"
   ]
  },
  {
   "cell_type": "markdown",
   "metadata": {},
   "source": [
    "### Superposition\n",
    "\n",
    "Now returning to the original problem. Remember that we say the wave equation is linear, if $u$ and $v$ are solutions then $au +bv$ does also solve the equation for any constants $a$ and $b$. Using this, we can combine all the solutions for different $m$'s:\n",
    "\n",
    "\\begin{equation}\n",
    "    u(x, t) =\\sum_{m=1}^{\\infty} \\left( A_m\\text{cos}mt + B_m\\text{sin}mt \\right)\\text{sin}mx \n",
    "\\end{equation}\n",
    "\n",
    "This is called **superposition**, and gives us *all* the solutions to the wave equation. Now if we set the initial position of the string at $t=0$ as the graph of a function $f$ on $[0, \\pi]$, with $f(0)=f(\\pi)=0$, we have $u(x,0) = f(x)$, therefore:\n",
    "\n",
    "\\begin{equation}\n",
    "    \\sum_{m=1}^{\\infty} A_m\\text{sin}mx  =f(x)\n",
    "\\end{equation}\n",
    "\n",
    "#### Exercise\n",
    "\n",
    "Derive this equation in a piece of paper, by starting from the general shape of $u(x,t)$ and apply the conditions mentioned in the text. \n",
    "\n",
    "Since the initial shape of our $f$ function can by anything reasonable, we need to ask some questions:\n",
    "\n",
    "Given a function $f$ on $[0, \\pi]$ with $f(0)=f(\\pi)=0$, can we find the coefficients $A_m$ such that\n",
    "\n",
    "\\begin{equation}\n",
    "    f(x) =   \\sum_{m=1}^{\\infty} A_m\\text{sin}mx \\; ?\n",
    "\\end{equation}\n",
    "\n",
    "This was the problem that initiated the study of Fourier analysis. To start let's see what happens if we multiply both sides by $\\text{sin}nx$ and integrate between $[0, \\pi]$; \n",
    "\n",
    "\\begin{align}\n",
    "    \\int_0^{\\pi} f(x) \\text{sin}nx dx &= \\int_0^{\\pi} \\left( \\sum_{m=1}^{\\infty} A_m\\text{sin}mx  \\right) \\text{sin}nx dx \\\\\n",
    "    &= \\sum_{m=1}^{\\infty} A_m \\int_0^{\\pi}\\text{sin}mx\\text{sin}nx dx = A_n \\frac{\\pi}{2}\n",
    "\\end{align}\n",
    "\n",
    "where we used the fact that:\n",
    "\n",
    "\\begin{align}\n",
    "    \\int_0^\\pi \\text{sin}mx\\text{sin}nx dx  = \n",
    "    \\left\\{ \\begin{array}{cc}\n",
    "        0 & if \\quad m \\neq n  \\\\\n",
    "        \\pi/2 & if  \\quad m = n  \n",
    "    \\end{array} \\right.\n",
    "\\end{align}\n",
    "\n",
    "Then the guess for $A_n$, called the $n^{th}$ Fourier sine coefficient of $f$ is \n",
    "\n",
    "\\begin{equation}\n",
    "    A_n = \\frac{2}{\\pi} \\int_0^{\\pi} f(x) \\text{sin}nx dx\n",
    "\\end{equation}\n",
    "\n",
    "Knowing that an arbitrary function $F$ on $[-\\pi, \\pi]$ can be expressed as $f+g$ , where $f$ is odd and $g$ is even, we can ask if $F$ can be written as \n",
    "\n",
    "\\begin{equation}\n",
    "    F(x) = \\sum_{m=1}^{\\infty} A_m\\text{sin}mx  + \\sum_{m=0}^{\\infty} A'_m\\text{cos}mx \n",
    "\\end{equation}\n",
    "\n",
    "If we use Euler's identity $e^{ix} = \\text{cos}x + \\text{sin}x$, we could hope that F looks like:\n",
    "\n",
    "\\begin{equation}\n",
    "    F(x) = \\sum_{-\\infty}^{\\infty} a_m e^{imx}\n",
    "\\end{equation}\n",
    "\n",
    "using that:\n",
    "\n",
    "\\begin{align}\n",
    "    \\int_{-\\pi}^\\pi  e^{imx} e^{-inx} dx  = \n",
    "    \\left\\{ \\begin{array}{cc}\n",
    "        0 & if \\quad m \\neq n  \\\\\n",
    "        1 & if  \\quad m = n  \n",
    "    \\end{array} \\right.\n",
    "\\end{align}\n",
    "\n",
    "then\n",
    "\n",
    "\\begin{equation}\n",
    "    a_n = \\frac{1}{2\\pi} \\int_{-\\pi}^{\\pi} F(x) e^{-inx} dx\n",
    "\\end{equation}\n",
    "\n",
    "where $a_n$ is called the $n^th$ **Fourier coefficient** of $F$. We can now reformulate the question:\n",
    "\n",
    "Given $F$, a reasonable function on $[-\\pi, \\pi]$, with coefficients define as above, is it true that \n",
    "\n",
    "\\begin{equation}\n",
    "    F(x) = \\sum_{-\\infty}^{\\infty} a_m e^{imx} \\quad ?\n",
    "\\end{equation}\n",
    "\n",
    "Joseph Fourier was the first one to believe that this can happen for any \"arbitrary\" function. His idea was that any function is a linear combination of the trigonometric functions $\\text{sin}mx$ and $\\text{cos}mx$, where $m$ are integers. "
   ]
  },
  {
   "cell_type": "code",
   "execution_count": null,
   "metadata": {},
   "outputs": [],
   "source": [
    "# Execute this cell to load the notebook's style sheet, then ignore it\n",
    "from IPython.core.display import HTML\n",
    "css_file = '../style/custom.css'\n",
    "HTML(open(css_file, \"r\").read())"
   ]
  }
 ],
 "metadata": {
  "kernelspec": {
   "display_name": "Python 3",
   "language": "python",
   "name": "python3"
  },
  "language_info": {
   "codemirror_mode": {
    "name": "ipython",
    "version": 3
   },
   "file_extension": ".py",
   "mimetype": "text/x-python",
   "name": "python",
   "nbconvert_exporter": "python",
   "pygments_lexer": "ipython3",
   "version": "3.7.3"
  }
 },
 "nbformat": 4,
 "nbformat_minor": 2
}
