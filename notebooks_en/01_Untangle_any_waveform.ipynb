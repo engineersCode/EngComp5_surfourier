{
 "cells": [
  {
   "cell_type": "markdown",
   "metadata": {},
   "source": [
    "###### Content under Creative Commons Attribution license CC-BY 4.0, code under BSD 3-Clause License © 2020 L.A. Barba, N.C. Clementi"
   ]
  },
  {
   "cell_type": "markdown",
   "metadata": {},
   "source": [
    "# Untangle any waveform"
   ]
  },
  {
   "cell_type": "markdown",
   "metadata": {},
   "source": [
    "Welcome to a new lesson of the _Engineering Computations_ series, where we use computing as our instrument to discover the world. In this lesson, we explore information in wave form, using sound as a prototypical example. We aim to bring to light how engineers and scientists are able to analyze this kind of data, which has a myriad interesting applications. Let's go!"
   ]
  },
  {
   "cell_type": "markdown",
   "metadata": {},
   "source": [
    "## What is sound?\n",
    "\n",
    "Physically, _sound_ means travelling vibrations in any medium: air, water, metal, anything that can support oscillations. When your vocal chords emit sound, they are literally vibrating and passing on that vibration to the air around them. \n",
    "\n",
    "Imagine pressure vibrations in the air like longitudinal waves on a slinky, as shown on this gif (you can watch the full [video](https://www.youtube.com/watch?v=GIkeGBXqWW0) on YouTube).\n",
    "\n",
    "![Longitudinal Waves on a Slinky](https://i.makeagif.com/media/5-30-2017/ZChjoc.gif)\n",
    "\n",
    "#### Compression/expansion longitudinal wave on a slinky.\n",
    "\n",
    "Every loop of the spiral just oscillates around a position of equilibrium, while the _wave_ of compressions and expansions travels the length of the slinky. In the air, sound also travels as longitudinal compression/rarefaction waves."
   ]
  },
  {
   "cell_type": "markdown",
   "metadata": {},
   "source": [
    "### Waveforms\n",
    "\n",
    "A waveform is a schematic to understand sound waves. A fundamental sound is represented by a _sine wave_. Do explore the interactive guide to [waveforms](https://pudding.cool/2018/02/waveforms/) online: it presents both visually and audibly the concepts of displacement amplitude, wave frequency and more.\n",
    "\n",
    "When you play on the middle of a piano the note of A, the piano string vibrates at 440 oscillations per second (Hz). That is the _frequency_ of the corresponding sine wave:\n",
    "\n",
    "$$y(t) = A \\sin(2\\pi \\, f \\, t + \\theta)$$\n",
    "\n",
    "where $A$ is the wave amplitude, $f$ the frequency, and $\\theta$ is the phase, i.e., the angle value of the sine at $t=0$. The corresponding angular frequency is $~\\omega=2\\pi f$, in radians per second. \n",
    "\n",
    "Let's visualize this function using our favorite Python libraries. We first create a `time` array holding the discrete values of time to evaluate the function at. The array is defined using the length of time from zero to `length_sec` (in seconds) and a _sampling rate_, the number of time samples per second. Study the code below."
   ]
  },
  {
   "cell_type": "code",
   "execution_count": null,
   "metadata": {},
   "outputs": [],
   "source": [
    "import numpy\n",
    "from matplotlib import pyplot\n",
    "%matplotlib inline"
   ]
  },
  {
   "cell_type": "code",
   "execution_count": null,
   "metadata": {},
   "outputs": [],
   "source": [
    "# set fonts for plot lables and axes\n",
    "pyplot.rc('font', family='serif', size='14')"
   ]
  },
  {
   "cell_type": "code",
   "execution_count": null,
   "metadata": {},
   "outputs": [],
   "source": [
    "sample_rate = 44100  #Hz\n",
    "length_sec = 2       #seconds\n",
    "time = numpy.linspace(0, length_sec, sample_rate * length_sec)  "
   ]
  },
  {
   "cell_type": "code",
   "execution_count": null,
   "metadata": {},
   "outputs": [],
   "source": [
    "freq = 440 #Hz\n",
    "y = numpy.sin(2 * numpy.pi * freq * time) "
   ]
  },
  {
   "cell_type": "markdown",
   "metadata": {},
   "source": [
    "The sampling rate used above, [44100 Hz](https://en.wikipedia.org/wiki/44,100_Hz) (44.1 kHz), is the standard value for digital audio recordings going back to the 1970s. It is the sampling rate used in CDs, and in .mp3 audio files. \n",
    "\n",
    "A fundamental theorem in the field of digital signal processing states that to capture all the information of a continuous signal, the sampling rate needs to be more than twice the maximum frequency. It is the **Nyquist–Shannon sampling theorem**. Since our ears can perceive sound in a frequency range of 20–20,000 Hz (20 kHz), industry chose 44.1 kHz for digital audio. \n",
    "\n",
    "Let's look at our sine waveform for the A4 note (that is the note of A in middle of the piano):"
   ]
  },
  {
   "cell_type": "code",
   "execution_count": null,
   "metadata": {},
   "outputs": [],
   "source": [
    "pyplot.figure(figsize=(8,3))\n",
    "pyplot.plot(time[:1000], y[:1000])\n",
    "pyplot.xlabel('time')\n",
    "pyplot.title('Sine wave with a 440 Hz frequency, $A=1$\\n');"
   ]
  },
  {
   "cell_type": "markdown",
   "metadata": {},
   "source": [
    "## Play with audio in Python\n",
    "\n",
    "We can _play_ the sound from our sine waveform using the [display](https://ipython.org/ipython-doc/dev/api/generated/IPython.display.html) tools of IPython. Check out the documentation for details. When you use a NumPy array as the data, it needs the argument `rate` corresponding to the sampling rate."
   ]
  },
  {
   "cell_type": "code",
   "execution_count": null,
   "metadata": {},
   "outputs": [],
   "source": [
    "from IPython.display import Audio"
   ]
  },
  {
   "cell_type": "code",
   "execution_count": null,
   "metadata": {},
   "outputs": [],
   "source": [
    "Audio(y, rate=sample_rate)"
   ]
  },
  {
   "cell_type": "markdown",
   "metadata": {},
   "source": [
    "Isn't that cool? Let's now write a custom function that takes as arguments the frequency, duration of sound (and an optional phase angle) and it returns the time array and the signal, using 44.1 kHz as the sampling rate."
   ]
  },
  {
   "cell_type": "code",
   "execution_count": null,
   "metadata": {},
   "outputs": [],
   "source": [
    "def sine_signal(f, s, phase=0):\n",
    "    '''Computes a sine signal of frquency f and duration s\n",
    "    using a sample rate of 44.1kHz, and returns it along with \n",
    "    the time array\n",
    "    \n",
    "    Arguments:\n",
    "    ----------\n",
    "    f: float, frequency\n",
    "    s: float, duration of the audio in seconds\n",
    "    phase: float, optional phase in radians \n",
    "    \n",
    "    Returns:\n",
    "    --------\n",
    "    wave: array, sinusoidal wave array of frequency f\n",
    "    time: array, time samples\n",
    "    \n",
    "    '''\n",
    "    samp_rate = 44100 #Hz\n",
    "    time = numpy.linspace(0, s, samp_rate * s)  \n",
    "    \n",
    "    wave = numpy.sin(2 * numpy.pi * f * time + phase)\n",
    "    \n",
    "    return wave, time"
   ]
  },
  {
   "cell_type": "markdown",
   "metadata": {},
   "source": [
    "Let's create two sine waves of 2-second duration with frequencies of 440 Hz and 294 Hz, corresponding to the notes A4 and D4 on the piano, and save them to Python variables. On the second line, we save only the signal using the index `[0]`. "
   ]
  },
  {
   "cell_type": "code",
   "execution_count": null,
   "metadata": {},
   "outputs": [],
   "source": [
    "A440, t2 = sine_signal(f=440, s=2)\n",
    "D294 = sine_signal(f=294, s=2)[0] "
   ]
  },
  {
   "cell_type": "markdown",
   "metadata": {},
   "source": [
    "Now play the sound for the D note alone, and for the sum of the two notes. Note that we can do this because the two signals have the same length and sampling rate!"
   ]
  },
  {
   "cell_type": "code",
   "execution_count": null,
   "metadata": {},
   "outputs": [],
   "source": [
    "Audio(D294, rate=sample_rate)"
   ]
  },
  {
   "cell_type": "code",
   "execution_count": null,
   "metadata": {},
   "outputs": [],
   "source": [
    "Audio(D294+A440, rate=sample_rate)"
   ]
  },
  {
   "cell_type": "code",
   "execution_count": null,
   "metadata": {},
   "outputs": [],
   "source": [
    "f, (ax1, ax2, ax3) = pyplot.subplots(3, 1, sharex=True, figsize=(12.0, 9.0))\n",
    "\n",
    "ax1.plot(t2[:1000], (A440+D294)[:1000], c='C0', label='A440 + D294')\n",
    "\n",
    "ax2.plot(t2[:1000], D294[:1000], c='C1', label='D294')\n",
    "ax2.set_ylabel('Amplitude')\n",
    "\n",
    "ax3.plot(t2[:1000], A440[:1000], c='C2', label='A440')\n",
    "\n",
    "ax3.set_xlabel('time [s]')\n",
    "\n",
    "#plot all legends in one line\n",
    "[ax.legend(loc='upper right') for ax in (ax1, ax2, ax3)];"
   ]
  },
  {
   "cell_type": "markdown",
   "metadata": {},
   "source": [
    "##### Exercise\n",
    "\n",
    "- Create two new sound waves of 2-second duration and frequencies of 349Hz and 523Hz, and name them F349 and C523, respectively. \n",
    "- Create the audio widget to plays the sound that results from the sum of all the frequencies we have created.\n",
    "- Plot all the sound waves and the sum of all of them in aplot like the one above."
   ]
  },
  {
   "cell_type": "markdown",
   "metadata": {},
   "source": [
    "### Read and write audio files\n",
    "\n",
    "The SciPy library has many modules to read and write data in various file formats. To handle [WAV files](https://en.wikipedia.org/wiki/WAV), those written in the Waveform Audio File Format, we can use the `scipy.io.wavfile` module. After importing it, let's save the waveform data we have created into a file; notice the arguments we have passed to the [`wavfile.write()`](https://docs.scipy.org/doc/scipy/reference/generated/scipy.io.wavfile.write.html#scipy.io.wavfile.write) function and take a look at the documentation page."
   ]
  },
  {
   "cell_type": "code",
   "execution_count": null,
   "metadata": {},
   "outputs": [],
   "source": [
    "from scipy.io import wavfile\n",
    "\n",
    "sum_waves = A440 + D294\n",
    "\n",
    "wavfile.write('sum_AD.wav', sample_rate, sum_waves) #name of file, sample rate, array"
   ]
  },
  {
   "cell_type": "markdown",
   "metadata": {},
   "source": [
    "You can also read a WAV file, listen to it, and later analyze it or modify the data. Here, we download a WAV file with the tones of a C chord on a guitar (added in progression), and then use [`wavfile.read()`](https://docs.scipy.org/doc/scipy/reference/generated/scipy.io.wavfile.read.html#scipy.io.wavfile.read)  to read the sound waveform, and to save it to a Python variable.\n",
    "(C chord WAV data file from Ref. [2].)"
   ]
  },
  {
   "cell_type": "code",
   "execution_count": null,
   "metadata": {},
   "outputs": [],
   "source": [
    "URL = 'https://matthewmcgonagle.github.io/assets/2018-01-05-output/cchord.wav'\n",
    "from urllib.request import urlretrieve\n",
    "urlretrieve(URL, 'cchord.wav')"
   ]
  },
  {
   "cell_type": "code",
   "execution_count": null,
   "metadata": {},
   "outputs": [],
   "source": [
    "wavfile.read('cchord.wav')"
   ]
  },
  {
   "cell_type": "markdown",
   "metadata": {},
   "source": [
    "Notice the return value of `wavfile.read()`: it is a tuple containing an integer, and an array. The first component is the sampling rate of this WAV file, and the second component is the data as a NumPy array. To play with them, we save them to Python variables."
   ]
  },
  {
   "cell_type": "code",
   "execution_count": null,
   "metadata": {},
   "outputs": [],
   "source": [
    "cchord_rate, cchord = wavfile.read('cchord.wav')"
   ]
  },
  {
   "cell_type": "code",
   "execution_count": null,
   "metadata": {},
   "outputs": [],
   "source": [
    "Audio(cchord, rate=cchord_rate)"
   ]
  },
  {
   "cell_type": "markdown",
   "metadata": {},
   "source": [
    "The values of time corresponding to the signal samples are computed using the integers from zero to the length of the data array, divided by the sampling rate. Let's create a time array for this signal, then plot the signal."
   ]
  },
  {
   "cell_type": "code",
   "execution_count": null,
   "metadata": {},
   "outputs": [],
   "source": [
    "ctimes = numpy.arange(len(cchord)) / cchord_rate"
   ]
  },
  {
   "cell_type": "code",
   "execution_count": null,
   "metadata": {},
   "outputs": [],
   "source": [
    "pyplot.figure(figsize=(8,3))\n",
    "pyplot.plot(ctimes, cchord)\n",
    "pyplot.xlabel('time')\n",
    "pyplot.title('C chord signal');"
   ]
  },
  {
   "cell_type": "markdown",
   "metadata": {},
   "source": [
    "Interesting! But hard to make out what is going on there. What if you wanted to know the frequencies of the tones that make up this audio sample? _How might you untangle this waveform into its component sine waves?_"
   ]
  },
  {
   "cell_type": "markdown",
   "metadata": {},
   "source": [
    "## Understanding the Fourier transform\n",
    "\n",
    "The answer to the question above is _the Fourier transform_. Once again, we benefit from a wonderfully visual explanation by Grant Sanderson [3]. We highly recommend that you watch the [video](https://www.youtube.com/watch?v=spUNpyF58BY)! The rest of this lesson is based on it. \n",
    "\n",
    "A key idea of the Fourier transform is that it mathematically treats each frequency component in a signal _differently_, so that it can identify them and show us what they are. \n",
    "\n",
    "We will follow Ref. [3] closely. Let us start with a 2-second-long sine wave that is shifted by $\\pi/2$ (i.e., it's the cosine wave), with a 3-Hz frequency. Create it with our custom function, then plot it. "
   ]
  },
  {
   "cell_type": "code",
   "execution_count": null,
   "metadata": {},
   "outputs": [],
   "source": [
    "sinewave, time = sine_signal(f=3, s=2, phase=numpy.pi/2)"
   ]
  },
  {
   "cell_type": "code",
   "execution_count": null,
   "metadata": {},
   "outputs": [],
   "source": [
    "pyplot.plot(time, sinewave)\n",
    "pyplot.xlabel('Time [s]')\n",
    "pyplot.ylabel('Amplitude')\n",
    "pyplot.title('Sine wave with 3-Hz frequency and $\\pi/2$ phase\\n');"
   ]
  },
  {
   "cell_type": "markdown",
   "metadata": {},
   "source": [
    "Now, complex numbers to the rescue! In [Lesson 0](https://go.gwu.edu/engcomp5lesson0) of this module, we reviewed complex numbers, played with them using Python, and learned about their geometry. \n",
    "\n",
    "Imagine that our signal corresponds to the modulus of a complex number, while the time maps to its phase angle—it's like taking the horizontal time axis and wrapping it around a circle on the complex plane. \n",
    "\n",
    "Remember that Euler's formula says that the exponential of $i\\alpha$ lands on the complex number $(\\cos\\alpha, \\sin\\alpha)$ on the unit circle. We use a frequency value to define complex numbers with $\\alpha = -2\\pi i f t$—that is, as time moves forward, we rotate clockwise on the complex plane.\n",
    "\n",
    "In the function below, we define a unit circle from a given frequency and time samples. In the next cell, we call it with a frequency of $1$ (corresponding to an angular frequency of $2\\pi$ radians per second) and the `time` array, and plot the result."
   ]
  },
  {
   "cell_type": "code",
   "execution_count": null,
   "metadata": {},
   "outputs": [],
   "source": [
    "def comp_fourier_term(f, t):\n",
    "    \n",
    "    circ = numpy.exp(-2*numpy.pi*1j*f*t)\n",
    "    \n",
    "    return circ"
   ]
  },
  {
   "cell_type": "code",
   "execution_count": null,
   "metadata": {},
   "outputs": [],
   "source": [
    "wrap = comp_fourier_term(1, time)\n",
    "\n",
    "pyplot.figure(figsize=(4, 4))\n",
    "pyplot.plot(wrap.real, wrap.imag)\n",
    "pyplot.axis('scaled')\n",
    "pyplot.axis([-1.1,1.1,-1.1,1.1])\n",
    "pyplot.grid(True);"
   ]
  },
  {
   "cell_type": "markdown",
   "metadata": {},
   "source": [
    "That took the `time` array and mapped it onto the unit circle on the complex plane. \n",
    "\n",
    "Next, we _multiply_ each discrete value of our sine waveform with the corresponding complex number that maps time to the unit circle.\n",
    "This is like winding our signal around the origin. The resulting curve passes through the complex numbers whose modulus is equal to the amplitude and whose phase is equal to $\\alpha = -2\\pi i f t$ for our signal.\n",
    "\n",
    "By calling the function `comp_fourier_term()` with the argument `f=1`, we wrapped time around the unit circle once. But we can change this \"winding\" frequency to any value we want, and it will change how the signal is mapped onto the complex plane.\n",
    "\n",
    "We are now dealing with two frequencies: that of the original sine waveform, and that of the winding of that signal around the unit circle on the complex plane.\n",
    "\n",
    "Come on, try this with several values of `f`!"
   ]
  },
  {
   "cell_type": "code",
   "execution_count": null,
   "metadata": {},
   "outputs": [],
   "source": [
    "wrap_sine = sinewave * comp_fourier_term(f=0.5, t=time)\n",
    "\n",
    "pyplot.figure(figsize=(4, 4))\n",
    "pyplot.plot(wrap_sine.real, wrap_sine.imag)\n",
    "pyplot.axis('scaled')\n",
    "pyplot.axis([-1.1,1.1,-1.1,1.1])\n",
    "pyplot.grid(True);"
   ]
  },
  {
   "cell_type": "markdown",
   "metadata": {},
   "source": [
    "If you experimented with lots of values of the winding frequency, you were probably amused by the pretty pictures, but our toy is also a powerful means for understanding the Fourier transform.\n",
    "\n",
    "For now, consider just the real part of the wound-up signal, and look at the mean value for all sampled times, for a given winding frequency. This mean value tends to be small, as the plots show that the wound-up signal is often symmetric around the origin. But for some winding frequency, things change... \n",
    "\n",
    "Let's explore. With a winding frequency of 0.5 the mean value of the real part is nearly zero. But let's re-compute the wound-up signal for an array of frequency values, and get the mean of the real parts, each time.\n",
    "We choose 200 values of winding frequency, between 1 and 5, compute the wound-up signal with each one, then take the mean of the real parts of the resulting complex numbers, and save that in an array. Plotting this information is... interesting!"
   ]
  },
  {
   "cell_type": "code",
   "execution_count": null,
   "metadata": {},
   "outputs": [],
   "source": [
    "numpy.mean(wrap_sine.real)"
   ]
  },
  {
   "cell_type": "code",
   "execution_count": null,
   "metadata": {},
   "outputs": [],
   "source": [
    "# Winding frequencies\n",
    "freqs = numpy.arange(1, 5, 0.02)\n",
    "len(freqs)"
   ]
  },
  {
   "cell_type": "code",
   "execution_count": null,
   "metadata": {},
   "outputs": [],
   "source": [
    "xmean = []\n",
    "for i in range(len(freqs)):\n",
    "    \n",
    "    wrap = sinewave * comp_fourier_term(f=freqs[i], t=time)\n",
    "    xmean.append(numpy.mean(wrap.real))\n",
    "\n",
    "xmean = numpy.array(xmean)"
   ]
  },
  {
   "cell_type": "code",
   "execution_count": null,
   "metadata": {},
   "outputs": [],
   "source": [
    "pyplot.figure(figsize=(8,4))\n",
    "pyplot.plot(freqs, xmean)\n",
    "pyplot.xlabel('frequency');"
   ]
  },
  {
   "cell_type": "markdown",
   "metadata": {},
   "source": [
    "Starting with our sine wave, winding it around the unit circle on the complex planes at different frequencies, and computing the mean of the real parts of the resulting complex numbers—this transformed data—reveals the _frequency of the original signal_.\n",
    "\n",
    "Why is there a marked peak on this data at just the winding frequency that matches the signal frequency?\n",
    "We have a \"helper\" Python script that makes an animation with Matplotlib of the changing wound-up signal on the complex plane, and the plot of the transformed data with respect to frequency. This is not quite the Fourier transform, but it's pretty close. Grant Sanderson calls it \"almost Fourier\" transform [3], and so do we.\n",
    "\n",
    "Here, we load Matplotlib's `animation` module, and our helper script. In the next cell, we call our helper function `create_animation()` using a coarser set of frequency values, to make things a little faster."
   ]
  },
  {
   "cell_type": "code",
   "execution_count": null,
   "metadata": {},
   "outputs": [],
   "source": [
    "from matplotlib import animation\n",
    "\n",
    "# import helper to produce animation\n",
    "import sys\n",
    "sys.path.append('../scripts/')\n",
    "\n",
    "import almost_fourier_helper as afh"
   ]
  },
  {
   "cell_type": "code",
   "execution_count": null,
   "metadata": {},
   "outputs": [],
   "source": [
    "# This cell will take few seconds to run\n",
    "# We use fewer frequencies otherwise the animation is too slow\n",
    "freqs_coarse = numpy.arange(1, 5, 0.06)\n",
    "\n",
    "afh.create_animation(sinewave, time, freqs_coarse)"
   ]
  },
  {
   "cell_type": "markdown",
   "metadata": {},
   "source": [
    "Watch the animation and ponder how this \"frequency detection machine\" works: multiplying the signal amplitude by the complex number $e^{i\\alpha}$, where $\\alpha=-2\\pi i f t$, with different values of $f$. This transforms the signal to a curve on the complex plane that for most frequencies has some symmetry, so the real parts average to near zero. \n",
    "Except as it approaches the frequency of the signal, when the things line up just right and the curve on the complex plane averages a positive real part, revealing a peak at the signal frequency.\n",
    "It's startling!\n",
    "\n",
    "We can try again with the sum of two sine waveforms, say, with frequencies of 2 and 4 Hz, and see what happens now."
   ]
  },
  {
   "cell_type": "code",
   "execution_count": null,
   "metadata": {},
   "outputs": [],
   "source": [
    "sinewave_1, time = sine_signal(f=2, s=2, phase=numpy.pi/2)\n",
    "sinewave_2, time = sine_signal(f=4, s=2, phase=numpy.pi/2)\n",
    "\n",
    "xmean = []\n",
    "for i in range(len(freqs)):\n",
    "    \n",
    "    wrap = (sinewave_1+sinewave_2) * comp_fourier_term(f=freqs[i], t=time)\n",
    "    xmean.append(numpy.mean(wrap.real))\n",
    "    \n",
    "xmean = numpy.array(xmean)"
   ]
  },
  {
   "cell_type": "code",
   "execution_count": null,
   "metadata": {},
   "outputs": [],
   "source": [
    "pyplot.figure(figsize=(8,4))\n",
    "pyplot.plot(freqs, xmean)\n",
    "pyplot.xlabel('frequency');"
   ]
  },
  {
   "cell_type": "code",
   "execution_count": null,
   "metadata": {},
   "outputs": [],
   "source": [
    "#we need to normalize to have Amplitude max =1 and fit in the circle\n",
    "afh.create_animation((sinewave_1 + sinewave_2)/max(sinewave_1 + sinewave_2), time, freqs_coarse)"
   ]
  },
  {
   "cell_type": "markdown",
   "metadata": {},
   "source": [
    "Indeed, we see two frequency peaks: at 2 and 4 Hz.\n",
    "\n",
    "Our final test will use the data corresponding to a guitar C chord, saved above from a WAV file into the variables `cchord` and `ctimes`. To know what frequency range we need to explore, we used a [table of the frequencies in Hz for musical pitches](https://www.seventhstring.com/resources/notefrequencies.html). It seems for the first 5 octaves, the frequencies are in the range from 15 to 1000 Hz."
   ]
  },
  {
   "cell_type": "code",
   "execution_count": null,
   "metadata": {},
   "outputs": [],
   "source": [
    "freqs = numpy.arange(15, 1000, 5)\n",
    "len(freqs)"
   ]
  },
  {
   "cell_type": "code",
   "execution_count": null,
   "metadata": {},
   "outputs": [],
   "source": [
    "xmean = []\n",
    "for i in range(len(freqs)):\n",
    "    \n",
    "    wrap = cchord * comp_fourier_term(f=freqs[i], t=ctimes)\n",
    "    xmean.append(numpy.mean(wrap.real))\n",
    "\n",
    "xmean = numpy.array(xmean)"
   ]
  },
  {
   "cell_type": "code",
   "execution_count": null,
   "metadata": {},
   "outputs": [],
   "source": [
    "pyplot.figure(figsize=(8,4))\n",
    "pyplot.plot(freqs, abs(xmean))\n",
    "pyplot.xlabel('frequency');"
   ]
  },
  {
   "cell_type": "markdown",
   "metadata": {},
   "source": [
    "From Ref. [2], we know the frequencies used to generate the audio file were `[261.6, 329.6, 392.0, 523.3, 659.3]`, which from the table of frequencies correspond to C4, E4, G4, C5 and E5. Those frequencies look pretty close to the peaks seen in the plot above, if you squint!\n",
    "\n",
    "That is how the Fourier transform works, in broad strokes. In this exploration, we looked at the real part only, and we took its mean value for the wound-up signal around a circle in the complex plane. \n",
    "\n",
    "We have also worked with discrete signals throught this lesson. Sound is made up of _continuous waves_, but we always need to turn that into discrete values to store it digitally.\n",
    "\n",
    "The Fourier transform takes a time-dependent signal $g(t)$ and computes:\n",
    "\n",
    "$$\\begin{equation}\n",
    "     \\hat{g}(f) = \\int_{t_1}^{t_2} g(t) e^{-2\\pi i f t} dt\n",
    "\\end{equation}\n",
    "$$\n",
    "\n",
    "This has real and imaginary parts, but we only looked at the real part. It is an integral—meaning, an infinite sum—while we looked at a mean value, which is a sum of discrete terms, divided by the number of terms. So we got close, but not quite. It is remarkable that the the power of the transform is still obvious even in this \"almost\" Fourier transform.\n",
    "\n",
    "The transform converts the information in the time domain, to the frequency domain, but nothing is lost. In fact, you can recover a signal from its Fourier transform, using the _inverse_ Fourier transform."
   ]
  },
  {
   "cell_type": "markdown",
   "metadata": {},
   "source": [
    "## References\n",
    "\n",
    "1. Josh Comeau (n.d.), [Waveforms](https://pudding.cool/2018/02/waveforms/), an interactive and visual guide.\n",
    "2. Matthew McGonagle (2018), [Making an Audio .wav File of Cantor Tones](https://matthewmcgonagle.github.io/blog/2018/01/05/CantorTones), blog post.\n",
    "3. Grant Sanderson (2018), [But what is the Fourier Transform? A visual introduction](https://www.youtube.com/watch?v=spUNpyF58BY), video on YouTube."
   ]
  },
  {
   "cell_type": "code",
   "execution_count": null,
   "metadata": {},
   "outputs": [],
   "source": [
    "# Execute this cell to load the notebook's style sheet, then ignore it\n",
    "from IPython.core.display import HTML\n",
    "css_file = '../style/custom.css'\n",
    "HTML(open(css_file, \"r\").read())"
   ]
  }
 ],
 "metadata": {
  "kernelspec": {
   "display_name": "Python 3",
   "language": "python",
   "name": "python3"
  },
  "language_info": {
   "codemirror_mode": {
    "name": "ipython",
    "version": 3
   },
   "file_extension": ".py",
   "mimetype": "text/x-python",
   "name": "python",
   "nbconvert_exporter": "python",
   "pygments_lexer": "ipython3",
   "version": "3.8.5"
  }
 },
 "nbformat": 4,
 "nbformat_minor": 2
}
