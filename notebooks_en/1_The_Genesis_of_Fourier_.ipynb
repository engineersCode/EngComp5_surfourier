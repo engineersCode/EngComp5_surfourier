{
 "cells": [
  {
   "cell_type": "markdown",
   "metadata": {},
   "source": [
    "###### Content under Creative Commons Attribution license CC-BY 4.0, code under BSD 3-Clause License © 2019 L.A. Barba, N.C. Clementi"
   ]
  },
  {
   "cell_type": "markdown",
   "metadata": {},
   "source": [
    "# From waves to Fourier"
   ]
  },
  {
   "cell_type": "markdown",
   "metadata": {},
   "source": [
    "This notebook is based on a chapter one of the book *Fourier Analysis an Introduction* by E.M Stein and R. Shakarchi. \n",
    "\n",
    "The development of Fourier Analysis started by the investigation of the problem of vibrating string and heat flow. The differential equations that describe these two phenomena were solved in what we know today as **Fourier Series**. \n",
    "\n",
    "For the purpose of this notebook, we will concentrate in understanding waves and how their study lead to Fourier Analysis. \n"
   ]
  },
  {
   "cell_type": "markdown",
   "metadata": {},
   "source": [
    "## Vibrating strings\n",
    "\n",
    "### Simple harmonic motion\n",
    "\n",
    "In the module [EngComp3_flyatchange](https://openedx.seas.gwu.edu/courses/course-v1:GW+EngComp3+2018/about) we studied the *Simple harmonic motion* which describes how simple oscillators, such us a mass attached to a horizontal spring, behave.\n",
    "\n",
    "This problem is represented by the equation:\n",
    "\n",
    "\\begin{equation}\n",
    "    y''(t) + c^2 y(t) = 0\n",
    "\\end{equation}\n",
    "\n",
    "where $c = \\sqrt{k/m}$. The general solution of this problem takes the form:\n",
    "\n",
    "\\begin{equation}\n",
    "    y(t) = a \\text{cos}(ct) + b\\text{sin}(ct) \n",
    "\\end{equation}\n",
    "\n",
    "with $a$ and $b$ constants that will be determined by the initial conditions. Due to the beauty of trigonometric equations, the general solution can be rewritten as:\n",
    "\n",
    "\\begin{equation}\n",
    "    a\\text{cos}(ct) + b\\text{sin}(ct) = A\\text{cos}(ct-\\varphi)\n",
    "\\end{equation}\n",
    "\n",
    "where  $A = \\sqrt{a^2 + b^2}$ is the \"amplitude\" of the motion, $c$ is the \"natural frequency\", $\\varphi$ its known as the \"phase\", and $2\\pi/c$ is the period of the motion. \n",
    "\n",
    "To visualize how a this wave looks like we will plot the following function for different values of $A$ and $\\varphi$. For now we will use $c=1$"
   ]
  },
  {
   "cell_type": "code",
   "execution_count": 1,
   "metadata": {},
   "outputs": [],
   "source": [
    "import numpy\n",
    "from matplotlib import pyplot\n",
    "%matplotlib inline\n",
    "\n",
    "pyplot.rc('font', family='serif', size=14)"
   ]
  },
  {
   "cell_type": "code",
   "execution_count": 2,
   "metadata": {},
   "outputs": [],
   "source": [
    "def wave(A, phi, t):\n",
    "    \"\"\"\n",
    "    Computes a function Acos(ct-phi) with c=1\n",
    "    \n",
    "    Arguments:\n",
    "    A  : float, amplitude.\n",
    "    phi: float, phase (angle in radiands)\n",
    "    t  : array, time. \n",
    "    \"\"\"\n",
    "    \n",
    "    y = A * numpy.cos(t - phi)\n",
    "    \n",
    "    return y\n",
    "    "
   ]
  },
  {
   "cell_type": "code",
   "execution_count": 3,
   "metadata": {},
   "outputs": [],
   "source": [
    "time = numpy.linspace(0, 4*numpy.pi, 81) "
   ]
  },
  {
   "cell_type": "code",
   "execution_count": 4,
   "metadata": {},
   "outputs": [],
   "source": [
    "#This values will just plot a cosine\n",
    "Ao = 1\n",
    "phio = 0"
   ]
  },
  {
   "cell_type": "code",
   "execution_count": 5,
   "metadata": {},
   "outputs": [
    {
     "data": {
      "image/png": "[encoded data removed]",
      "text/plain": [
       "<Figure size 432x288 with 1 Axes>"
      ]
     },
     "metadata": {},
     "output_type": "display_data"
    }
   ],
   "source": [
    "pyplot.plot(time, wave(Ao, phio, time), label='cos(t)')\n",
    "## Add a line here to plot with different values of A and phi\n",
    "\n",
    "pyplot.legend()\n",
    "pyplot.grid();"
   ]
  },
  {
   "cell_type": "markdown",
   "metadata": {},
   "source": [
    "#### Exercise:\n",
    "Rewrite the wave function to accept different values of $c$ and make some plots to see how it behaves."
   ]
  },
  {
   "cell_type": "markdown",
   "metadata": {},
   "source": [
    "### Standing and traveling waves\n",
    "\n",
    "We can describe vibrating strings using one dimensional wave motions. We will describe two kinds of motions:\n",
    "\n",
    "**Standing waves**\n",
    "\n",
    "Wavelike motions described by functions of the way $y=u(x,t)$, that can be separate into $u(x,t) = \\varphi(x) \\psi(t)$. We can think of this as, $\\varphi(x)$ being the initial profile of the wave at $t=0$, and $\\psi(t)$ an amplifying fact that depends on time. \n",
    "\n",
    "Note that the way standing waves look like, suggest the mathematical idea of \"separation of variables\". We will come back to this later. \n",
    "\n",
    "<img src=\"../images/standing_wave.png\" style=\"width: 400px;\"/>\n",
    "\n",
    "##### Standing wave at $t=0$ and $t=t_0$"
   ]
  },
  {
   "cell_type": "markdown",
   "metadata": {},
   "source": [
    "* Traveling waves\n",
    "\n",
    "In this case we have an initial profile $F(x)$ such that $u(x,t)$ is equal to $F(x)$ when $t=0$. As we move in time, this profile moves to the right by $ct$ units, where $c>0$ is the *velocity*:\n",
    "\n",
    "\\begin{equation}\n",
    "    u(x,t) =  F(x - ct)\n",
    "\\end{equation}\n",
    "\n",
    "\n",
    "<img src=\"../images/travelling_wave.png\" style=\"width: 500px;\"/>\n",
    "\n",
    "##### Traveling wave at $t=0$ and $t=t_0$"
   ]
  },
  {
   "cell_type": "code",
   "execution_count": null,
   "metadata": {},
   "outputs": [],
   "source": [
    "# Execute this cell to load the notebook's style sheet, then ignore it\n",
    "from IPython.core.display import HTML\n",
    "css_file = '../style/custom.css'\n",
    "HTML(open(css_file, \"r\").read())"
   ]
  }
 ],
 "metadata": {
  "kernelspec": {
   "display_name": "Python 3",
   "language": "python",
   "name": "python3"
  },
  "language_info": {
   "codemirror_mode": {
    "name": "ipython",
    "version": 3
   },
   "file_extension": ".py",
   "mimetype": "text/x-python",
   "name": "python",
   "nbconvert_exporter": "python",
   "pygments_lexer": "ipython3",
   "version": "3.6.8"
  }
 },
 "nbformat": 4,
 "nbformat_minor": 2
}
