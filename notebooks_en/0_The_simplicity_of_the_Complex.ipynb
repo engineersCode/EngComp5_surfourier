{
 "cells": [
  {
   "cell_type": "markdown",
   "metadata": {},
   "source": [
    "###### Content under Creative Commons Attribution license CC-BY 4.0, code under BSD 3-Clause License © 2019 L.A. Barba, N.C. Clementi"
   ]
  },
  {
   "cell_type": "markdown",
   "metadata": {},
   "source": [
    "# The Complexity of getting real"
   ]
  },
  {
   "cell_type": "code",
   "execution_count": 5,
   "metadata": {},
   "outputs": [],
   "source": [
    "from IPython.display import Image"
   ]
  },
  {
   "cell_type": "code",
   "execution_count": 8,
   "metadata": {},
   "outputs": [
    {
     "data": {
      "text/html": [
       "<img src=\"https://imgs.xkcd.com/comics/complex_conjugate.png\"/>"
      ],
      "text/plain": [
       "<IPython.core.display.Image object>"
      ]
     },
     "execution_count": 8,
     "metadata": {},
     "output_type": "execute_result"
    }
   ],
   "source": [
    "Image(url=\"https://imgs.xkcd.com/comics/complex_conjugate.png\")"
   ]
  },
  {
   "cell_type": "markdown",
   "metadata": {},
   "source": [
    "Every time we hear \"Complex numbers\" we get scared and we think \"this will be complicated\". However, complex numbers can be great and make our life easier. In this note book, we will learn why complex numbers exist, what properties they have, and how they using them in certain applications can turn a complex problem into a simpler one to handle. \n",
    "\n",
    "Complex numbers are form by the composition of a *Real* number and an *Imaginary* one. *Real* numbers, according to [Wikipedia](https://en.wikipedia.org/wiki/Real_number), are the values of continuous quantity that represent a distance along a line. But, what are *Imaginary* numbers?\n",
    "\n",
    "An *Imaginary* number is a complex number that can be written as the multiplication of a real number and the **imaginary unit**, defined as $i^2 = -1$.\n",
    "\n",
    "<img src=\"../images/imaginary_friends.jpg\" style=\"width: 400px;\"/>"
   ]
  },
  {
   "cell_type": "code",
   "execution_count": null,
   "metadata": {},
   "outputs": [],
   "source": []
  }
 ],
 "metadata": {
  "kernelspec": {
   "display_name": "Python 3",
   "language": "python",
   "name": "python3"
  },
  "language_info": {
   "codemirror_mode": {
    "name": "ipython",
    "version": 3
   },
   "file_extension": ".py",
   "mimetype": "text/x-python",
   "name": "python",
   "nbconvert_exporter": "python",
   "pygments_lexer": "ipython3",
   "version": "3.6.7"
  }
 },
 "nbformat": 4,
 "nbformat_minor": 2
}
